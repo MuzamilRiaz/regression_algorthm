{
 "cells": [
  {
   "cell_type": "code",
   "execution_count": 6,
   "id": "582b92a2",
   "metadata": {},
   "outputs": [
    {
     "name": "stdout",
     "output_type": "stream",
     "text": [
      "Twinkle, twinkle, little star\n",
      "  How I wonder what you are! \n",
      "      Up above the world so high, \n",
      "      Like a diamond in the sky.\n",
      "Twinkle,twinkle,little star,\n",
      "Twinkle, twinkle, little star,\n",
      "   How I wonder what you are \n"
     ]
    }
   ],
   "source": [
    "l_a= 'Twinkle, twinkle, little star'\n",
    "l_b= '  How I wonder what you are! '\n",
    "l_c= '      Up above the world so high, '\n",
    "l_d= '      Like a diamond in the sky.'\n",
    "l_e= 'Twinkle,twinkle,little star,'\n",
    "l_f= 'Twinkle, twinkle, little star,'\n",
    "l_g= '   How I wonder what you are '\n",
    "\n",
    "\n",
    "print(l_a)\n",
    "print(l_b)\n",
    "print(l_c)\n",
    "print(l_d)\n",
    "print(l_e)\n",
    "print(l_f)\n",
    "print(l_g)"
   ]
  },
  {
   "cell_type": "markdown",
   "id": "9b26d734",
   "metadata": {},
   "source": [
    "# Question No#2"
   ]
  },
  {
   "cell_type": "code",
   "execution_count": 14,
   "id": "80450874",
   "metadata": {},
   "outputs": [
    {
     "name": "stdout",
     "output_type": "stream",
     "text": [
      "Please Enter the Radius of Circle :   10\n",
      "your Area is:  314.0\n"
     ]
    }
   ],
   "source": [
    "\n",
    "\n",
    "R=input('Please Enter the Radius of Circle :   ')\n",
    "\n",
    "R=float(R)\n",
    "Pi=3.14\n",
    "\n",
    "a= Pi *R**2\n",
    "\n",
    "\n",
    "print('your Area is: ',a)\n"
   ]
  },
  {
   "cell_type": "markdown",
   "id": "0329f7b7",
   "metadata": {},
   "source": [
    "# Question No#3"
   ]
  },
  {
   "cell_type": "code",
   "execution_count": 24,
   "id": "bdf99890",
   "metadata": {},
   "outputs": [
    {
     "name": "stdout",
     "output_type": "stream",
     "text": [
      "Type your First Namesdaf\n",
      "type your Last Nameasfa\n",
      "asfa  sdaf\n"
     ]
    }
   ],
   "source": [
    "a=input('Type your First Name')\n",
    "b=input('type your Last Name')\n",
    "print(b,'',a)"
   ]
  },
  {
   "cell_type": "markdown",
   "id": "b9e7f01b",
   "metadata": {},
   "source": [
    "# Question No#4"
   ]
  },
  {
   "cell_type": "code",
   "execution_count": 37,
   "id": "298e9510",
   "metadata": {},
   "outputs": [
    {
     "ename": "TypeError",
     "evalue": "'method' object is not subscriptable",
     "output_type": "error",
     "traceback": [
      "\u001b[1;31m---------------------------------------------------------------------------\u001b[0m",
      "\u001b[1;31mTypeError\u001b[0m                                 Traceback (most recent call last)",
      "\u001b[1;32m<ipython-input-37-1a5483020e3c>\u001b[0m in \u001b[0;36m<module>\u001b[1;34m\u001b[0m\n\u001b[1;32m----> 1\u001b[1;33m \u001b[0mvalues\u001b[0m\u001b[1;33m=\u001b[0m\u001b[0minput\u001b[0m\u001b[1;33m[\u001b[0m\u001b[1;34m'Type the Numbers with Comma: '\u001b[0m\u001b[1;33m]\u001b[0m\u001b[1;33m\u001b[0m\u001b[1;33m\u001b[0m\u001b[0m\n\u001b[0m\u001b[0;32m      2\u001b[0m \u001b[0mvlaues\u001b[0m \u001b[1;33m=\u001b[0m \u001b[0mlist\u001b[0m\u001b[1;33m\u001b[0m\u001b[1;33m\u001b[0m\u001b[0m\n\u001b[0;32m      3\u001b[0m \u001b[0mprint\u001b[0m\u001b[1;33m(\u001b[0m\u001b[0mtype\u001b[0m\u001b[1;33m(\u001b[0m\u001b[0mlist\u001b[0m\u001b[1;33m)\u001b[0m\u001b[1;33m)\u001b[0m\u001b[1;33m\u001b[0m\u001b[1;33m\u001b[0m\u001b[0m\n\u001b[0;32m      4\u001b[0m \u001b[1;31m#list= tuple\u001b[0m\u001b[1;33m\u001b[0m\u001b[1;33m\u001b[0m\u001b[1;33m\u001b[0m\u001b[0m\n\u001b[0;32m      5\u001b[0m \u001b[1;33m\u001b[0m\u001b[0m\n",
      "\u001b[1;31mTypeError\u001b[0m: 'method' object is not subscriptable"
     ]
    }
   ],
   "source": [
    "values=input('Type the Numbers with Comma: ')\n",
    "vlaues = list\n",
    "print(type(list))\n",
    "#list= tuple\n",
    "\n",
    "#print(type(list))\n",
    "print(type(tuple))"
   ]
  },
  {
   "cell_type": "code",
   "execution_count": null,
   "id": "d5223943",
   "metadata": {},
   "outputs": [],
   "source": []
  },
  {
   "cell_type": "markdown",
   "id": "627bda7a",
   "metadata": {},
   "source": [
    "# Question No # 5"
   ]
  },
  {
   "cell_type": "code",
   "execution_count": 24,
   "id": "a621097a",
   "metadata": {},
   "outputs": [
    {
     "name": "stdout",
     "output_type": "stream",
     "text": [
      "['Red', 'Black']\n"
     ]
    }
   ],
   "source": [
    "color_list= ['Red','Green','White','Black']\n",
    "color_list.remove('Green')\n",
    "color_list.remove('White')\n",
    "\n",
    "print(color_list)"
   ]
  },
  {
   "cell_type": "code",
   "execution_count": null,
   "id": "9b8e4a21",
   "metadata": {},
   "outputs": [],
   "source": []
  },
  {
   "cell_type": "markdown",
   "id": "08dc19d9",
   "metadata": {},
   "source": [
    "# Question No # 6"
   ]
  },
  {
   "cell_type": "code",
   "execution_count": 46,
   "id": "1c4e5b88",
   "metadata": {},
   "outputs": [
    {
     "name": "stdout",
     "output_type": "stream",
     "text": [
      "Type the Value of n 5\n",
      "615\n"
     ]
    }
   ],
   "source": [
    "N = input('Type the Value of n ')\n",
    "N = int(N)\n",
    "B = str(N)\n",
    "C = B\n",
    "D = B+B\n",
    "E = B+B+B\n",
    "\n",
    "F = int(C)+int(D)+int(E)\n",
    "print(F)\n"
   ]
  },
  {
   "cell_type": "code",
   "execution_count": null,
   "id": "64feab4d",
   "metadata": {},
   "outputs": [],
   "source": []
  },
  {
   "cell_type": "markdown",
   "id": "f8193cd4",
   "metadata": {},
   "source": [
    "# Question No # 7"
   ]
  },
  {
   "cell_type": "code",
   "execution_count": null,
   "id": "77720efd",
   "metadata": {},
   "outputs": [],
   "source": []
  },
  {
   "cell_type": "code",
   "execution_count": 69,
   "id": "155f15fc",
   "metadata": {},
   "outputs": [
    {
     "name": "stdout",
     "output_type": "stream",
     "text": [
      "Enter a Number  17\n",
      "you have Entered the same Number\n"
     ]
    }
   ],
   "source": [
    "l_1 = input('Enter a Number  ')\n",
    "l_1 = float(l_1)\n",
    "l_2 = 17\n",
    "\n",
    "if  l_1 > l_2:\n",
    "    l_3= l_1-l_2\n",
    "    l_4= l_3*2\n",
    "    print('Giving you the Doubble: ',l_4)\n",
    "\n",
    "elif l_1 == l_2:\n",
    "    print('you have Entered the same Number')\n",
    "    \n",
    "else:\n",
    "    print('your Value is Less than 17 ')\n",
    "    "
   ]
  },
  {
   "cell_type": "code",
   "execution_count": null,
   "id": "95176a2b",
   "metadata": {},
   "outputs": [],
   "source": []
  },
  {
   "cell_type": "markdown",
   "id": "2d0ebe61",
   "metadata": {},
   "source": [
    "# Question No # 8"
   ]
  },
  {
   "cell_type": "code",
   "execution_count": 116,
   "id": "1efb800f",
   "metadata": {},
   "outputs": [
    {
     "name": "stdout",
     "output_type": "stream",
     "text": [
      "Type your First Value:  11.5\n",
      "Type your Second Value: 10\n",
      "Type your Third Value:  2.3\n",
      "your total Sum of three Numbers  23.8\n"
     ]
    }
   ],
   "source": [
    "l_1= input('Type your First Value:  ')\n",
    "l_1=float(l_1)\n",
    "\n",
    "l_2= input('Type your Second Value: ')\n",
    "l_2=float(l_2)\n",
    "\n",
    "l_3= input('Type your Third Value:  ')\n",
    "l_3=float(l_3)\n",
    "     \n",
    "if l_1==l_2==l_3:\n",
    "    l_4= (l_1+l_2+l_3)*3\n",
    "    print(l_4)\n",
    "else:\n",
    "    l_5= l_1+l_2+l_3\n",
    "    print('your total Sum of three Numbers ', l_5)"
   ]
  },
  {
   "cell_type": "markdown",
   "id": "6f9e0394",
   "metadata": {},
   "source": [
    "# Function"
   ]
  },
  {
   "cell_type": "code",
   "execution_count": null,
   "id": "dd1e5475",
   "metadata": {},
   "outputs": [],
   "source": [
    "print('zeeshan')  -------> parameters value"
   ]
  },
  {
   "cell_type": "code",
   "execution_count": null,
   "id": "3a3aa945",
   "metadata": {},
   "outputs": [],
   "source": [
    "# syntax\n",
    "\n",
    "\n",
    "(x , y) parameters\n",
    "\n",
    "def arithmetic_mean(x , y):        # functoin defination\n",
    "  #  affsd\n",
    "  #  dsaf\n",
    "  #  afds                      # functoin body\n",
    "    "
   ]
  },
  {
   "cell_type": "code",
   "execution_count": 11,
   "id": "94e9e240",
   "metadata": {},
   "outputs": [],
   "source": [
    "def sum_two(x , y):\n",
    "    print(x , y)"
   ]
  },
  {
   "cell_type": "code",
   "execution_count": 15,
   "id": "7db6f7c8",
   "metadata": {},
   "outputs": [],
   "source": [
    "# call the functoin\n"
   ]
  },
  {
   "cell_type": "code",
   "execution_count": 17,
   "id": "54c8f526",
   "metadata": {},
   "outputs": [
    {
     "name": "stdout",
     "output_type": "stream",
     "text": [
      "100 200\n"
     ]
    }
   ],
   "source": [
    "sum_two(100,200)"
   ]
  },
  {
   "cell_type": "code",
   "execution_count": 30,
   "id": "65ed05ef",
   "metadata": {},
   "outputs": [],
   "source": [
    "def square(x):\n",
    "    print(x**2)"
   ]
  },
  {
   "cell_type": "code",
   "execution_count": 32,
   "id": "e64fa48b",
   "metadata": {},
   "outputs": [
    {
     "name": "stdout",
     "output_type": "stream",
     "text": [
      "25\n"
     ]
    }
   ],
   "source": [
    "square(5)"
   ]
  },
  {
   "cell_type": "code",
   "execution_count": 39,
   "id": "7ce0384c",
   "metadata": {},
   "outputs": [],
   "source": [
    "def circle_area(r):\n",
    "    print(3.142*r**2)"
   ]
  },
  {
   "cell_type": "code",
   "execution_count": 40,
   "id": "0b27b81b",
   "metadata": {},
   "outputs": [
    {
     "name": "stdout",
     "output_type": "stream",
     "text": [
      "254.50199999999998\n"
     ]
    }
   ],
   "source": [
    "circle_area(9)"
   ]
  },
  {
   "cell_type": "code",
   "execution_count": 41,
   "id": "ae0a65bd",
   "metadata": {},
   "outputs": [],
   "source": [
    "def ab_square(a , b):\n",
    "    print(a**2+b**2+2*a*b)"
   ]
  },
  {
   "cell_type": "code",
   "execution_count": 42,
   "id": "7dd076e3",
   "metadata": {},
   "outputs": [
    {
     "name": "stdout",
     "output_type": "stream",
     "text": [
      "49\n"
     ]
    }
   ],
   "source": [
    "ab_square(3,4)"
   ]
  },
  {
   "cell_type": "code",
   "execution_count": 43,
   "id": "921e02f1",
   "metadata": {},
   "outputs": [],
   "source": [
    "def miles_converter():\n",
    "    kilometer=float(input('type km'))\n",
    "    print(kilometer*0.6214)\n",
    "\n",
    "    "
   ]
  },
  {
   "cell_type": "code",
   "execution_count": 45,
   "id": "cf4879e6",
   "metadata": {},
   "outputs": [
    {
     "name": "stdout",
     "output_type": "stream",
     "text": [
      "type km10\n",
      "6.2139999999999995\n"
     ]
    }
   ],
   "source": [
    "miles_converter()"
   ]
  },
  {
   "cell_type": "code",
   "execution_count": 47,
   "id": "0a99a6bb",
   "metadata": {},
   "outputs": [],
   "source": [
    "# average = sum of nomber / count of nomber"
   ]
  },
  {
   "cell_type": "code",
   "execution_count": 48,
   "id": "17739b9d",
   "metadata": {},
   "outputs": [],
   "source": [
    "a = [1,2,3,4,5]"
   ]
  },
  {
   "cell_type": "code",
   "execution_count": 49,
   "id": "cb36ea4f",
   "metadata": {},
   "outputs": [
    {
     "data": {
      "text/plain": [
       "15"
      ]
     },
     "execution_count": 49,
     "metadata": {},
     "output_type": "execute_result"
    }
   ],
   "source": [
    "sum(a)"
   ]
  },
  {
   "cell_type": "code",
   "execution_count": 50,
   "id": "e872597f",
   "metadata": {},
   "outputs": [
    {
     "data": {
      "text/plain": [
       "5"
      ]
     },
     "execution_count": 50,
     "metadata": {},
     "output_type": "execute_result"
    }
   ],
   "source": [
    "len(a)"
   ]
  },
  {
   "cell_type": "code",
   "execution_count": 52,
   "id": "0f94d1fb",
   "metadata": {},
   "outputs": [],
   "source": [
    "b = [1,2,3,4,5,6,7,8,9,10]"
   ]
  },
  {
   "cell_type": "code",
   "execution_count": 53,
   "id": "972e894a",
   "metadata": {},
   "outputs": [
    {
     "data": {
      "text/plain": [
       "55"
      ]
     },
     "execution_count": 53,
     "metadata": {},
     "output_type": "execute_result"
    }
   ],
   "source": [
    "sum(b)"
   ]
  },
  {
   "cell_type": "code",
   "execution_count": 54,
   "id": "4300e8f7",
   "metadata": {},
   "outputs": [
    {
     "data": {
      "text/plain": [
       "10"
      ]
     },
     "execution_count": 54,
     "metadata": {},
     "output_type": "execute_result"
    }
   ],
   "source": [
    "len(b)"
   ]
  },
  {
   "cell_type": "code",
   "execution_count": 56,
   "id": "f8389274",
   "metadata": {},
   "outputs": [],
   "source": [
    "a = [1,2,3,4,5,6,7,8,9,10]"
   ]
  },
  {
   "cell_type": "code",
   "execution_count": 61,
   "id": "33a5af85",
   "metadata": {},
   "outputs": [],
   "source": [
    "def average(a):\n",
    "    print(sum (a) / len (a))"
   ]
  },
  {
   "cell_type": "code",
   "execution_count": 62,
   "id": "91936b66",
   "metadata": {},
   "outputs": [
    {
     "name": "stdout",
     "output_type": "stream",
     "text": [
      "5.5\n"
     ]
    }
   ],
   "source": [
    "average(a)"
   ]
  },
  {
   "cell_type": "code",
   "execution_count": null,
   "id": "2a617974",
   "metadata": {},
   "outputs": [],
   "source": [
    "def total_amount():\n",
    "    class_a=float(input('how many tickets are sold of class_a:  '))\n",
    "    class_b=float(input('how many ticktes are sold of calss_b:  '))\n",
    "    calss_c=float(input('how many ticktes are sold of calss_c:  '))\n",
    "    print(class_a*20)\n",
    "    print(class_b*15)\n",
    "    print(class_c*10)"
   ]
  },
  {
   "cell_type": "code",
   "execution_count": null,
   "id": "e64c3e76",
   "metadata": {},
   "outputs": [],
   "source": [
    "total_amount()"
   ]
  },
  {
   "cell_type": "code",
   "execution_count": 69,
   "id": "4ec2ad8d",
   "metadata": {},
   "outputs": [],
   "source": [
    "def odd_identifier():\n",
    "    nomber = float(input('please enter a nomber: '))\n",
    "    if nomber % 2 == 1:\n",
    "        print('your entered nomber is odd')\n",
    "    else:\n",
    "        print('your entered nomber is odd')"
   ]
  },
  {
   "cell_type": "code",
   "execution_count": 71,
   "id": "592e9090",
   "metadata": {},
   "outputs": [
    {
     "name": "stdout",
     "output_type": "stream",
     "text": [
      "please enter a nomber: 1\n",
      "your entered nomber is odd\n"
     ]
    }
   ],
   "source": [
    "odd_identifier()"
   ]
  },
  {
   "cell_type": "code",
   "execution_count": 72,
   "id": "16d417b8",
   "metadata": {},
   "outputs": [],
   "source": [
    "def gpa_identifier():\n",
    "    nomber = float(input('please enter gpa; '))\n",
    "    if nomber>2:\n",
    "        print('your grade is A')\n",
    "    else:\n",
    "        print('ypur grade is B')\n",
    "        "
   ]
  },
  {
   "cell_type": "code",
   "execution_count": 73,
   "id": "c7a576e9",
   "metadata": {},
   "outputs": [
    {
     "name": "stdout",
     "output_type": "stream",
     "text": [
      "please enter gpa; 1.5\n",
      "ypur grade is B\n"
     ]
    }
   ],
   "source": [
    "gpa_identifier()"
   ]
  },
  {
   "cell_type": "code",
   "execution_count": 74,
   "id": "04353456",
   "metadata": {},
   "outputs": [],
   "source": [
    "def doubler(x):\n",
    "    for each_element in x:\n",
    "        print(each_element*2)"
   ]
  },
  {
   "cell_type": "code",
   "execution_count": 75,
   "id": "61553f55",
   "metadata": {},
   "outputs": [
    {
     "name": "stdout",
     "output_type": "stream",
     "text": [
      "2\n",
      "4\n",
      "6\n",
      "8\n"
     ]
    }
   ],
   "source": [
    "a = [1,2,3,4]\n",
    "doubler(a)"
   ]
  },
  {
   "cell_type": "code",
   "execution_count": null,
   "id": "34bc2de4",
   "metadata": {},
   "outputs": [],
   "source": [
    "write a functoin grade_calculator that takes one parameter i.e gpa \n",
    "if gpa = 4 grade-> A+\n",
    "if gpa <4 and>3.7 grade ->\n",
    "if gpa <="
   ]
  },
  {
   "cell_type": "code",
   "execution_count": 81,
   "id": "a61c77f7",
   "metadata": {},
   "outputs": [],
   "source": [
    "def gpa():\n",
    "    gpa = float (input('please enter your gpa: '))\n",
    "    if gpa == 4:\n",
    "        print(\"A+\")\n",
    "    elif gpa <4 and gpa > 3.7:\n",
    "        print(\"A\")\n",
    "    elif gpa <=3.7 and gpa >3.3:\n",
    "        print(\"B\")\n",
    "    elif gpa <= 3.3 and gpa >2.7:\n",
    "        print(\"c\")\n",
    "    else:\n",
    "        print(\"f\")"
   ]
  },
  {
   "cell_type": "code",
   "execution_count": 83,
   "id": "5ad6574f",
   "metadata": {
    "scrolled": true
   },
   "outputs": [
    {
     "name": "stdout",
     "output_type": "stream",
     "text": [
      "please enter your gpa: 4\n",
      "A+\n"
     ]
    }
   ],
   "source": [
    "gpa()"
   ]
  },
  {
   "cell_type": "code",
   "execution_count": 92,
   "id": "e42f7092",
   "metadata": {},
   "outputs": [
    {
     "ename": "SyntaxError",
     "evalue": "invalid syntax (<ipython-input-92-2156e918244d>, line 2)",
     "output_type": "error",
     "traceback": [
      "\u001b[1;36m  File \u001b[1;32m\"<ipython-input-92-2156e918244d>\"\u001b[1;36m, line \u001b[1;32m2\u001b[0m\n\u001b[1;33m    total_amount=float input(\"enter your total amount of shopping: \")\u001b[0m\n\u001b[1;37m                       ^\u001b[0m\n\u001b[1;31mSyntaxError\u001b[0m\u001b[1;31m:\u001b[0m invalid syntax\n"
     ]
    }
   ],
   "source": [
    "def net_payable():\n",
    "    total_amount=float input(\"enter your total amount of shopping: \")\n",
    "    customer_type=(input (\"enter the customer type\"))\n",
    "    if customer_type=='new_customer':\n",
    "        print(0.1)\n",
    "    elif customer_type=='repeat_customer':\n",
    "        print(0.2)\n",
    "    elif customer_type=='premium_customer':\n",
    "        print(0.3)\n",
    "    else customer_type=='premium_repeat':\n",
    "        print(0.4)"
   ]
  },
  {
   "cell_type": "markdown",
   "id": "ef609672",
   "metadata": {},
   "source": [
    "# Function"
   ]
  },
  {
   "cell_type": "code",
   "execution_count": 101,
   "id": "db7d1f74",
   "metadata": {},
   "outputs": [],
   "source": [
    "def diameter(radius):\n",
    "    diameter = 2*radius\n",
    "    print(diameter)\n",
    "    return diameter\n"
   ]
  },
  {
   "cell_type": "code",
   "execution_count": 102,
   "id": "c6fa6baa",
   "metadata": {},
   "outputs": [
    {
     "name": "stdout",
     "output_type": "stream",
     "text": [
      "8\n"
     ]
    },
    {
     "data": {
      "text/plain": [
       "8"
      ]
     },
     "execution_count": 102,
     "metadata": {},
     "output_type": "execute_result"
    }
   ],
   "source": [
    "diameter(4)"
   ]
  },
  {
   "cell_type": "code",
   "execution_count": 108,
   "id": "f6514119",
   "metadata": {},
   "outputs": [],
   "source": [
    "def circumfrence_of_circle(radius):\n",
    "   \n",
    "    area =diameter(radius) *3.14\n",
    "    print(area)"
   ]
  },
  {
   "cell_type": "code",
   "execution_count": 109,
   "id": "61f70c3f",
   "metadata": {},
   "outputs": [
    {
     "name": "stdout",
     "output_type": "stream",
     "text": [
      "8\n",
      "25.12\n"
     ]
    }
   ],
   "source": [
    "circumfrence_of_circle(4)"
   ]
  },
  {
   "cell_type": "markdown",
   "id": "2228515c",
   "metadata": {},
   "source": [
    "# Numpy\n",
    "\n",
    "\n",
    "* numerical python"
   ]
  },
  {
   "cell_type": "code",
   "execution_count": 3,
   "id": "68358953",
   "metadata": {},
   "outputs": [],
   "source": [
    "import numpy as np        # library , packages     # as -> alias"
   ]
  },
  {
   "cell_type": "markdown",
   "id": "481fb216",
   "metadata": {},
   "source": [
    "# Data type\n",
    "\n",
    "\n",
    "\n",
    "\n",
    "*the data type of numpy is array\n",
    "\n"
   ]
  },
  {
   "cell_type": "code",
   "execution_count": 36,
   "id": "33bb7638",
   "metadata": {},
   "outputs": [],
   "source": [
    "a = [1,2,3,4,5]"
   ]
  },
  {
   "cell_type": "code",
   "execution_count": 5,
   "id": "7c9093af",
   "metadata": {},
   "outputs": [
    {
     "data": {
      "text/plain": [
       "array([1, 2, 3, 4, 5])"
      ]
     },
     "execution_count": 5,
     "metadata": {},
     "output_type": "execute_result"
    }
   ],
   "source": [
    "np.array(a)"
   ]
  },
  {
   "cell_type": "code",
   "execution_count": 15,
   "id": "e9b65256",
   "metadata": {},
   "outputs": [],
   "source": [
    "b = [10,20,30,40]\n",
    "c = [1,2,3,4]"
   ]
  },
  {
   "cell_type": "code",
   "execution_count": 16,
   "id": "d6448370",
   "metadata": {},
   "outputs": [
    {
     "data": {
      "text/plain": [
       "array([1, 2, 3, 4])"
      ]
     },
     "execution_count": 16,
     "metadata": {},
     "output_type": "execute_result"
    }
   ],
   "source": [
    "np.array(b)\n",
    "np.array(c)"
   ]
  },
  {
   "cell_type": "code",
   "execution_count": 17,
   "id": "81fd78eb",
   "metadata": {},
   "outputs": [],
   "source": [
    "b_array = np.array(b)\n",
    "c_array = np.array(c)"
   ]
  },
  {
   "cell_type": "code",
   "execution_count": 18,
   "id": "28197cab",
   "metadata": {},
   "outputs": [
    {
     "data": {
      "text/plain": [
       "array([1, 2, 3, 4])"
      ]
     },
     "execution_count": 18,
     "metadata": {},
     "output_type": "execute_result"
    }
   ],
   "source": [
    "b_array\n",
    "c_array"
   ]
  },
  {
   "cell_type": "code",
   "execution_count": 19,
   "id": "45abc128",
   "metadata": {},
   "outputs": [
    {
     "data": {
      "text/plain": [
       "array([11, 22, 33, 44])"
      ]
     },
     "execution_count": 19,
     "metadata": {},
     "output_type": "execute_result"
    }
   ],
   "source": [
    "np.add(b_array, c_array)"
   ]
  },
  {
   "cell_type": "code",
   "execution_count": 20,
   "id": "d845f382",
   "metadata": {},
   "outputs": [
    {
     "data": {
      "text/plain": [
       "array([ 9, 18, 27, 36])"
      ]
     },
     "execution_count": 20,
     "metadata": {},
     "output_type": "execute_result"
    }
   ],
   "source": [
    "np.subtract(b_array ,c_array)"
   ]
  },
  {
   "cell_type": "code",
   "execution_count": 21,
   "id": "8dbeed6b",
   "metadata": {},
   "outputs": [
    {
     "data": {
      "text/plain": [
       "array([ 10,  40,  90, 160])"
      ]
     },
     "execution_count": 21,
     "metadata": {},
     "output_type": "execute_result"
    }
   ],
   "source": [
    "np.multiply(b_array ,c_array)"
   ]
  },
  {
   "cell_type": "code",
   "execution_count": 22,
   "id": "24baff77",
   "metadata": {},
   "outputs": [
    {
     "data": {
      "text/plain": [
       "array([10., 10., 10., 10.])"
      ]
     },
     "execution_count": 22,
     "metadata": {},
     "output_type": "execute_result"
    }
   ],
   "source": [
    "np.divide(b_array ,c_array)"
   ]
  },
  {
   "cell_type": "code",
   "execution_count": 23,
   "id": "8ab0d780",
   "metadata": {},
   "outputs": [
    {
     "data": {
      "text/plain": [
       "25.0"
      ]
     },
     "execution_count": 23,
     "metadata": {},
     "output_type": "execute_result"
    }
   ],
   "source": [
    "np.mean(b_array)"
   ]
  },
  {
   "cell_type": "code",
   "execution_count": 24,
   "id": "7312ef13",
   "metadata": {},
   "outputs": [
    {
     "data": {
      "text/plain": [
       "2.5"
      ]
     },
     "execution_count": 24,
     "metadata": {},
     "output_type": "execute_result"
    }
   ],
   "source": [
    "np.median(c_array)"
   ]
  },
  {
   "cell_type": "code",
   "execution_count": 25,
   "id": "9f45fe35",
   "metadata": {},
   "outputs": [
    {
     "data": {
      "text/plain": [
       "40"
      ]
     },
     "execution_count": 25,
     "metadata": {},
     "output_type": "execute_result"
    }
   ],
   "source": [
    "np.max(b_array)"
   ]
  },
  {
   "cell_type": "code",
   "execution_count": 37,
   "id": "63e33983",
   "metadata": {},
   "outputs": [
    {
     "data": {
      "text/plain": [
       "10"
      ]
     },
     "execution_count": 37,
     "metadata": {},
     "output_type": "execute_result"
    }
   ],
   "source": [
    "np.min(b_array)"
   ]
  },
  {
   "cell_type": "code",
   "execution_count": 38,
   "id": "1c6770b8",
   "metadata": {},
   "outputs": [
    {
     "data": {
      "text/plain": [
       "array([-0.54402111,  0.91294525, -0.98803162,  0.74511316])"
      ]
     },
     "execution_count": 38,
     "metadata": {},
     "output_type": "execute_result"
    }
   ],
   "source": [
    "np.sin(b_array)"
   ]
  },
  {
   "cell_type": "code",
   "execution_count": 39,
   "id": "f6b31e16",
   "metadata": {},
   "outputs": [
    {
     "data": {
      "text/plain": [
       "array([-0.83907153,  0.40808206,  0.15425145, -0.66693806])"
      ]
     },
     "execution_count": 39,
     "metadata": {},
     "output_type": "execute_result"
    }
   ],
   "source": [
    "np.cos(b_array)"
   ]
  },
  {
   "cell_type": "code",
   "execution_count": 47,
   "id": "537d37e4",
   "metadata": {},
   "outputs": [],
   "source": [
    "matrix_1 = np.array([[2,3,4,5] , [3,4,7,9]])"
   ]
  },
  {
   "cell_type": "code",
   "execution_count": 48,
   "id": "60c9411b",
   "metadata": {},
   "outputs": [
    {
     "data": {
      "text/plain": [
       "array([[2, 3, 4, 5],\n",
       "       [3, 4, 7, 9]])"
      ]
     },
     "execution_count": 48,
     "metadata": {},
     "output_type": "execute_result"
    }
   ],
   "source": [
    "matrix_1"
   ]
  },
  {
   "cell_type": "code",
   "execution_count": 49,
   "id": "a276edfd",
   "metadata": {},
   "outputs": [
    {
     "data": {
      "text/plain": [
       "2"
      ]
     },
     "execution_count": 49,
     "metadata": {},
     "output_type": "execute_result"
    }
   ],
   "source": [
    "np.ndim(matrix_1)"
   ]
  },
  {
   "cell_type": "markdown",
   "id": "96b02bf0",
   "metadata": {},
   "source": [
    "#  Broadcasting"
   ]
  },
  {
   "cell_type": "code",
   "execution_count": 50,
   "id": "67a6e4e4",
   "metadata": {},
   "outputs": [
    {
     "data": {
      "text/plain": [
       "(2, 4)"
      ]
     },
     "execution_count": 50,
     "metadata": {},
     "output_type": "execute_result"
    }
   ],
   "source": [
    "np.shape(matrix_1)"
   ]
  },
  {
   "cell_type": "code",
   "execution_count": 52,
   "id": "a0696d06",
   "metadata": {},
   "outputs": [
    {
     "data": {
      "text/plain": [
       "8"
      ]
     },
     "execution_count": 52,
     "metadata": {},
     "output_type": "execute_result"
    }
   ],
   "source": [
    "np.size(matrix_1)"
   ]
  },
  {
   "cell_type": "code",
   "execution_count": 58,
   "id": "3928ebd3",
   "metadata": {},
   "outputs": [
    {
     "name": "stdout",
     "output_type": "stream",
     "text": [
      "[[ 4  6  8 10]\n",
      " [ 6  8 14 18]]\n",
      "413 µs ± 0 ns per loop (mean ± std. dev. of 1 run, 1 loop each)\n"
     ]
    }
   ],
   "source": [
    "%%timeit -r1 -n1 \n",
    "\n",
    "print(matrix_1 * 2)"
   ]
  },
  {
   "cell_type": "code",
   "execution_count": 61,
   "id": "5c02e819",
   "metadata": {},
   "outputs": [],
   "source": [
    "b = np.array([10,20,30,40])\n",
    "c = np.array([3,5,3,4])"
   ]
  },
  {
   "cell_type": "code",
   "execution_count": 63,
   "id": "d05bbb28",
   "metadata": {},
   "outputs": [
    {
     "name": "stdout",
     "output_type": "stream",
     "text": [
      "[[1.         0.13483997]\n",
      " [0.13483997 1.        ]]\n",
      "1.04 ms ± 0 ns per loop (mean ± std. dev. of 1 run, 1 loop each)\n"
     ]
    }
   ],
   "source": [
    "%%timeit -r1 -n1\n",
    "\n",
    "print(np.corrcoef(b,c))"
   ]
  },
  {
   "cell_type": "code",
   "execution_count": null,
   "id": "bd7f088b",
   "metadata": {},
   "outputs": [],
   "source": []
  },
  {
   "cell_type": "code",
   "execution_count": null,
   "id": "c00878ce",
   "metadata": {},
   "outputs": [],
   "source": []
  },
  {
   "cell_type": "code",
   "execution_count": null,
   "id": "017ba7b2",
   "metadata": {},
   "outputs": [],
   "source": []
  },
  {
   "cell_type": "code",
   "execution_count": null,
   "id": "3805c299",
   "metadata": {},
   "outputs": [],
   "source": []
  },
  {
   "cell_type": "markdown",
   "id": "92d44ddf",
   "metadata": {},
   "source": [
    "# total nomber of brackets at the start or at the end indicates the nomber of dimensoins of an object\n"
   ]
  },
  {
   "cell_type": "code",
   "execution_count": null,
   "id": "ac06d831",
   "metadata": {},
   "outputs": [],
   "source": [
    "# log,std,var,corr,arange,linspace"
   ]
  },
  {
   "cell_type": "code",
   "execution_count": 67,
   "id": "0fd59b6d",
   "metadata": {},
   "outputs": [
    {
     "data": {
      "text/plain": [
       "array([ 1,  2,  3,  4,  5,  6,  7,  8,  9, 10, 11, 12, 13, 14, 15, 16, 17,\n",
       "       18, 19, 20])"
      ]
     },
     "execution_count": 67,
     "metadata": {},
     "output_type": "execute_result"
    }
   ],
   "source": [
    "# arange (starting point, ending point, step)\n",
    "\n",
    "\n",
    "np.arange(1,21,1)"
   ]
  },
  {
   "cell_type": "code",
   "execution_count": 70,
   "id": "a1a69bc3",
   "metadata": {},
   "outputs": [
    {
     "data": {
      "text/plain": [
       "array([  6,   8,  10,  12,  14,  16,  18,  20,  22,  24,  26,  28,  30,\n",
       "        32,  34,  36,  38,  40,  42,  44,  46,  48,  50,  52,  54,  56,\n",
       "        58,  60,  62,  64,  66,  68,  70,  72,  74,  76,  78,  80,  82,\n",
       "        84,  86,  88,  90,  92,  94,  96,  98, 100, 102, 104, 106, 108,\n",
       "       110, 112, 114, 116, 118, 120, 122, 124, 126, 128, 130, 132, 134,\n",
       "       136, 138, 140, 142, 144, 146, 148, 150, 152, 154, 156, 158, 160,\n",
       "       162, 164, 166, 168, 170, 172, 174, 176, 178, 180, 182, 184, 186,\n",
       "       188, 190, 192, 194, 196, 198, 200, 202, 204, 206, 208, 210, 212,\n",
       "       214, 216, 218, 220, 222, 224, 226, 228, 230, 232, 234, 236, 238,\n",
       "       240, 242, 244, 246, 248, 250, 252, 254, 256, 258, 260, 262, 264,\n",
       "       266, 268, 270, 272, 274, 276, 278, 280, 282, 284, 286, 288, 290,\n",
       "       292, 294, 296, 298, 300, 302, 304, 306, 308, 310, 312, 314, 316,\n",
       "       318, 320, 322, 324, 326, 328, 330, 332, 334, 336, 338, 340, 342,\n",
       "       344, 346, 348, 350, 352, 354, 356, 358, 360, 362, 364, 366, 368,\n",
       "       370, 372, 374, 376, 378, 380, 382, 384, 386, 388, 390, 392, 394,\n",
       "       396, 398, 400, 402, 404, 406, 408, 410, 412, 414, 416, 418, 420,\n",
       "       422, 424, 426, 428, 430, 432, 434, 436, 438, 440, 442, 444, 446,\n",
       "       448, 450, 452, 454, 456, 458, 460, 462, 464, 466, 468, 470, 472,\n",
       "       474, 476, 478, 480, 482, 484, 486, 488, 490, 492, 494, 496, 498,\n",
       "       500])"
      ]
     },
     "execution_count": 70,
     "metadata": {},
     "output_type": "execute_result"
    }
   ],
   "source": [
    "np.arange(6,501,2)"
   ]
  },
  {
   "cell_type": "code",
   "execution_count": 73,
   "id": "4f74bfb0",
   "metadata": {},
   "outputs": [
    {
     "data": {
      "text/plain": [
       "array([ 5., 10., 15., 20., 25., 30., 35., 40., 45., 50.])"
      ]
     },
     "execution_count": 73,
     "metadata": {},
     "output_type": "execute_result"
    }
   ],
   "source": [
    "#linspace         (starting point, ending point, no of classes)\n",
    "\n",
    "\n",
    "\n",
    "np.linspace(5,50,10)"
   ]
  },
  {
   "cell_type": "code",
   "execution_count": 74,
   "id": "e87fc007",
   "metadata": {},
   "outputs": [
    {
     "data": {
      "text/plain": [
       "array([2, 3, 4, 5, 6, 7])"
      ]
     },
     "execution_count": 74,
     "metadata": {},
     "output_type": "execute_result"
    }
   ],
   "source": [
    "a = np.array([2,3,4,5,6,7])\n",
    "a"
   ]
  },
  {
   "cell_type": "code",
   "execution_count": 75,
   "id": "f3fe7adb",
   "metadata": {},
   "outputs": [
    {
     "data": {
      "text/plain": [
       "array([[2, 3],\n",
       "       [4, 5],\n",
       "       [6, 7]])"
      ]
     },
     "execution_count": 75,
     "metadata": {},
     "output_type": "execute_result"
    }
   ],
   "source": [
    "a.reshape(3,2)"
   ]
  },
  {
   "cell_type": "code",
   "execution_count": 92,
   "id": "bdeed823",
   "metadata": {},
   "outputs": [],
   "source": [
    "x = np.arange(6,26,1)"
   ]
  },
  {
   "cell_type": "code",
   "execution_count": 93,
   "id": "c856d205",
   "metadata": {},
   "outputs": [
    {
     "data": {
      "text/plain": [
       "array([ 6,  7,  8,  9, 10, 11, 12, 13, 14, 15, 16, 17, 18, 19, 20, 21, 22,\n",
       "       23, 24, 25])"
      ]
     },
     "execution_count": 93,
     "metadata": {},
     "output_type": "execute_result"
    }
   ],
   "source": [
    "x"
   ]
  },
  {
   "cell_type": "code",
   "execution_count": 98,
   "id": "e38b0a62",
   "metadata": {},
   "outputs": [
    {
     "data": {
      "text/plain": [
       "array([[ 6,  7,  8,  9, 10, 11, 12, 13, 14, 15],\n",
       "       [16, 17, 18, 19, 20, 21, 22, 23, 24, 25]])"
      ]
     },
     "execution_count": 98,
     "metadata": {},
     "output_type": "execute_result"
    }
   ],
   "source": [
    "x.reshape(2,10)"
   ]
  },
  {
   "cell_type": "markdown",
   "id": "26efa69e",
   "metadata": {},
   "source": [
    "# Read the documentation"
   ]
  },
  {
   "cell_type": "code",
   "execution_count": null,
   "id": "184d3e98",
   "metadata": {},
   "outputs": [],
   "source": [
    "x.resize(print())"
   ]
  },
  {
   "cell_type": "markdown",
   "id": "6b6ec791",
   "metadata": {},
   "source": [
    "# pandas"
   ]
  },
  {
   "cell_type": "code",
   "execution_count": 1,
   "id": "af916093",
   "metadata": {},
   "outputs": [],
   "source": [
    "import pandas as pd "
   ]
  },
  {
   "cell_type": "markdown",
   "id": "f869fb33",
   "metadata": {},
   "source": [
    "# import data set"
   ]
  },
  {
   "cell_type": "code",
   "execution_count": 6,
   "id": "4379bfba",
   "metadata": {},
   "outputs": [
    {
     "ename": "NameError",
     "evalue": "name 'pd' is not defined",
     "output_type": "error",
     "traceback": [
      "\u001b[1;31m---------------------------------------------------------------------------\u001b[0m",
      "\u001b[1;31mNameError\u001b[0m                                 Traceback (most recent call last)",
      "\u001b[1;32m<ipython-input-6-2b4cafe20c20>\u001b[0m in \u001b[0;36m<module>\u001b[1;34m\u001b[0m\n\u001b[1;32m----> 1\u001b[1;33m \u001b[0mproduct_table\u001b[0m \u001b[1;33m=\u001b[0m \u001b[0mpd\u001b[0m\u001b[1;33m.\u001b[0m\u001b[0mread_excel\u001b[0m\u001b[1;33m(\u001b[0m\u001b[1;34mr'C:\\Users\\fast\\Downloads\\Adventure Works 2020 (1).xlsx'\u001b[0m\u001b[1;33m,\u001b[0m\u001b[0msheet_name\u001b[0m\u001b[1;33m=\u001b[0m\u001b[1;34m'Products'\u001b[0m\u001b[1;33m)\u001b[0m\u001b[1;33m\u001b[0m\u001b[1;33m\u001b[0m\u001b[0m\n\u001b[0m\u001b[0;32m      2\u001b[0m \u001b[0msales_table\u001b[0m \u001b[1;33m=\u001b[0m  \u001b[0mpd\u001b[0m\u001b[1;33m.\u001b[0m\u001b[0mread_excel\u001b[0m\u001b[1;33m(\u001b[0m\u001b[1;34mr'C:\\Users\\fast\\Downloads\\Adventure Works 2020 (1).xlsx'\u001b[0m\u001b[1;33m,\u001b[0m\u001b[0msheet_name\u001b[0m\u001b[1;33m=\u001b[0m\u001b[1;34m'Sales'\u001b[0m\u001b[1;33m)\u001b[0m\u001b[1;33m\u001b[0m\u001b[1;33m\u001b[0m\u001b[0m\n\u001b[0;32m      3\u001b[0m \u001b[0mcustomers_table\u001b[0m \u001b[1;33m=\u001b[0m  \u001b[0mpd\u001b[0m\u001b[1;33m.\u001b[0m\u001b[0mread_excel\u001b[0m\u001b[1;33m(\u001b[0m\u001b[1;34mr'C:\\Users\\fast\\Downloads\\Adventure Works 2020 (1).xlsx'\u001b[0m\u001b[1;33m,\u001b[0m\u001b[0msheet_name\u001b[0m\u001b[1;33m=\u001b[0m\u001b[1;34m'Customers'\u001b[0m\u001b[1;33m)\u001b[0m\u001b[1;33m\u001b[0m\u001b[1;33m\u001b[0m\u001b[0m\n",
      "\u001b[1;31mNameError\u001b[0m: name 'pd' is not defined"
     ]
    }
   ],
   "source": [
    "product_table = pd.read_excel(r'C:\\Users\\fast\\Downloads\\Adventure Works 2020 (1).xlsx',sheet_name='Products')\n",
    "sales_table =  pd.read_excel(r'C:\\Users\\fast\\Downloads\\Adventure Works 2020 (1).xlsx',sheet_name='Sales')\n",
    "customers_table =  pd.read_excel(r'C:\\Users\\fast\\Downloads\\Adventure Works 2020 (1).xlsx',sheet_name='Customers')"
   ]
  },
  {
   "cell_type": "code",
   "execution_count": 7,
   "id": "d88f8384",
   "metadata": {},
   "outputs": [
    {
     "ename": "NameError",
     "evalue": "name 'product_table' is not defined",
     "output_type": "error",
     "traceback": [
      "\u001b[1;31m---------------------------------------------------------------------------\u001b[0m",
      "\u001b[1;31mNameError\u001b[0m                                 Traceback (most recent call last)",
      "\u001b[1;32m<ipython-input-7-d0546701b71c>\u001b[0m in \u001b[0;36m<module>\u001b[1;34m\u001b[0m\n\u001b[1;32m----> 1\u001b[1;33m \u001b[0mproduct_table\u001b[0m\u001b[1;33m\u001b[0m\u001b[1;33m\u001b[0m\u001b[0m\n\u001b[0m\u001b[0;32m      2\u001b[0m \u001b[0msales_table\u001b[0m\u001b[1;33m\u001b[0m\u001b[1;33m\u001b[0m\u001b[0m\n\u001b[0;32m      3\u001b[0m \u001b[0mcustomers_table\u001b[0m\u001b[1;33m\u001b[0m\u001b[1;33m\u001b[0m\u001b[0m\n",
      "\u001b[1;31mNameError\u001b[0m: name 'product_table' is not defined"
     ]
    }
   ],
   "source": [
    "product_table\n",
    "sales_table\n",
    "customers_table"
   ]
  },
  {
   "cell_type": "markdown",
   "id": "c9973811",
   "metadata": {},
   "source": [
    "# Exploretory data analysis\n",
    "\n",
    "\n",
    "* Pandas ----> Table ------> DataFrame\n",
    "* Pandas ----->column ------>Sereis\n",
    "* Index ------->Row Nomber\n",
    "* Inplace = True ----> Make the changes in original table permanentaly\n",
    "* False = 0, True = 1"
   ]
  },
  {
   "cell_type": "markdown",
   "id": "e266810a",
   "metadata": {},
   "source": [
    "# display top rows"
   ]
  },
  {
   "cell_type": "code",
   "execution_count": 21,
   "id": "7afe6cef",
   "metadata": {},
   "outputs": [
    {
     "data": {
      "text/html": [
       "<div>\n",
       "<style scoped>\n",
       "    .dataframe tbody tr th:only-of-type {\n",
       "        vertical-align: middle;\n",
       "    }\n",
       "\n",
       "    .dataframe tbody tr th {\n",
       "        vertical-align: top;\n",
       "    }\n",
       "\n",
       "    .dataframe thead th {\n",
       "        text-align: right;\n",
       "    }\n",
       "</style>\n",
       "<table border=\"1\" class=\"dataframe\">\n",
       "  <thead>\n",
       "    <tr style=\"text-align: right;\">\n",
       "      <th></th>\n",
       "      <th>ProductKey</th>\n",
       "      <th>ProductSubcategoryKey</th>\n",
       "      <th>ProductName</th>\n",
       "      <th>StandardCost</th>\n",
       "      <th>Color</th>\n",
       "      <th>SafetyStockLevel</th>\n",
       "      <th>ListPrice</th>\n",
       "      <th>Size</th>\n",
       "      <th>SizeRange</th>\n",
       "      <th>Weight</th>\n",
       "      <th>...</th>\n",
       "      <th>ProductLine</th>\n",
       "      <th>DealerPrice</th>\n",
       "      <th>Class</th>\n",
       "      <th>ModelName</th>\n",
       "      <th>Description</th>\n",
       "      <th>Status</th>\n",
       "      <th>SubCategory</th>\n",
       "      <th>Category</th>\n",
       "      <th>StartDate</th>\n",
       "      <th>EndDate</th>\n",
       "    </tr>\n",
       "  </thead>\n",
       "  <tbody>\n",
       "    <tr>\n",
       "      <th>0</th>\n",
       "      <td>362</td>\n",
       "      <td>1</td>\n",
       "      <td>Mountain-200 Black, 46</td>\n",
       "      <td>1105.8100</td>\n",
       "      <td>Black</td>\n",
       "      <td>100</td>\n",
       "      <td>2049.0982</td>\n",
       "      <td>46.0</td>\n",
       "      <td>42-46 CM</td>\n",
       "      <td>24.13</td>\n",
       "      <td>...</td>\n",
       "      <td>M</td>\n",
       "      <td>1229.4589</td>\n",
       "      <td>H</td>\n",
       "      <td>Mountain-200</td>\n",
       "      <td>Serious back-country riding. Perfect for all l...</td>\n",
       "      <td>NaN</td>\n",
       "      <td>Mountain Bikes</td>\n",
       "      <td>Bikes</td>\n",
       "      <td>2017-07-01</td>\n",
       "      <td>2018-06-30</td>\n",
       "    </tr>\n",
       "    <tr>\n",
       "      <th>1</th>\n",
       "      <td>363</td>\n",
       "      <td>1</td>\n",
       "      <td>Mountain-200 Black, 46</td>\n",
       "      <td>1251.9813</td>\n",
       "      <td>Black</td>\n",
       "      <td>100</td>\n",
       "      <td>2294.9900</td>\n",
       "      <td>46.0</td>\n",
       "      <td>42-46 CM</td>\n",
       "      <td>24.13</td>\n",
       "      <td>...</td>\n",
       "      <td>M</td>\n",
       "      <td>1376.9940</td>\n",
       "      <td>H</td>\n",
       "      <td>Mountain-200</td>\n",
       "      <td>Serious back-country riding. Perfect for all l...</td>\n",
       "      <td>Current</td>\n",
       "      <td>Mountain Bikes</td>\n",
       "      <td>Bikes</td>\n",
       "      <td>2018-07-01</td>\n",
       "      <td>NaT</td>\n",
       "    </tr>\n",
       "    <tr>\n",
       "      <th>2</th>\n",
       "      <td>364</td>\n",
       "      <td>1</td>\n",
       "      <td>Mountain-300 Black, 38</td>\n",
       "      <td>598.4354</td>\n",
       "      <td>Black</td>\n",
       "      <td>100</td>\n",
       "      <td>1079.9900</td>\n",
       "      <td>38.0</td>\n",
       "      <td>38-40 CM</td>\n",
       "      <td>25.35</td>\n",
       "      <td>...</td>\n",
       "      <td>M</td>\n",
       "      <td>647.9940</td>\n",
       "      <td>M</td>\n",
       "      <td>Mountain-300</td>\n",
       "      <td>For true trail addicts.  An extremely durable ...</td>\n",
       "      <td>NaN</td>\n",
       "      <td>Mountain Bikes</td>\n",
       "      <td>Bikes</td>\n",
       "      <td>2017-07-01</td>\n",
       "      <td>2018-06-30</td>\n",
       "    </tr>\n",
       "    <tr>\n",
       "      <th>3</th>\n",
       "      <td>365</td>\n",
       "      <td>1</td>\n",
       "      <td>Mountain-300 Black, 40</td>\n",
       "      <td>598.4354</td>\n",
       "      <td>Black</td>\n",
       "      <td>100</td>\n",
       "      <td>1079.9900</td>\n",
       "      <td>40.0</td>\n",
       "      <td>38-40 CM</td>\n",
       "      <td>25.77</td>\n",
       "      <td>...</td>\n",
       "      <td>M</td>\n",
       "      <td>647.9940</td>\n",
       "      <td>M</td>\n",
       "      <td>Mountain-300</td>\n",
       "      <td>For true trail addicts.  An extremely durable ...</td>\n",
       "      <td>NaN</td>\n",
       "      <td>Mountain Bikes</td>\n",
       "      <td>Bikes</td>\n",
       "      <td>2017-07-01</td>\n",
       "      <td>2018-06-30</td>\n",
       "    </tr>\n",
       "    <tr>\n",
       "      <th>4</th>\n",
       "      <td>587</td>\n",
       "      <td>1</td>\n",
       "      <td>Mountain-400-W Silver, 38</td>\n",
       "      <td>419.7784</td>\n",
       "      <td>Silver</td>\n",
       "      <td>100</td>\n",
       "      <td>769.4900</td>\n",
       "      <td>38.0</td>\n",
       "      <td>38-40 CM</td>\n",
       "      <td>26.35</td>\n",
       "      <td>...</td>\n",
       "      <td>M</td>\n",
       "      <td>461.6940</td>\n",
       "      <td>M</td>\n",
       "      <td>Mountain-400-W</td>\n",
       "      <td>This bike delivers a high-level of performance...</td>\n",
       "      <td>Current</td>\n",
       "      <td>Mountain Bikes</td>\n",
       "      <td>Bikes</td>\n",
       "      <td>2018-07-01</td>\n",
       "      <td>NaT</td>\n",
       "    </tr>\n",
       "  </tbody>\n",
       "</table>\n",
       "<p>5 rows × 21 columns</p>\n",
       "</div>"
      ],
      "text/plain": [
       "   ProductKey  ProductSubcategoryKey                ProductName  StandardCost  \\\n",
       "0         362                      1     Mountain-200 Black, 46     1105.8100   \n",
       "1         363                      1     Mountain-200 Black, 46     1251.9813   \n",
       "2         364                      1     Mountain-300 Black, 38      598.4354   \n",
       "3         365                      1     Mountain-300 Black, 40      598.4354   \n",
       "4         587                      1  Mountain-400-W Silver, 38      419.7784   \n",
       "\n",
       "    Color  SafetyStockLevel  ListPrice  Size SizeRange  Weight  ...  \\\n",
       "0   Black               100  2049.0982  46.0  42-46 CM   24.13  ...   \n",
       "1   Black               100  2294.9900  46.0  42-46 CM   24.13  ...   \n",
       "2   Black               100  1079.9900  38.0  38-40 CM   25.35  ...   \n",
       "3   Black               100  1079.9900  40.0  38-40 CM   25.77  ...   \n",
       "4  Silver               100   769.4900  38.0  38-40 CM   26.35  ...   \n",
       "\n",
       "   ProductLine DealerPrice  Class       ModelName  \\\n",
       "0            M   1229.4589      H    Mountain-200   \n",
       "1            M   1376.9940      H    Mountain-200   \n",
       "2            M    647.9940      M    Mountain-300   \n",
       "3            M    647.9940      M    Mountain-300   \n",
       "4            M    461.6940      M  Mountain-400-W   \n",
       "\n",
       "                                         Description   Status     SubCategory  \\\n",
       "0  Serious back-country riding. Perfect for all l...      NaN  Mountain Bikes   \n",
       "1  Serious back-country riding. Perfect for all l...  Current  Mountain Bikes   \n",
       "2  For true trail addicts.  An extremely durable ...      NaN  Mountain Bikes   \n",
       "3  For true trail addicts.  An extremely durable ...      NaN  Mountain Bikes   \n",
       "4  This bike delivers a high-level of performance...  Current  Mountain Bikes   \n",
       "\n",
       "  Category  StartDate    EndDate  \n",
       "0    Bikes 2017-07-01 2018-06-30  \n",
       "1    Bikes 2018-07-01        NaT  \n",
       "2    Bikes 2017-07-01 2018-06-30  \n",
       "3    Bikes 2017-07-01 2018-06-30  \n",
       "4    Bikes 2018-07-01        NaT  \n",
       "\n",
       "[5 rows x 21 columns]"
      ]
     },
     "execution_count": 21,
     "metadata": {},
     "output_type": "execute_result"
    }
   ],
   "source": [
    "product_table.head()  # display top 5 rows"
   ]
  },
  {
   "cell_type": "markdown",
   "id": "6e1bf22a",
   "metadata": {},
   "source": [
    "# How to access a particular column(s)\n",
    "\n",
    "\n",
    "table_name['column name']"
   ]
  },
  {
   "cell_type": "code",
   "execution_count": 26,
   "id": "82b5c2ff",
   "metadata": {},
   "outputs": [
    {
     "data": {
      "text/html": [
       "<div>\n",
       "<style scoped>\n",
       "    .dataframe tbody tr th:only-of-type {\n",
       "        vertical-align: middle;\n",
       "    }\n",
       "\n",
       "    .dataframe tbody tr th {\n",
       "        vertical-align: top;\n",
       "    }\n",
       "\n",
       "    .dataframe thead th {\n",
       "        text-align: right;\n",
       "    }\n",
       "</style>\n",
       "<table border=\"1\" class=\"dataframe\">\n",
       "  <thead>\n",
       "    <tr style=\"text-align: right;\">\n",
       "      <th></th>\n",
       "      <th>SafetyStockLevel</th>\n",
       "      <th>SizeRange</th>\n",
       "      <th>DealerPrice</th>\n",
       "      <th>ModelName</th>\n",
       "    </tr>\n",
       "  </thead>\n",
       "  <tbody>\n",
       "    <tr>\n",
       "      <th>0</th>\n",
       "      <td>100</td>\n",
       "      <td>42-46 CM</td>\n",
       "      <td>1229.4589</td>\n",
       "      <td>Mountain-200</td>\n",
       "    </tr>\n",
       "    <tr>\n",
       "      <th>1</th>\n",
       "      <td>100</td>\n",
       "      <td>42-46 CM</td>\n",
       "      <td>1376.9940</td>\n",
       "      <td>Mountain-200</td>\n",
       "    </tr>\n",
       "    <tr>\n",
       "      <th>2</th>\n",
       "      <td>100</td>\n",
       "      <td>38-40 CM</td>\n",
       "      <td>647.9940</td>\n",
       "      <td>Mountain-300</td>\n",
       "    </tr>\n",
       "    <tr>\n",
       "      <th>3</th>\n",
       "      <td>100</td>\n",
       "      <td>38-40 CM</td>\n",
       "      <td>647.9940</td>\n",
       "      <td>Mountain-300</td>\n",
       "    </tr>\n",
       "    <tr>\n",
       "      <th>4</th>\n",
       "      <td>100</td>\n",
       "      <td>38-40 CM</td>\n",
       "      <td>461.6940</td>\n",
       "      <td>Mountain-400-W</td>\n",
       "    </tr>\n",
       "    <tr>\n",
       "      <th>...</th>\n",
       "      <td>...</td>\n",
       "      <td>...</td>\n",
       "      <td>...</td>\n",
       "      <td>...</td>\n",
       "    </tr>\n",
       "    <tr>\n",
       "      <th>392</th>\n",
       "      <td>500</td>\n",
       "      <td>NaN</td>\n",
       "      <td>21.0000</td>\n",
       "      <td>HL Mountain Tire</td>\n",
       "    </tr>\n",
       "    <tr>\n",
       "      <th>393</th>\n",
       "      <td>500</td>\n",
       "      <td>NaN</td>\n",
       "      <td>12.8940</td>\n",
       "      <td>LL Road Tire</td>\n",
       "    </tr>\n",
       "    <tr>\n",
       "      <th>394</th>\n",
       "      <td>500</td>\n",
       "      <td>NaN</td>\n",
       "      <td>14.9940</td>\n",
       "      <td>ML Road Tire</td>\n",
       "    </tr>\n",
       "    <tr>\n",
       "      <th>395</th>\n",
       "      <td>500</td>\n",
       "      <td>NaN</td>\n",
       "      <td>19.5600</td>\n",
       "      <td>HL Road Tire</td>\n",
       "    </tr>\n",
       "    <tr>\n",
       "      <th>396</th>\n",
       "      <td>500</td>\n",
       "      <td>NaN</td>\n",
       "      <td>17.3940</td>\n",
       "      <td>Touring Tire</td>\n",
       "    </tr>\n",
       "  </tbody>\n",
       "</table>\n",
       "<p>397 rows × 4 columns</p>\n",
       "</div>"
      ],
      "text/plain": [
       "     SafetyStockLevel SizeRange  DealerPrice         ModelName\n",
       "0                 100  42-46 CM    1229.4589      Mountain-200\n",
       "1                 100  42-46 CM    1376.9940      Mountain-200\n",
       "2                 100  38-40 CM     647.9940      Mountain-300\n",
       "3                 100  38-40 CM     647.9940      Mountain-300\n",
       "4                 100  38-40 CM     461.6940    Mountain-400-W\n",
       "..                ...       ...          ...               ...\n",
       "392               500       NaN      21.0000  HL Mountain Tire\n",
       "393               500       NaN      12.8940      LL Road Tire\n",
       "394               500       NaN      14.9940      ML Road Tire\n",
       "395               500       NaN      19.5600      HL Road Tire\n",
       "396               500       NaN      17.3940      Touring Tire\n",
       "\n",
       "[397 rows x 4 columns]"
      ]
     },
     "execution_count": 26,
     "metadata": {},
     "output_type": "execute_result"
    }
   ],
   "source": [
    "product_table[['SafetyStockLevel','SizeRange','DealerPrice','ModelName']]"
   ]
  },
  {
   "cell_type": "code",
   "execution_count": 25,
   "id": "58b37308",
   "metadata": {},
   "outputs": [
    {
     "data": {
      "text/html": [
       "<div>\n",
       "<style scoped>\n",
       "    .dataframe tbody tr th:only-of-type {\n",
       "        vertical-align: middle;\n",
       "    }\n",
       "\n",
       "    .dataframe tbody tr th {\n",
       "        vertical-align: top;\n",
       "    }\n",
       "\n",
       "    .dataframe thead th {\n",
       "        text-align: right;\n",
       "    }\n",
       "</style>\n",
       "<table border=\"1\" class=\"dataframe\">\n",
       "  <thead>\n",
       "    <tr style=\"text-align: right;\">\n",
       "      <th></th>\n",
       "      <th>ProductName</th>\n",
       "      <th>Color</th>\n",
       "      <th>ListPrice</th>\n",
       "    </tr>\n",
       "  </thead>\n",
       "  <tbody>\n",
       "    <tr>\n",
       "      <th>0</th>\n",
       "      <td>Mountain-200 Black, 46</td>\n",
       "      <td>Black</td>\n",
       "      <td>2049.0982</td>\n",
       "    </tr>\n",
       "    <tr>\n",
       "      <th>1</th>\n",
       "      <td>Mountain-200 Black, 46</td>\n",
       "      <td>Black</td>\n",
       "      <td>2294.9900</td>\n",
       "    </tr>\n",
       "    <tr>\n",
       "      <th>2</th>\n",
       "      <td>Mountain-300 Black, 38</td>\n",
       "      <td>Black</td>\n",
       "      <td>1079.9900</td>\n",
       "    </tr>\n",
       "    <tr>\n",
       "      <th>3</th>\n",
       "      <td>Mountain-300 Black, 40</td>\n",
       "      <td>Black</td>\n",
       "      <td>1079.9900</td>\n",
       "    </tr>\n",
       "    <tr>\n",
       "      <th>4</th>\n",
       "      <td>Mountain-400-W Silver, 38</td>\n",
       "      <td>Silver</td>\n",
       "      <td>769.4900</td>\n",
       "    </tr>\n",
       "    <tr>\n",
       "      <th>...</th>\n",
       "      <td>...</td>\n",
       "      <td>...</td>\n",
       "      <td>...</td>\n",
       "    </tr>\n",
       "    <tr>\n",
       "      <th>392</th>\n",
       "      <td>HL Mountain Tire</td>\n",
       "      <td>NaN</td>\n",
       "      <td>35.0000</td>\n",
       "    </tr>\n",
       "    <tr>\n",
       "      <th>393</th>\n",
       "      <td>LL Road Tire</td>\n",
       "      <td>NaN</td>\n",
       "      <td>21.4900</td>\n",
       "    </tr>\n",
       "    <tr>\n",
       "      <th>394</th>\n",
       "      <td>ML Road Tire</td>\n",
       "      <td>NaN</td>\n",
       "      <td>24.9900</td>\n",
       "    </tr>\n",
       "    <tr>\n",
       "      <th>395</th>\n",
       "      <td>HL Road Tire</td>\n",
       "      <td>NaN</td>\n",
       "      <td>32.6000</td>\n",
       "    </tr>\n",
       "    <tr>\n",
       "      <th>396</th>\n",
       "      <td>Touring Tire</td>\n",
       "      <td>NaN</td>\n",
       "      <td>28.9900</td>\n",
       "    </tr>\n",
       "  </tbody>\n",
       "</table>\n",
       "<p>397 rows × 3 columns</p>\n",
       "</div>"
      ],
      "text/plain": [
       "                   ProductName   Color  ListPrice\n",
       "0       Mountain-200 Black, 46   Black  2049.0982\n",
       "1       Mountain-200 Black, 46   Black  2294.9900\n",
       "2       Mountain-300 Black, 38   Black  1079.9900\n",
       "3       Mountain-300 Black, 40   Black  1079.9900\n",
       "4    Mountain-400-W Silver, 38  Silver   769.4900\n",
       "..                         ...     ...        ...\n",
       "392           HL Mountain Tire     NaN    35.0000\n",
       "393               LL Road Tire     NaN    21.4900\n",
       "394               ML Road Tire     NaN    24.9900\n",
       "395               HL Road Tire     NaN    32.6000\n",
       "396               Touring Tire     NaN    28.9900\n",
       "\n",
       "[397 rows x 3 columns]"
      ]
     },
     "execution_count": 25,
     "metadata": {},
     "output_type": "execute_result"
    }
   ],
   "source": [
    "product_table[['ProductName','Color','ListPrice']]"
   ]
  },
  {
   "cell_type": "code",
   "execution_count": 23,
   "id": "3dbb3172",
   "metadata": {},
   "outputs": [
    {
     "data": {
      "text/plain": [
       "0       1\n",
       "1       1\n",
       "2       1\n",
       "3       1\n",
       "4       1\n",
       "       ..\n",
       "392    37\n",
       "393    37\n",
       "394    37\n",
       "395    37\n",
       "396    37\n",
       "Name: ProductSubcategoryKey, Length: 397, dtype: int64"
      ]
     },
     "execution_count": 23,
     "metadata": {},
     "output_type": "execute_result"
    }
   ],
   "source": [
    "product_table['ProductSubcategoryKey']"
   ]
  },
  {
   "cell_type": "code",
   "execution_count": 24,
   "id": "b68c7f69",
   "metadata": {},
   "outputs": [
    {
     "data": {
      "text/plain": [
       "0         Mountain-200 Black, 46\n",
       "1         Mountain-200 Black, 46\n",
       "2         Mountain-300 Black, 38\n",
       "3         Mountain-300 Black, 40\n",
       "4      Mountain-400-W Silver, 38\n",
       "                 ...            \n",
       "392             HL Mountain Tire\n",
       "393                 LL Road Tire\n",
       "394                 ML Road Tire\n",
       "395                 HL Road Tire\n",
       "396                 Touring Tire\n",
       "Name: ProductName, Length: 397, dtype: object"
      ]
     },
     "execution_count": 24,
     "metadata": {},
     "output_type": "execute_result"
    }
   ],
   "source": [
    "product_table['ProductName']"
   ]
  },
  {
   "cell_type": "markdown",
   "id": "b699fc3e",
   "metadata": {},
   "source": [
    "# Display column values"
   ]
  },
  {
   "cell_type": "code",
   "execution_count": 27,
   "id": "61131973",
   "metadata": {},
   "outputs": [
    {
     "data": {
      "text/plain": [
       "Index(['ProductKey', 'ProductSubcategoryKey', 'ProductName', 'StandardCost',\n",
       "       'Color', 'SafetyStockLevel', 'ListPrice', 'Size', 'SizeRange', 'Weight',\n",
       "       'DaysToManufacture', 'ProductLine', 'DealerPrice', 'Class', 'ModelName',\n",
       "       'Description', 'Status', 'SubCategory', 'Category', 'StartDate',\n",
       "       'EndDate'],\n",
       "      dtype='object')"
      ]
     },
     "execution_count": 27,
     "metadata": {},
     "output_type": "execute_result"
    }
   ],
   "source": [
    "product_table.columns"
   ]
  },
  {
   "cell_type": "markdown",
   "id": "3d3929cb",
   "metadata": {},
   "source": [
    "value_count--->displays the count of unique values in the columns"
   ]
  },
  {
   "cell_type": "code",
   "execution_count": 30,
   "id": "e6b7c9e7",
   "metadata": {},
   "outputs": [
    {
     "data": {
      "text/plain": [
       "Black           129\n",
       "Red              63\n",
       "Yellow           46\n",
       "Silver           45\n",
       "Blue             28\n",
       "Multi            18\n",
       "Silver/Black      7\n",
       "White             4\n",
       "Grey              1\n",
       "Name: Color, dtype: int64"
      ]
     },
     "execution_count": 30,
     "metadata": {},
     "output_type": "execute_result"
    }
   ],
   "source": [
    "product_table['Color'].value_counts()"
   ]
  },
  {
   "cell_type": "code",
   "execution_count": 31,
   "id": "dd44209a",
   "metadata": {},
   "outputs": [
    {
     "data": {
      "text/plain": [
       "H    121\n",
       "L    118\n",
       "M     73\n",
       "Name: Class, dtype: int64"
      ]
     },
     "execution_count": 31,
     "metadata": {},
     "output_type": "execute_result"
    }
   ],
   "source": [
    "product_table['Class'].value_counts()"
   ]
  },
  {
   "cell_type": "code",
   "execution_count": 39,
   "id": "84c36b61",
   "metadata": {},
   "outputs": [
    {
     "data": {
      "text/plain": [
       "<AxesSubplot:>"
      ]
     },
     "execution_count": 39,
     "metadata": {},
     "output_type": "execute_result"
    },
    {
     "data": {
      "image/png": "[encoded data removed]",
      "text/plain": [
       "<Figure size 432x288 with 1 Axes>"
      ]
     },
     "metadata": {
      "needs_background": "light"
     },
     "output_type": "display_data"
    }
   ],
   "source": [
    "product_table['Category'].value_counts().plot()"
   ]
  },
  {
   "cell_type": "code",
   "execution_count": 33,
   "id": "6fdc2511",
   "metadata": {},
   "outputs": [
    {
     "data": {
      "text/plain": [
       "Road Frames          70\n",
       "Road Bikes           65\n",
       "Mountain Frames      40\n",
       "Mountain Bikes       38\n",
       "Touring Bikes        22\n",
       "Touring Frames       18\n",
       "Jerseys              16\n",
       "Wheels               14\n",
       "Handlebars           14\n",
       "Tires and Tubes      11\n",
       "Gloves                9\n",
       "Saddles               9\n",
       "Helmets               9\n",
       "Shorts                7\n",
       "Pedals                7\n",
       "Socks                 4\n",
       "Cranksets             3\n",
       "Bottles and Cages     3\n",
       "Caps                  3\n",
       "Lights                3\n",
       "Vests                 3\n",
       "Bottom Brackets       3\n",
       "Tights                3\n",
       "Headsets              3\n",
       "Forks                 3\n",
       "Bib-Shorts            3\n",
       "Brakes                2\n",
       "Pumps                 2\n",
       "Derailleurs           2\n",
       "Panniers              1\n",
       "Chains                1\n",
       "Hydration Packs       1\n",
       "Locks                 1\n",
       "Bike Stands           1\n",
       "Cleaners              1\n",
       "Bike Racks            1\n",
       "Fenders               1\n",
       "Name: SubCategory, dtype: int64"
      ]
     },
     "execution_count": 33,
     "metadata": {},
     "output_type": "execute_result"
    }
   ],
   "source": [
    "product_table['SubCategory'].value_counts()"
   ]
  },
  {
   "cell_type": "markdown",
   "id": "d4f7cc1c",
   "metadata": {},
   "source": [
    "# Summary view of this dataframe"
   ]
  },
  {
   "cell_type": "code",
   "execution_count": 70,
   "id": "19856c18",
   "metadata": {},
   "outputs": [
    {
     "name": "stdout",
     "output_type": "stream",
     "text": [
      "<class 'pandas.core.frame.DataFrame'>\n",
      "RangeIndex: 397 entries, 0 to 396\n",
      "Data columns (total 21 columns):\n",
      " #   Column                 Non-Null Count  Dtype         \n",
      "---  ------                 --------------  -----         \n",
      " 0   ProductKey             397 non-null    int64         \n",
      " 1   ProductSubcategoryKey  397 non-null    int64         \n",
      " 2   ProductName            397 non-null    object        \n",
      " 3   StandardCost           395 non-null    float64       \n",
      " 4   Color                  341 non-null    object        \n",
      " 5   SafetyStockLevel       397 non-null    int64         \n",
      " 6   ListPrice              395 non-null    float64       \n",
      " 7   Size                   254 non-null    float64       \n",
      " 8   SizeRange              299 non-null    object        \n",
      " 9   Weight                 275 non-null    float64       \n",
      " 10  DaysToManufacture      397 non-null    int64         \n",
      " 11  ProductLine            380 non-null    object        \n",
      " 12  DealerPrice            395 non-null    float64       \n",
      " 13  Class                  312 non-null    object        \n",
      " 14  ModelName              397 non-null    object        \n",
      " 15  Description            396 non-null    object        \n",
      " 16  Status                 197 non-null    object        \n",
      " 17  SubCategory            397 non-null    object        \n",
      " 18  Category               397 non-null    object        \n",
      " 19  StartDate              397 non-null    datetime64[ns]\n",
      " 20  EndDate                200 non-null    datetime64[ns]\n",
      "dtypes: datetime64[ns](2), float64(5), int64(4), object(10)\n",
      "memory usage: 65.3+ KB\n"
     ]
    }
   ],
   "source": [
    "product_table.info()"
   ]
  },
  {
   "cell_type": "markdown",
   "id": "e7353d51",
   "metadata": {},
   "source": [
    "# get descriptive statics"
   ]
  },
  {
   "cell_type": "code",
   "execution_count": 72,
   "id": "a8a72474",
   "metadata": {
    "scrolled": true
   },
   "outputs": [
    {
     "data": {
      "text/html": [
       "<div>\n",
       "<style scoped>\n",
       "    .dataframe tbody tr th:only-of-type {\n",
       "        vertical-align: middle;\n",
       "    }\n",
       "\n",
       "    .dataframe tbody tr th {\n",
       "        vertical-align: top;\n",
       "    }\n",
       "\n",
       "    .dataframe thead th {\n",
       "        text-align: right;\n",
       "    }\n",
       "</style>\n",
       "<table border=\"1\" class=\"dataframe\">\n",
       "  <thead>\n",
       "    <tr style=\"text-align: right;\">\n",
       "      <th></th>\n",
       "      <th>ProductKey</th>\n",
       "      <th>ProductSubcategoryKey</th>\n",
       "      <th>StandardCost</th>\n",
       "      <th>SafetyStockLevel</th>\n",
       "      <th>ListPrice</th>\n",
       "      <th>Size</th>\n",
       "      <th>Weight</th>\n",
       "      <th>DaysToManufacture</th>\n",
       "      <th>DealerPrice</th>\n",
       "    </tr>\n",
       "  </thead>\n",
       "  <tbody>\n",
       "    <tr>\n",
       "      <th>count</th>\n",
       "      <td>397.000000</td>\n",
       "      <td>397.000000</td>\n",
       "      <td>395.000000</td>\n",
       "      <td>397.000000</td>\n",
       "      <td>395.000000</td>\n",
       "      <td>254.000000</td>\n",
       "      <td>275.000000</td>\n",
       "      <td>397.000000</td>\n",
       "      <td>395.000000</td>\n",
       "    </tr>\n",
       "    <tr>\n",
       "      <th>mean</th>\n",
       "      <td>408.000000</td>\n",
       "      <td>12.128463</td>\n",
       "      <td>434.265829</td>\n",
       "      <td>282.851385</td>\n",
       "      <td>747.661762</td>\n",
       "      <td>49.055118</td>\n",
       "      <td>46.569055</td>\n",
       "      <td>1.765743</td>\n",
       "      <td>448.597060</td>\n",
       "    </tr>\n",
       "    <tr>\n",
       "      <th>std</th>\n",
       "      <td>114.748275</td>\n",
       "      <td>9.423328</td>\n",
       "      <td>497.379884</td>\n",
       "      <td>220.417534</td>\n",
       "      <td>838.708451</td>\n",
       "      <td>7.389028</td>\n",
       "      <td>147.796111</td>\n",
       "      <td>1.578913</td>\n",
       "      <td>503.225071</td>\n",
       "    </tr>\n",
       "    <tr>\n",
       "      <th>min</th>\n",
       "      <td>210.000000</td>\n",
       "      <td>1.000000</td>\n",
       "      <td>0.856500</td>\n",
       "      <td>4.000000</td>\n",
       "      <td>2.290000</td>\n",
       "      <td>38.000000</td>\n",
       "      <td>2.120000</td>\n",
       "      <td>0.000000</td>\n",
       "      <td>1.374000</td>\n",
       "    </tr>\n",
       "    <tr>\n",
       "      <th>25%</th>\n",
       "      <td>309.000000</td>\n",
       "      <td>2.000000</td>\n",
       "      <td>37.120900</td>\n",
       "      <td>100.000000</td>\n",
       "      <td>69.990000</td>\n",
       "      <td>44.000000</td>\n",
       "      <td>2.500000</td>\n",
       "      <td>1.000000</td>\n",
       "      <td>41.994000</td>\n",
       "    </tr>\n",
       "    <tr>\n",
       "      <th>50%</th>\n",
       "      <td>408.000000</td>\n",
       "      <td>13.000000</td>\n",
       "      <td>204.625100</td>\n",
       "      <td>500.000000</td>\n",
       "      <td>364.090000</td>\n",
       "      <td>48.000000</td>\n",
       "      <td>15.130000</td>\n",
       "      <td>1.000000</td>\n",
       "      <td>218.454000</td>\n",
       "    </tr>\n",
       "    <tr>\n",
       "      <th>75%</th>\n",
       "      <td>507.000000</td>\n",
       "      <td>16.000000</td>\n",
       "      <td>660.914200</td>\n",
       "      <td>500.000000</td>\n",
       "      <td>1204.324800</td>\n",
       "      <td>54.000000</td>\n",
       "      <td>23.770000</td>\n",
       "      <td>4.000000</td>\n",
       "      <td>722.594900</td>\n",
       "    </tr>\n",
       "    <tr>\n",
       "      <th>max</th>\n",
       "      <td>606.000000</td>\n",
       "      <td>37.000000</td>\n",
       "      <td>2171.294200</td>\n",
       "      <td>500.000000</td>\n",
       "      <td>3578.270000</td>\n",
       "      <td>70.000000</td>\n",
       "      <td>1050.000000</td>\n",
       "      <td>4.000000</td>\n",
       "      <td>2146.962000</td>\n",
       "    </tr>\n",
       "  </tbody>\n",
       "</table>\n",
       "</div>"
      ],
      "text/plain": [
       "       ProductKey  ProductSubcategoryKey  StandardCost  SafetyStockLevel  \\\n",
       "count  397.000000             397.000000    395.000000        397.000000   \n",
       "mean   408.000000              12.128463    434.265829        282.851385   \n",
       "std    114.748275               9.423328    497.379884        220.417534   \n",
       "min    210.000000               1.000000      0.856500          4.000000   \n",
       "25%    309.000000               2.000000     37.120900        100.000000   \n",
       "50%    408.000000              13.000000    204.625100        500.000000   \n",
       "75%    507.000000              16.000000    660.914200        500.000000   \n",
       "max    606.000000              37.000000   2171.294200        500.000000   \n",
       "\n",
       "         ListPrice        Size       Weight  DaysToManufacture  DealerPrice  \n",
       "count   395.000000  254.000000   275.000000         397.000000   395.000000  \n",
       "mean    747.661762   49.055118    46.569055           1.765743   448.597060  \n",
       "std     838.708451    7.389028   147.796111           1.578913   503.225071  \n",
       "min       2.290000   38.000000     2.120000           0.000000     1.374000  \n",
       "25%      69.990000   44.000000     2.500000           1.000000    41.994000  \n",
       "50%     364.090000   48.000000    15.130000           1.000000   218.454000  \n",
       "75%    1204.324800   54.000000    23.770000           4.000000   722.594900  \n",
       "max    3578.270000   70.000000  1050.000000           4.000000  2146.962000  "
      ]
     },
     "execution_count": 72,
     "metadata": {},
     "output_type": "execute_result"
    }
   ],
   "source": [
    "product_table.describe()"
   ]
  },
  {
   "cell_type": "code",
   "execution_count": null,
   "id": "3576b435",
   "metadata": {},
   "outputs": [],
   "source": [
    "# indexing, slicing, "
   ]
  },
  {
   "cell_type": "markdown",
   "id": "d0ecafcb",
   "metadata": {},
   "source": [
    "# selecting specific rows\n",
    "\n",
    "\n",
    "\n",
    "for rows we always use index values"
   ]
  },
  {
   "cell_type": "code",
   "execution_count": 74,
   "id": "5071a60c",
   "metadata": {},
   "outputs": [
    {
     "data": {
      "text/html": [
       "<div>\n",
       "<style scoped>\n",
       "    .dataframe tbody tr th:only-of-type {\n",
       "        vertical-align: middle;\n",
       "    }\n",
       "\n",
       "    .dataframe tbody tr th {\n",
       "        vertical-align: top;\n",
       "    }\n",
       "\n",
       "    .dataframe thead th {\n",
       "        text-align: right;\n",
       "    }\n",
       "</style>\n",
       "<table border=\"1\" class=\"dataframe\">\n",
       "  <thead>\n",
       "    <tr style=\"text-align: right;\">\n",
       "      <th></th>\n",
       "      <th>ProductKey</th>\n",
       "      <th>ProductSubcategoryKey</th>\n",
       "      <th>ProductName</th>\n",
       "      <th>StandardCost</th>\n",
       "      <th>Color</th>\n",
       "      <th>SafetyStockLevel</th>\n",
       "      <th>ListPrice</th>\n",
       "      <th>Size</th>\n",
       "      <th>SizeRange</th>\n",
       "      <th>Weight</th>\n",
       "      <th>...</th>\n",
       "      <th>ProductLine</th>\n",
       "      <th>DealerPrice</th>\n",
       "      <th>Class</th>\n",
       "      <th>ModelName</th>\n",
       "      <th>Description</th>\n",
       "      <th>Status</th>\n",
       "      <th>SubCategory</th>\n",
       "      <th>Category</th>\n",
       "      <th>StartDate</th>\n",
       "      <th>EndDate</th>\n",
       "    </tr>\n",
       "  </thead>\n",
       "  <tbody>\n",
       "    <tr>\n",
       "      <th>5</th>\n",
       "      <td>588</td>\n",
       "      <td>1</td>\n",
       "      <td>Mountain-400-W Silver, 40</td>\n",
       "      <td>419.7784</td>\n",
       "      <td>Silver</td>\n",
       "      <td>100</td>\n",
       "      <td>769.49</td>\n",
       "      <td>40.0</td>\n",
       "      <td>38-40 CM</td>\n",
       "      <td>26.77</td>\n",
       "      <td>...</td>\n",
       "      <td>M</td>\n",
       "      <td>461.694</td>\n",
       "      <td>M</td>\n",
       "      <td>Mountain-400-W</td>\n",
       "      <td>This bike delivers a high-level of performance...</td>\n",
       "      <td>Current</td>\n",
       "      <td>Mountain Bikes</td>\n",
       "      <td>Bikes</td>\n",
       "      <td>2018-07-01</td>\n",
       "      <td>NaT</td>\n",
       "    </tr>\n",
       "    <tr>\n",
       "      <th>6</th>\n",
       "      <td>589</td>\n",
       "      <td>1</td>\n",
       "      <td>Mountain-400-W Silver, 42</td>\n",
       "      <td>419.7784</td>\n",
       "      <td>Silver</td>\n",
       "      <td>100</td>\n",
       "      <td>769.49</td>\n",
       "      <td>42.0</td>\n",
       "      <td>42-46 CM</td>\n",
       "      <td>27.13</td>\n",
       "      <td>...</td>\n",
       "      <td>M</td>\n",
       "      <td>461.694</td>\n",
       "      <td>M</td>\n",
       "      <td>Mountain-400-W</td>\n",
       "      <td>This bike delivers a high-level of performance...</td>\n",
       "      <td>Current</td>\n",
       "      <td>Mountain Bikes</td>\n",
       "      <td>Bikes</td>\n",
       "      <td>2018-07-01</td>\n",
       "      <td>NaT</td>\n",
       "    </tr>\n",
       "    <tr>\n",
       "      <th>7</th>\n",
       "      <td>590</td>\n",
       "      <td>1</td>\n",
       "      <td>Mountain-400-W Silver, 46</td>\n",
       "      <td>419.7784</td>\n",
       "      <td>Silver</td>\n",
       "      <td>100</td>\n",
       "      <td>769.49</td>\n",
       "      <td>46.0</td>\n",
       "      <td>42-46 CM</td>\n",
       "      <td>27.42</td>\n",
       "      <td>...</td>\n",
       "      <td>M</td>\n",
       "      <td>461.694</td>\n",
       "      <td>M</td>\n",
       "      <td>Mountain-400-W</td>\n",
       "      <td>This bike delivers a high-level of performance...</td>\n",
       "      <td>Current</td>\n",
       "      <td>Mountain Bikes</td>\n",
       "      <td>Bikes</td>\n",
       "      <td>2018-07-01</td>\n",
       "      <td>NaT</td>\n",
       "    </tr>\n",
       "    <tr>\n",
       "      <th>8</th>\n",
       "      <td>344</td>\n",
       "      <td>1</td>\n",
       "      <td>Mountain-100 Silver, 38</td>\n",
       "      <td>1912.1544</td>\n",
       "      <td>Silver</td>\n",
       "      <td>100</td>\n",
       "      <td>3399.99</td>\n",
       "      <td>38.0</td>\n",
       "      <td>38-40 CM</td>\n",
       "      <td>20.35</td>\n",
       "      <td>...</td>\n",
       "      <td>M</td>\n",
       "      <td>2039.994</td>\n",
       "      <td>H</td>\n",
       "      <td>Mountain-100</td>\n",
       "      <td>Top-of-the-line competition mountain bike. Per...</td>\n",
       "      <td>NaN</td>\n",
       "      <td>Mountain Bikes</td>\n",
       "      <td>Bikes</td>\n",
       "      <td>2016-07-01</td>\n",
       "      <td>2017-06-30</td>\n",
       "    </tr>\n",
       "    <tr>\n",
       "      <th>9</th>\n",
       "      <td>345</td>\n",
       "      <td>1</td>\n",
       "      <td>Mountain-100 Silver, 42</td>\n",
       "      <td>1912.1544</td>\n",
       "      <td>Silver</td>\n",
       "      <td>100</td>\n",
       "      <td>3399.99</td>\n",
       "      <td>42.0</td>\n",
       "      <td>42-46 CM</td>\n",
       "      <td>20.77</td>\n",
       "      <td>...</td>\n",
       "      <td>M</td>\n",
       "      <td>2039.994</td>\n",
       "      <td>H</td>\n",
       "      <td>Mountain-100</td>\n",
       "      <td>Top-of-the-line competition mountain bike. Per...</td>\n",
       "      <td>NaN</td>\n",
       "      <td>Mountain Bikes</td>\n",
       "      <td>Bikes</td>\n",
       "      <td>2016-07-01</td>\n",
       "      <td>2017-06-30</td>\n",
       "    </tr>\n",
       "    <tr>\n",
       "      <th>10</th>\n",
       "      <td>346</td>\n",
       "      <td>1</td>\n",
       "      <td>Mountain-100 Silver, 44</td>\n",
       "      <td>1912.1544</td>\n",
       "      <td>Silver</td>\n",
       "      <td>100</td>\n",
       "      <td>3399.99</td>\n",
       "      <td>44.0</td>\n",
       "      <td>42-46 CM</td>\n",
       "      <td>21.13</td>\n",
       "      <td>...</td>\n",
       "      <td>M</td>\n",
       "      <td>2039.994</td>\n",
       "      <td>H</td>\n",
       "      <td>Mountain-100</td>\n",
       "      <td>Top-of-the-line competition mountain bike. Per...</td>\n",
       "      <td>NaN</td>\n",
       "      <td>Mountain Bikes</td>\n",
       "      <td>Bikes</td>\n",
       "      <td>2016-07-01</td>\n",
       "      <td>2017-06-30</td>\n",
       "    </tr>\n",
       "    <tr>\n",
       "      <th>11</th>\n",
       "      <td>347</td>\n",
       "      <td>1</td>\n",
       "      <td>Mountain-100 Silver, 48</td>\n",
       "      <td>1912.1544</td>\n",
       "      <td>Silver</td>\n",
       "      <td>100</td>\n",
       "      <td>3399.99</td>\n",
       "      <td>48.0</td>\n",
       "      <td>48-52 CM</td>\n",
       "      <td>21.42</td>\n",
       "      <td>...</td>\n",
       "      <td>M</td>\n",
       "      <td>2039.994</td>\n",
       "      <td>H</td>\n",
       "      <td>Mountain-100</td>\n",
       "      <td>Top-of-the-line competition mountain bike. Per...</td>\n",
       "      <td>NaN</td>\n",
       "      <td>Mountain Bikes</td>\n",
       "      <td>Bikes</td>\n",
       "      <td>2016-07-01</td>\n",
       "      <td>2017-06-30</td>\n",
       "    </tr>\n",
       "    <tr>\n",
       "      <th>12</th>\n",
       "      <td>348</td>\n",
       "      <td>1</td>\n",
       "      <td>Mountain-100 Black, 38</td>\n",
       "      <td>1898.0944</td>\n",
       "      <td>Black</td>\n",
       "      <td>100</td>\n",
       "      <td>3374.99</td>\n",
       "      <td>38.0</td>\n",
       "      <td>38-40 CM</td>\n",
       "      <td>20.35</td>\n",
       "      <td>...</td>\n",
       "      <td>M</td>\n",
       "      <td>2024.994</td>\n",
       "      <td>H</td>\n",
       "      <td>Mountain-100</td>\n",
       "      <td>Top-of-the-line competition mountain bike. Per...</td>\n",
       "      <td>NaN</td>\n",
       "      <td>Mountain Bikes</td>\n",
       "      <td>Bikes</td>\n",
       "      <td>2016-07-01</td>\n",
       "      <td>2017-06-30</td>\n",
       "    </tr>\n",
       "    <tr>\n",
       "      <th>13</th>\n",
       "      <td>349</td>\n",
       "      <td>1</td>\n",
       "      <td>Mountain-100 Black, 42</td>\n",
       "      <td>1898.0944</td>\n",
       "      <td>Black</td>\n",
       "      <td>100</td>\n",
       "      <td>3374.99</td>\n",
       "      <td>42.0</td>\n",
       "      <td>42-46 CM</td>\n",
       "      <td>20.77</td>\n",
       "      <td>...</td>\n",
       "      <td>M</td>\n",
       "      <td>2024.994</td>\n",
       "      <td>H</td>\n",
       "      <td>Mountain-100</td>\n",
       "      <td>Top-of-the-line competition mountain bike. Per...</td>\n",
       "      <td>NaN</td>\n",
       "      <td>Mountain Bikes</td>\n",
       "      <td>Bikes</td>\n",
       "      <td>2016-07-01</td>\n",
       "      <td>2017-06-30</td>\n",
       "    </tr>\n",
       "    <tr>\n",
       "      <th>14</th>\n",
       "      <td>350</td>\n",
       "      <td>1</td>\n",
       "      <td>Mountain-100 Black, 44</td>\n",
       "      <td>1898.0944</td>\n",
       "      <td>Black</td>\n",
       "      <td>100</td>\n",
       "      <td>3374.99</td>\n",
       "      <td>44.0</td>\n",
       "      <td>42-46 CM</td>\n",
       "      <td>21.13</td>\n",
       "      <td>...</td>\n",
       "      <td>M</td>\n",
       "      <td>2024.994</td>\n",
       "      <td>H</td>\n",
       "      <td>Mountain-100</td>\n",
       "      <td>Top-of-the-line competition mountain bike. Per...</td>\n",
       "      <td>NaN</td>\n",
       "      <td>Mountain Bikes</td>\n",
       "      <td>Bikes</td>\n",
       "      <td>2016-07-01</td>\n",
       "      <td>2017-06-30</td>\n",
       "    </tr>\n",
       "    <tr>\n",
       "      <th>15</th>\n",
       "      <td>351</td>\n",
       "      <td>1</td>\n",
       "      <td>Mountain-100 Black, 48</td>\n",
       "      <td>1898.0944</td>\n",
       "      <td>Black</td>\n",
       "      <td>100</td>\n",
       "      <td>3374.99</td>\n",
       "      <td>48.0</td>\n",
       "      <td>48-52 CM</td>\n",
       "      <td>21.42</td>\n",
       "      <td>...</td>\n",
       "      <td>M</td>\n",
       "      <td>2024.994</td>\n",
       "      <td>H</td>\n",
       "      <td>Mountain-100</td>\n",
       "      <td>Top-of-the-line competition mountain bike. Per...</td>\n",
       "      <td>NaN</td>\n",
       "      <td>Mountain Bikes</td>\n",
       "      <td>Bikes</td>\n",
       "      <td>2016-07-01</td>\n",
       "      <td>2017-06-30</td>\n",
       "    </tr>\n",
       "  </tbody>\n",
       "</table>\n",
       "<p>11 rows × 21 columns</p>\n",
       "</div>"
      ],
      "text/plain": [
       "    ProductKey  ProductSubcategoryKey                ProductName  \\\n",
       "5          588                      1  Mountain-400-W Silver, 40   \n",
       "6          589                      1  Mountain-400-W Silver, 42   \n",
       "7          590                      1  Mountain-400-W Silver, 46   \n",
       "8          344                      1    Mountain-100 Silver, 38   \n",
       "9          345                      1    Mountain-100 Silver, 42   \n",
       "10         346                      1    Mountain-100 Silver, 44   \n",
       "11         347                      1    Mountain-100 Silver, 48   \n",
       "12         348                      1     Mountain-100 Black, 38   \n",
       "13         349                      1     Mountain-100 Black, 42   \n",
       "14         350                      1     Mountain-100 Black, 44   \n",
       "15         351                      1     Mountain-100 Black, 48   \n",
       "\n",
       "    StandardCost   Color  SafetyStockLevel  ListPrice  Size SizeRange  Weight  \\\n",
       "5       419.7784  Silver               100     769.49  40.0  38-40 CM   26.77   \n",
       "6       419.7784  Silver               100     769.49  42.0  42-46 CM   27.13   \n",
       "7       419.7784  Silver               100     769.49  46.0  42-46 CM   27.42   \n",
       "8      1912.1544  Silver               100    3399.99  38.0  38-40 CM   20.35   \n",
       "9      1912.1544  Silver               100    3399.99  42.0  42-46 CM   20.77   \n",
       "10     1912.1544  Silver               100    3399.99  44.0  42-46 CM   21.13   \n",
       "11     1912.1544  Silver               100    3399.99  48.0  48-52 CM   21.42   \n",
       "12     1898.0944   Black               100    3374.99  38.0  38-40 CM   20.35   \n",
       "13     1898.0944   Black               100    3374.99  42.0  42-46 CM   20.77   \n",
       "14     1898.0944   Black               100    3374.99  44.0  42-46 CM   21.13   \n",
       "15     1898.0944   Black               100    3374.99  48.0  48-52 CM   21.42   \n",
       "\n",
       "    ...  ProductLine DealerPrice  Class       ModelName  \\\n",
       "5   ...            M     461.694      M  Mountain-400-W   \n",
       "6   ...            M     461.694      M  Mountain-400-W   \n",
       "7   ...            M     461.694      M  Mountain-400-W   \n",
       "8   ...            M    2039.994      H    Mountain-100   \n",
       "9   ...            M    2039.994      H    Mountain-100   \n",
       "10  ...            M    2039.994      H    Mountain-100   \n",
       "11  ...            M    2039.994      H    Mountain-100   \n",
       "12  ...            M    2024.994      H    Mountain-100   \n",
       "13  ...            M    2024.994      H    Mountain-100   \n",
       "14  ...            M    2024.994      H    Mountain-100   \n",
       "15  ...            M    2024.994      H    Mountain-100   \n",
       "\n",
       "                                          Description   Status  \\\n",
       "5   This bike delivers a high-level of performance...  Current   \n",
       "6   This bike delivers a high-level of performance...  Current   \n",
       "7   This bike delivers a high-level of performance...  Current   \n",
       "8   Top-of-the-line competition mountain bike. Per...      NaN   \n",
       "9   Top-of-the-line competition mountain bike. Per...      NaN   \n",
       "10  Top-of-the-line competition mountain bike. Per...      NaN   \n",
       "11  Top-of-the-line competition mountain bike. Per...      NaN   \n",
       "12  Top-of-the-line competition mountain bike. Per...      NaN   \n",
       "13  Top-of-the-line competition mountain bike. Per...      NaN   \n",
       "14  Top-of-the-line competition mountain bike. Per...      NaN   \n",
       "15  Top-of-the-line competition mountain bike. Per...      NaN   \n",
       "\n",
       "       SubCategory Category  StartDate    EndDate  \n",
       "5   Mountain Bikes    Bikes 2018-07-01        NaT  \n",
       "6   Mountain Bikes    Bikes 2018-07-01        NaT  \n",
       "7   Mountain Bikes    Bikes 2018-07-01        NaT  \n",
       "8   Mountain Bikes    Bikes 2016-07-01 2017-06-30  \n",
       "9   Mountain Bikes    Bikes 2016-07-01 2017-06-30  \n",
       "10  Mountain Bikes    Bikes 2016-07-01 2017-06-30  \n",
       "11  Mountain Bikes    Bikes 2016-07-01 2017-06-30  \n",
       "12  Mountain Bikes    Bikes 2016-07-01 2017-06-30  \n",
       "13  Mountain Bikes    Bikes 2016-07-01 2017-06-30  \n",
       "14  Mountain Bikes    Bikes 2016-07-01 2017-06-30  \n",
       "15  Mountain Bikes    Bikes 2016-07-01 2017-06-30  \n",
       "\n",
       "[11 rows x 21 columns]"
      ]
     },
     "execution_count": 74,
     "metadata": {},
     "output_type": "execute_result"
    }
   ],
   "source": [
    "product_table[5:16]      # starting index values: ending row nomber +1"
   ]
  },
  {
   "cell_type": "code",
   "execution_count": 75,
   "id": "1c1b4a0a",
   "metadata": {},
   "outputs": [
    {
     "data": {
      "text/html": [
       "<div>\n",
       "<style scoped>\n",
       "    .dataframe tbody tr th:only-of-type {\n",
       "        vertical-align: middle;\n",
       "    }\n",
       "\n",
       "    .dataframe tbody tr th {\n",
       "        vertical-align: top;\n",
       "    }\n",
       "\n",
       "    .dataframe thead th {\n",
       "        text-align: right;\n",
       "    }\n",
       "</style>\n",
       "<table border=\"1\" class=\"dataframe\">\n",
       "  <thead>\n",
       "    <tr style=\"text-align: right;\">\n",
       "      <th></th>\n",
       "      <th>ProductKey</th>\n",
       "      <th>ProductSubcategoryKey</th>\n",
       "      <th>ProductName</th>\n",
       "      <th>StandardCost</th>\n",
       "      <th>Color</th>\n",
       "      <th>SafetyStockLevel</th>\n",
       "      <th>ListPrice</th>\n",
       "      <th>Size</th>\n",
       "      <th>SizeRange</th>\n",
       "      <th>Weight</th>\n",
       "      <th>...</th>\n",
       "      <th>ProductLine</th>\n",
       "      <th>DealerPrice</th>\n",
       "      <th>Class</th>\n",
       "      <th>ModelName</th>\n",
       "      <th>Description</th>\n",
       "      <th>Status</th>\n",
       "      <th>SubCategory</th>\n",
       "      <th>Category</th>\n",
       "      <th>StartDate</th>\n",
       "      <th>EndDate</th>\n",
       "    </tr>\n",
       "  </thead>\n",
       "  <tbody>\n",
       "    <tr>\n",
       "      <th>200</th>\n",
       "      <td>546</td>\n",
       "      <td>13</td>\n",
       "      <td>ML Road Pedal</td>\n",
       "      <td>27.5680</td>\n",
       "      <td>Silver/Black</td>\n",
       "      <td>500</td>\n",
       "      <td>62.0900</td>\n",
       "      <td>NaN</td>\n",
       "      <td>NaN</td>\n",
       "      <td>168.00</td>\n",
       "      <td>...</td>\n",
       "      <td>R</td>\n",
       "      <td>37.2540</td>\n",
       "      <td>M</td>\n",
       "      <td>ML Road Pedal</td>\n",
       "      <td>Lightweight aluminum alloy construction.</td>\n",
       "      <td>Current</td>\n",
       "      <td>Pedals</td>\n",
       "      <td>Components</td>\n",
       "      <td>2018-07-01</td>\n",
       "      <td>NaT</td>\n",
       "    </tr>\n",
       "    <tr>\n",
       "      <th>201</th>\n",
       "      <td>547</td>\n",
       "      <td>13</td>\n",
       "      <td>HL Road Pedal</td>\n",
       "      <td>35.9596</td>\n",
       "      <td>Silver/Black</td>\n",
       "      <td>500</td>\n",
       "      <td>80.9900</td>\n",
       "      <td>NaN</td>\n",
       "      <td>NaN</td>\n",
       "      <td>149.00</td>\n",
       "      <td>...</td>\n",
       "      <td>R</td>\n",
       "      <td>48.5940</td>\n",
       "      <td>H</td>\n",
       "      <td>HL Road Pedal</td>\n",
       "      <td>Top-of-the-line clipless pedals with adjustabl...</td>\n",
       "      <td>Current</td>\n",
       "      <td>Pedals</td>\n",
       "      <td>Components</td>\n",
       "      <td>2018-07-01</td>\n",
       "      <td>NaT</td>\n",
       "    </tr>\n",
       "    <tr>\n",
       "      <th>202</th>\n",
       "      <td>548</td>\n",
       "      <td>13</td>\n",
       "      <td>Touring Pedal</td>\n",
       "      <td>35.9596</td>\n",
       "      <td>Silver/Black</td>\n",
       "      <td>500</td>\n",
       "      <td>80.9900</td>\n",
       "      <td>NaN</td>\n",
       "      <td>NaN</td>\n",
       "      <td>NaN</td>\n",
       "      <td>...</td>\n",
       "      <td>T</td>\n",
       "      <td>48.5940</td>\n",
       "      <td>NaN</td>\n",
       "      <td>Touring Pedal</td>\n",
       "      <td>A stable pedal for all-day riding.</td>\n",
       "      <td>Current</td>\n",
       "      <td>Pedals</td>\n",
       "      <td>Components</td>\n",
       "      <td>2018-07-01</td>\n",
       "      <td>NaT</td>\n",
       "    </tr>\n",
       "    <tr>\n",
       "      <th>203</th>\n",
       "      <td>417</td>\n",
       "      <td>14</td>\n",
       "      <td>ML Road Frame-W - Yellow, 38</td>\n",
       "      <td>300.1188</td>\n",
       "      <td>Yellow</td>\n",
       "      <td>500</td>\n",
       "      <td>540.7545</td>\n",
       "      <td>38.0</td>\n",
       "      <td>38-40 CM</td>\n",
       "      <td>2.18</td>\n",
       "      <td>...</td>\n",
       "      <td>R</td>\n",
       "      <td>324.4527</td>\n",
       "      <td>M</td>\n",
       "      <td>ML Road Frame-W</td>\n",
       "      <td>Made from the same aluminum alloy as our top-o...</td>\n",
       "      <td>NaN</td>\n",
       "      <td>Road Frames</td>\n",
       "      <td>Components</td>\n",
       "      <td>2017-07-01</td>\n",
       "      <td>2018-06-30</td>\n",
       "    </tr>\n",
       "    <tr>\n",
       "      <th>204</th>\n",
       "      <td>418</td>\n",
       "      <td>14</td>\n",
       "      <td>ML Road Frame-W - Yellow, 38</td>\n",
       "      <td>360.9428</td>\n",
       "      <td>Yellow</td>\n",
       "      <td>500</td>\n",
       "      <td>594.8300</td>\n",
       "      <td>38.0</td>\n",
       "      <td>38-40 CM</td>\n",
       "      <td>2.18</td>\n",
       "      <td>...</td>\n",
       "      <td>R</td>\n",
       "      <td>356.8980</td>\n",
       "      <td>M</td>\n",
       "      <td>ML Road Frame-W</td>\n",
       "      <td>Made from the same aluminum alloy as our top-o...</td>\n",
       "      <td>Current</td>\n",
       "      <td>Road Frames</td>\n",
       "      <td>Components</td>\n",
       "      <td>2018-07-01</td>\n",
       "      <td>NaT</td>\n",
       "    </tr>\n",
       "    <tr>\n",
       "      <th>...</th>\n",
       "      <td>...</td>\n",
       "      <td>...</td>\n",
       "      <td>...</td>\n",
       "      <td>...</td>\n",
       "      <td>...</td>\n",
       "      <td>...</td>\n",
       "      <td>...</td>\n",
       "      <td>...</td>\n",
       "      <td>...</td>\n",
       "      <td>...</td>\n",
       "      <td>...</td>\n",
       "      <td>...</td>\n",
       "      <td>...</td>\n",
       "      <td>...</td>\n",
       "      <td>...</td>\n",
       "      <td>...</td>\n",
       "      <td>...</td>\n",
       "      <td>...</td>\n",
       "      <td>...</td>\n",
       "      <td>...</td>\n",
       "      <td>...</td>\n",
       "    </tr>\n",
       "    <tr>\n",
       "      <th>296</th>\n",
       "      <td>507</td>\n",
       "      <td>16</td>\n",
       "      <td>LL Touring Frame - Yellow, 50</td>\n",
       "      <td>199.8519</td>\n",
       "      <td>Yellow</td>\n",
       "      <td>500</td>\n",
       "      <td>333.4200</td>\n",
       "      <td>50.0</td>\n",
       "      <td>48-52 CM</td>\n",
       "      <td>3.10</td>\n",
       "      <td>...</td>\n",
       "      <td>T</td>\n",
       "      <td>200.0520</td>\n",
       "      <td>L</td>\n",
       "      <td>LL Touring Frame</td>\n",
       "      <td>Lightweight butted aluminum frame provides a m...</td>\n",
       "      <td>Current</td>\n",
       "      <td>Touring Frames</td>\n",
       "      <td>Components</td>\n",
       "      <td>2018-07-01</td>\n",
       "      <td>NaT</td>\n",
       "    </tr>\n",
       "    <tr>\n",
       "      <th>297</th>\n",
       "      <td>508</td>\n",
       "      <td>16</td>\n",
       "      <td>LL Touring Frame - Yellow, 54</td>\n",
       "      <td>199.8519</td>\n",
       "      <td>Yellow</td>\n",
       "      <td>500</td>\n",
       "      <td>333.4200</td>\n",
       "      <td>54.0</td>\n",
       "      <td>54-58 CM</td>\n",
       "      <td>3.14</td>\n",
       "      <td>...</td>\n",
       "      <td>T</td>\n",
       "      <td>200.0520</td>\n",
       "      <td>L</td>\n",
       "      <td>LL Touring Frame</td>\n",
       "      <td>Lightweight butted aluminum frame provides a m...</td>\n",
       "      <td>Current</td>\n",
       "      <td>Touring Frames</td>\n",
       "      <td>Components</td>\n",
       "      <td>2018-07-01</td>\n",
       "      <td>NaT</td>\n",
       "    </tr>\n",
       "    <tr>\n",
       "      <th>298</th>\n",
       "      <td>509</td>\n",
       "      <td>16</td>\n",
       "      <td>LL Touring Frame - Yellow, 58</td>\n",
       "      <td>199.8519</td>\n",
       "      <td>Yellow</td>\n",
       "      <td>500</td>\n",
       "      <td>333.4200</td>\n",
       "      <td>58.0</td>\n",
       "      <td>54-58 CM</td>\n",
       "      <td>3.16</td>\n",
       "      <td>...</td>\n",
       "      <td>T</td>\n",
       "      <td>200.0520</td>\n",
       "      <td>L</td>\n",
       "      <td>LL Touring Frame</td>\n",
       "      <td>Lightweight butted aluminum frame provides a m...</td>\n",
       "      <td>Current</td>\n",
       "      <td>Touring Frames</td>\n",
       "      <td>Components</td>\n",
       "      <td>2018-07-01</td>\n",
       "      <td>NaT</td>\n",
       "    </tr>\n",
       "    <tr>\n",
       "      <th>299</th>\n",
       "      <td>510</td>\n",
       "      <td>16</td>\n",
       "      <td>LL Touring Frame - Blue, 44</td>\n",
       "      <td>199.8519</td>\n",
       "      <td>Blue</td>\n",
       "      <td>500</td>\n",
       "      <td>333.4200</td>\n",
       "      <td>44.0</td>\n",
       "      <td>42-46 CM</td>\n",
       "      <td>3.02</td>\n",
       "      <td>...</td>\n",
       "      <td>T</td>\n",
       "      <td>200.0520</td>\n",
       "      <td>L</td>\n",
       "      <td>LL Touring Frame</td>\n",
       "      <td>Lightweight butted aluminum frame provides a m...</td>\n",
       "      <td>Current</td>\n",
       "      <td>Touring Frames</td>\n",
       "      <td>Components</td>\n",
       "      <td>2018-07-01</td>\n",
       "      <td>NaT</td>\n",
       "    </tr>\n",
       "    <tr>\n",
       "      <th>300</th>\n",
       "      <td>410</td>\n",
       "      <td>17</td>\n",
       "      <td>LL Mountain Front Wheel</td>\n",
       "      <td>26.9708</td>\n",
       "      <td>Black</td>\n",
       "      <td>500</td>\n",
       "      <td>60.7450</td>\n",
       "      <td>NaN</td>\n",
       "      <td>NaN</td>\n",
       "      <td>NaN</td>\n",
       "      <td>...</td>\n",
       "      <td>M</td>\n",
       "      <td>36.4470</td>\n",
       "      <td>L</td>\n",
       "      <td>LL Mountain Front Wheel</td>\n",
       "      <td>Replacement mountain wheel for entry-level rider.</td>\n",
       "      <td>NaN</td>\n",
       "      <td>Wheels</td>\n",
       "      <td>Components</td>\n",
       "      <td>2017-07-01</td>\n",
       "      <td>2018-06-30</td>\n",
       "    </tr>\n",
       "  </tbody>\n",
       "</table>\n",
       "<p>101 rows × 21 columns</p>\n",
       "</div>"
      ],
      "text/plain": [
       "     ProductKey  ProductSubcategoryKey                    ProductName  \\\n",
       "200         546                     13                  ML Road Pedal   \n",
       "201         547                     13                  HL Road Pedal   \n",
       "202         548                     13                  Touring Pedal   \n",
       "203         417                     14   ML Road Frame-W - Yellow, 38   \n",
       "204         418                     14   ML Road Frame-W - Yellow, 38   \n",
       "..          ...                    ...                            ...   \n",
       "296         507                     16  LL Touring Frame - Yellow, 50   \n",
       "297         508                     16  LL Touring Frame - Yellow, 54   \n",
       "298         509                     16  LL Touring Frame - Yellow, 58   \n",
       "299         510                     16    LL Touring Frame - Blue, 44   \n",
       "300         410                     17        LL Mountain Front Wheel   \n",
       "\n",
       "     StandardCost         Color  SafetyStockLevel  ListPrice  Size SizeRange  \\\n",
       "200       27.5680  Silver/Black               500    62.0900   NaN       NaN   \n",
       "201       35.9596  Silver/Black               500    80.9900   NaN       NaN   \n",
       "202       35.9596  Silver/Black               500    80.9900   NaN       NaN   \n",
       "203      300.1188        Yellow               500   540.7545  38.0  38-40 CM   \n",
       "204      360.9428        Yellow               500   594.8300  38.0  38-40 CM   \n",
       "..            ...           ...               ...        ...   ...       ...   \n",
       "296      199.8519        Yellow               500   333.4200  50.0  48-52 CM   \n",
       "297      199.8519        Yellow               500   333.4200  54.0  54-58 CM   \n",
       "298      199.8519        Yellow               500   333.4200  58.0  54-58 CM   \n",
       "299      199.8519          Blue               500   333.4200  44.0  42-46 CM   \n",
       "300       26.9708         Black               500    60.7450   NaN       NaN   \n",
       "\n",
       "     Weight  ...  ProductLine DealerPrice  Class                ModelName  \\\n",
       "200  168.00  ...            R     37.2540      M            ML Road Pedal   \n",
       "201  149.00  ...            R     48.5940      H            HL Road Pedal   \n",
       "202     NaN  ...            T     48.5940    NaN            Touring Pedal   \n",
       "203    2.18  ...            R    324.4527      M          ML Road Frame-W   \n",
       "204    2.18  ...            R    356.8980      M          ML Road Frame-W   \n",
       "..      ...  ...          ...         ...    ...                      ...   \n",
       "296    3.10  ...            T    200.0520      L         LL Touring Frame   \n",
       "297    3.14  ...            T    200.0520      L         LL Touring Frame   \n",
       "298    3.16  ...            T    200.0520      L         LL Touring Frame   \n",
       "299    3.02  ...            T    200.0520      L         LL Touring Frame   \n",
       "300     NaN  ...            M     36.4470      L  LL Mountain Front Wheel   \n",
       "\n",
       "                                           Description   Status  \\\n",
       "200           Lightweight aluminum alloy construction.  Current   \n",
       "201  Top-of-the-line clipless pedals with adjustabl...  Current   \n",
       "202                 A stable pedal for all-day riding.  Current   \n",
       "203  Made from the same aluminum alloy as our top-o...      NaN   \n",
       "204  Made from the same aluminum alloy as our top-o...  Current   \n",
       "..                                                 ...      ...   \n",
       "296  Lightweight butted aluminum frame provides a m...  Current   \n",
       "297  Lightweight butted aluminum frame provides a m...  Current   \n",
       "298  Lightweight butted aluminum frame provides a m...  Current   \n",
       "299  Lightweight butted aluminum frame provides a m...  Current   \n",
       "300  Replacement mountain wheel for entry-level rider.      NaN   \n",
       "\n",
       "        SubCategory    Category  StartDate    EndDate  \n",
       "200          Pedals  Components 2018-07-01        NaT  \n",
       "201          Pedals  Components 2018-07-01        NaT  \n",
       "202          Pedals  Components 2018-07-01        NaT  \n",
       "203     Road Frames  Components 2017-07-01 2018-06-30  \n",
       "204     Road Frames  Components 2018-07-01        NaT  \n",
       "..              ...         ...        ...        ...  \n",
       "296  Touring Frames  Components 2018-07-01        NaT  \n",
       "297  Touring Frames  Components 2018-07-01        NaT  \n",
       "298  Touring Frames  Components 2018-07-01        NaT  \n",
       "299  Touring Frames  Components 2018-07-01        NaT  \n",
       "300          Wheels  Components 2017-07-01 2018-06-30  \n",
       "\n",
       "[101 rows x 21 columns]"
      ]
     },
     "execution_count": 75,
     "metadata": {},
     "output_type": "execute_result"
    }
   ],
   "source": [
    "product_table[200:301]"
   ]
  },
  {
   "cell_type": "code",
   "execution_count": 80,
   "id": "2e10b0f6",
   "metadata": {},
   "outputs": [
    {
     "data": {
      "text/html": [
       "<div>\n",
       "<style scoped>\n",
       "    .dataframe tbody tr th:only-of-type {\n",
       "        vertical-align: middle;\n",
       "    }\n",
       "\n",
       "    .dataframe tbody tr th {\n",
       "        vertical-align: top;\n",
       "    }\n",
       "\n",
       "    .dataframe thead th {\n",
       "        text-align: right;\n",
       "    }\n",
       "</style>\n",
       "<table border=\"1\" class=\"dataframe\">\n",
       "  <thead>\n",
       "    <tr style=\"text-align: right;\">\n",
       "      <th></th>\n",
       "      <th>ProductKey</th>\n",
       "      <th>Color</th>\n",
       "      <th>StandardCost</th>\n",
       "    </tr>\n",
       "  </thead>\n",
       "  <tbody>\n",
       "    <tr>\n",
       "      <th>200</th>\n",
       "      <td>546</td>\n",
       "      <td>Silver/Black</td>\n",
       "      <td>27.5680</td>\n",
       "    </tr>\n",
       "    <tr>\n",
       "      <th>205</th>\n",
       "      <td>429</td>\n",
       "      <td>Yellow</td>\n",
       "      <td>300.1188</td>\n",
       "    </tr>\n",
       "    <tr>\n",
       "      <th>250</th>\n",
       "      <td>272</td>\n",
       "      <td>Red</td>\n",
       "      <td>181.4857</td>\n",
       "    </tr>\n",
       "    <tr>\n",
       "      <th>305</th>\n",
       "      <td>420</td>\n",
       "      <td>Black</td>\n",
       "      <td>104.7951</td>\n",
       "    </tr>\n",
       "  </tbody>\n",
       "</table>\n",
       "</div>"
      ],
      "text/plain": [
       "     ProductKey         Color  StandardCost\n",
       "200         546  Silver/Black       27.5680\n",
       "205         429        Yellow      300.1188\n",
       "250         272           Red      181.4857\n",
       "305         420         Black      104.7951"
      ]
     },
     "execution_count": 80,
     "metadata": {},
     "output_type": "execute_result"
    }
   ],
   "source": [
    "# locate .loc[rows range/rows nomber, columns list]\n",
    "\n",
    "\n",
    "product_table.loc[[200,205,250,305],['ProductKey','Color','StandardCost']]"
   ]
  },
  {
   "cell_type": "code",
   "execution_count": 85,
   "id": "49ea41fe",
   "metadata": {},
   "outputs": [],
   "source": [
    "product_table.loc[[2],['Color']] = 'Dark Blue'"
   ]
  },
  {
   "cell_type": "code",
   "execution_count": 86,
   "id": "3c4fbd15",
   "metadata": {},
   "outputs": [
    {
     "data": {
      "text/html": [
       "<div>\n",
       "<style scoped>\n",
       "    .dataframe tbody tr th:only-of-type {\n",
       "        vertical-align: middle;\n",
       "    }\n",
       "\n",
       "    .dataframe tbody tr th {\n",
       "        vertical-align: top;\n",
       "    }\n",
       "\n",
       "    .dataframe thead th {\n",
       "        text-align: right;\n",
       "    }\n",
       "</style>\n",
       "<table border=\"1\" class=\"dataframe\">\n",
       "  <thead>\n",
       "    <tr style=\"text-align: right;\">\n",
       "      <th></th>\n",
       "      <th>ProductKey</th>\n",
       "      <th>ProductSubcategoryKey</th>\n",
       "      <th>ProductName</th>\n",
       "      <th>StandardCost</th>\n",
       "      <th>Color</th>\n",
       "      <th>SafetyStockLevel</th>\n",
       "      <th>ListPrice</th>\n",
       "      <th>Size</th>\n",
       "      <th>SizeRange</th>\n",
       "      <th>Weight</th>\n",
       "      <th>...</th>\n",
       "      <th>ProductLine</th>\n",
       "      <th>DealerPrice</th>\n",
       "      <th>Class</th>\n",
       "      <th>ModelName</th>\n",
       "      <th>Description</th>\n",
       "      <th>Status</th>\n",
       "      <th>SubCategory</th>\n",
       "      <th>Category</th>\n",
       "      <th>StartDate</th>\n",
       "      <th>EndDate</th>\n",
       "    </tr>\n",
       "  </thead>\n",
       "  <tbody>\n",
       "    <tr>\n",
       "      <th>0</th>\n",
       "      <td>362</td>\n",
       "      <td>1</td>\n",
       "      <td>Mountain-200 Black, 46</td>\n",
       "      <td>1105.8100</td>\n",
       "      <td>Black</td>\n",
       "      <td>100</td>\n",
       "      <td>2049.0982</td>\n",
       "      <td>46.0</td>\n",
       "      <td>42-46 CM</td>\n",
       "      <td>24.13</td>\n",
       "      <td>...</td>\n",
       "      <td>M</td>\n",
       "      <td>1229.4589</td>\n",
       "      <td>H</td>\n",
       "      <td>Mountain-200</td>\n",
       "      <td>Serious back-country riding. Perfect for all l...</td>\n",
       "      <td>NaN</td>\n",
       "      <td>Mountain Bikes</td>\n",
       "      <td>Bikes</td>\n",
       "      <td>2017-07-01</td>\n",
       "      <td>2018-06-30</td>\n",
       "    </tr>\n",
       "    <tr>\n",
       "      <th>1</th>\n",
       "      <td>363</td>\n",
       "      <td>1</td>\n",
       "      <td>Mountain-200 Black, 46</td>\n",
       "      <td>1251.9813</td>\n",
       "      <td>Black</td>\n",
       "      <td>100</td>\n",
       "      <td>2294.9900</td>\n",
       "      <td>46.0</td>\n",
       "      <td>42-46 CM</td>\n",
       "      <td>24.13</td>\n",
       "      <td>...</td>\n",
       "      <td>M</td>\n",
       "      <td>1376.9940</td>\n",
       "      <td>H</td>\n",
       "      <td>Mountain-200</td>\n",
       "      <td>Serious back-country riding. Perfect for all l...</td>\n",
       "      <td>Current</td>\n",
       "      <td>Mountain Bikes</td>\n",
       "      <td>Bikes</td>\n",
       "      <td>2018-07-01</td>\n",
       "      <td>NaT</td>\n",
       "    </tr>\n",
       "    <tr>\n",
       "      <th>2</th>\n",
       "      <td>364</td>\n",
       "      <td>1</td>\n",
       "      <td>Mountain-300 Black, 38</td>\n",
       "      <td>598.4354</td>\n",
       "      <td>Dark Blue</td>\n",
       "      <td>100</td>\n",
       "      <td>1079.9900</td>\n",
       "      <td>38.0</td>\n",
       "      <td>38-40 CM</td>\n",
       "      <td>25.35</td>\n",
       "      <td>...</td>\n",
       "      <td>M</td>\n",
       "      <td>647.9940</td>\n",
       "      <td>M</td>\n",
       "      <td>Mountain-300</td>\n",
       "      <td>For true trail addicts.  An extremely durable ...</td>\n",
       "      <td>NaN</td>\n",
       "      <td>Mountain Bikes</td>\n",
       "      <td>Bikes</td>\n",
       "      <td>2017-07-01</td>\n",
       "      <td>2018-06-30</td>\n",
       "    </tr>\n",
       "    <tr>\n",
       "      <th>3</th>\n",
       "      <td>365</td>\n",
       "      <td>1</td>\n",
       "      <td>Mountain-300 Black, 40</td>\n",
       "      <td>598.4354</td>\n",
       "      <td>Black</td>\n",
       "      <td>100</td>\n",
       "      <td>1079.9900</td>\n",
       "      <td>40.0</td>\n",
       "      <td>38-40 CM</td>\n",
       "      <td>25.77</td>\n",
       "      <td>...</td>\n",
       "      <td>M</td>\n",
       "      <td>647.9940</td>\n",
       "      <td>M</td>\n",
       "      <td>Mountain-300</td>\n",
       "      <td>For true trail addicts.  An extremely durable ...</td>\n",
       "      <td>NaN</td>\n",
       "      <td>Mountain Bikes</td>\n",
       "      <td>Bikes</td>\n",
       "      <td>2017-07-01</td>\n",
       "      <td>2018-06-30</td>\n",
       "    </tr>\n",
       "    <tr>\n",
       "      <th>4</th>\n",
       "      <td>587</td>\n",
       "      <td>1</td>\n",
       "      <td>Mountain-400-W Silver, 38</td>\n",
       "      <td>419.7784</td>\n",
       "      <td>Silver</td>\n",
       "      <td>100</td>\n",
       "      <td>769.4900</td>\n",
       "      <td>38.0</td>\n",
       "      <td>38-40 CM</td>\n",
       "      <td>26.35</td>\n",
       "      <td>...</td>\n",
       "      <td>M</td>\n",
       "      <td>461.6940</td>\n",
       "      <td>M</td>\n",
       "      <td>Mountain-400-W</td>\n",
       "      <td>This bike delivers a high-level of performance...</td>\n",
       "      <td>Current</td>\n",
       "      <td>Mountain Bikes</td>\n",
       "      <td>Bikes</td>\n",
       "      <td>2018-07-01</td>\n",
       "      <td>NaT</td>\n",
       "    </tr>\n",
       "    <tr>\n",
       "      <th>...</th>\n",
       "      <td>...</td>\n",
       "      <td>...</td>\n",
       "      <td>...</td>\n",
       "      <td>...</td>\n",
       "      <td>...</td>\n",
       "      <td>...</td>\n",
       "      <td>...</td>\n",
       "      <td>...</td>\n",
       "      <td>...</td>\n",
       "      <td>...</td>\n",
       "      <td>...</td>\n",
       "      <td>...</td>\n",
       "      <td>...</td>\n",
       "      <td>...</td>\n",
       "      <td>...</td>\n",
       "      <td>...</td>\n",
       "      <td>...</td>\n",
       "      <td>...</td>\n",
       "      <td>...</td>\n",
       "      <td>...</td>\n",
       "      <td>...</td>\n",
       "    </tr>\n",
       "    <tr>\n",
       "      <th>392</th>\n",
       "      <td>537</td>\n",
       "      <td>37</td>\n",
       "      <td>HL Mountain Tire</td>\n",
       "      <td>13.0900</td>\n",
       "      <td>NaN</td>\n",
       "      <td>500</td>\n",
       "      <td>35.0000</td>\n",
       "      <td>NaN</td>\n",
       "      <td>NaN</td>\n",
       "      <td>NaN</td>\n",
       "      <td>...</td>\n",
       "      <td>M</td>\n",
       "      <td>21.0000</td>\n",
       "      <td>H</td>\n",
       "      <td>HL Mountain Tire</td>\n",
       "      <td>Incredible traction, lightweight carbon reinfo...</td>\n",
       "      <td>Current</td>\n",
       "      <td>Tires and Tubes</td>\n",
       "      <td>Accessories</td>\n",
       "      <td>2018-07-01</td>\n",
       "      <td>NaT</td>\n",
       "    </tr>\n",
       "    <tr>\n",
       "      <th>393</th>\n",
       "      <td>538</td>\n",
       "      <td>37</td>\n",
       "      <td>LL Road Tire</td>\n",
       "      <td>8.0373</td>\n",
       "      <td>NaN</td>\n",
       "      <td>500</td>\n",
       "      <td>21.4900</td>\n",
       "      <td>NaN</td>\n",
       "      <td>NaN</td>\n",
       "      <td>NaN</td>\n",
       "      <td>...</td>\n",
       "      <td>R</td>\n",
       "      <td>12.8940</td>\n",
       "      <td>L</td>\n",
       "      <td>LL Road Tire</td>\n",
       "      <td>Same great treads as more expensive tire with ...</td>\n",
       "      <td>Current</td>\n",
       "      <td>Tires and Tubes</td>\n",
       "      <td>Accessories</td>\n",
       "      <td>2018-07-01</td>\n",
       "      <td>NaT</td>\n",
       "    </tr>\n",
       "    <tr>\n",
       "      <th>394</th>\n",
       "      <td>539</td>\n",
       "      <td>37</td>\n",
       "      <td>ML Road Tire</td>\n",
       "      <td>9.3463</td>\n",
       "      <td>NaN</td>\n",
       "      <td>500</td>\n",
       "      <td>24.9900</td>\n",
       "      <td>NaN</td>\n",
       "      <td>NaN</td>\n",
       "      <td>NaN</td>\n",
       "      <td>...</td>\n",
       "      <td>R</td>\n",
       "      <td>14.9940</td>\n",
       "      <td>M</td>\n",
       "      <td>ML Road Tire</td>\n",
       "      <td>Higher density rubber.</td>\n",
       "      <td>Current</td>\n",
       "      <td>Tires and Tubes</td>\n",
       "      <td>Accessories</td>\n",
       "      <td>2018-07-01</td>\n",
       "      <td>NaT</td>\n",
       "    </tr>\n",
       "    <tr>\n",
       "      <th>395</th>\n",
       "      <td>540</td>\n",
       "      <td>37</td>\n",
       "      <td>HL Road Tire</td>\n",
       "      <td>12.1924</td>\n",
       "      <td>NaN</td>\n",
       "      <td>500</td>\n",
       "      <td>32.6000</td>\n",
       "      <td>NaN</td>\n",
       "      <td>NaN</td>\n",
       "      <td>NaN</td>\n",
       "      <td>...</td>\n",
       "      <td>R</td>\n",
       "      <td>19.5600</td>\n",
       "      <td>H</td>\n",
       "      <td>HL Road Tire</td>\n",
       "      <td>Lightweight carbon reinforced  for an unrivale...</td>\n",
       "      <td>Current</td>\n",
       "      <td>Tires and Tubes</td>\n",
       "      <td>Accessories</td>\n",
       "      <td>2018-07-01</td>\n",
       "      <td>NaT</td>\n",
       "    </tr>\n",
       "    <tr>\n",
       "      <th>396</th>\n",
       "      <td>541</td>\n",
       "      <td>37</td>\n",
       "      <td>Touring Tire</td>\n",
       "      <td>10.8423</td>\n",
       "      <td>NaN</td>\n",
       "      <td>500</td>\n",
       "      <td>28.9900</td>\n",
       "      <td>NaN</td>\n",
       "      <td>NaN</td>\n",
       "      <td>NaN</td>\n",
       "      <td>...</td>\n",
       "      <td>T</td>\n",
       "      <td>17.3940</td>\n",
       "      <td>NaN</td>\n",
       "      <td>Touring Tire</td>\n",
       "      <td>High-density rubber.</td>\n",
       "      <td>Current</td>\n",
       "      <td>Tires and Tubes</td>\n",
       "      <td>Accessories</td>\n",
       "      <td>2018-07-01</td>\n",
       "      <td>NaT</td>\n",
       "    </tr>\n",
       "  </tbody>\n",
       "</table>\n",
       "<p>397 rows × 21 columns</p>\n",
       "</div>"
      ],
      "text/plain": [
       "     ProductKey  ProductSubcategoryKey                ProductName  \\\n",
       "0           362                      1     Mountain-200 Black, 46   \n",
       "1           363                      1     Mountain-200 Black, 46   \n",
       "2           364                      1     Mountain-300 Black, 38   \n",
       "3           365                      1     Mountain-300 Black, 40   \n",
       "4           587                      1  Mountain-400-W Silver, 38   \n",
       "..          ...                    ...                        ...   \n",
       "392         537                     37           HL Mountain Tire   \n",
       "393         538                     37               LL Road Tire   \n",
       "394         539                     37               ML Road Tire   \n",
       "395         540                     37               HL Road Tire   \n",
       "396         541                     37               Touring Tire   \n",
       "\n",
       "     StandardCost      Color  SafetyStockLevel  ListPrice  Size SizeRange  \\\n",
       "0       1105.8100      Black               100  2049.0982  46.0  42-46 CM   \n",
       "1       1251.9813      Black               100  2294.9900  46.0  42-46 CM   \n",
       "2        598.4354  Dark Blue               100  1079.9900  38.0  38-40 CM   \n",
       "3        598.4354      Black               100  1079.9900  40.0  38-40 CM   \n",
       "4        419.7784     Silver               100   769.4900  38.0  38-40 CM   \n",
       "..            ...        ...               ...        ...   ...       ...   \n",
       "392       13.0900        NaN               500    35.0000   NaN       NaN   \n",
       "393        8.0373        NaN               500    21.4900   NaN       NaN   \n",
       "394        9.3463        NaN               500    24.9900   NaN       NaN   \n",
       "395       12.1924        NaN               500    32.6000   NaN       NaN   \n",
       "396       10.8423        NaN               500    28.9900   NaN       NaN   \n",
       "\n",
       "     Weight  ...  ProductLine DealerPrice  Class         ModelName  \\\n",
       "0     24.13  ...            M   1229.4589      H      Mountain-200   \n",
       "1     24.13  ...            M   1376.9940      H      Mountain-200   \n",
       "2     25.35  ...            M    647.9940      M      Mountain-300   \n",
       "3     25.77  ...            M    647.9940      M      Mountain-300   \n",
       "4     26.35  ...            M    461.6940      M    Mountain-400-W   \n",
       "..      ...  ...          ...         ...    ...               ...   \n",
       "392     NaN  ...            M     21.0000      H  HL Mountain Tire   \n",
       "393     NaN  ...            R     12.8940      L      LL Road Tire   \n",
       "394     NaN  ...            R     14.9940      M      ML Road Tire   \n",
       "395     NaN  ...            R     19.5600      H      HL Road Tire   \n",
       "396     NaN  ...            T     17.3940    NaN      Touring Tire   \n",
       "\n",
       "                                           Description   Status  \\\n",
       "0    Serious back-country riding. Perfect for all l...      NaN   \n",
       "1    Serious back-country riding. Perfect for all l...  Current   \n",
       "2    For true trail addicts.  An extremely durable ...      NaN   \n",
       "3    For true trail addicts.  An extremely durable ...      NaN   \n",
       "4    This bike delivers a high-level of performance...  Current   \n",
       "..                                                 ...      ...   \n",
       "392  Incredible traction, lightweight carbon reinfo...  Current   \n",
       "393  Same great treads as more expensive tire with ...  Current   \n",
       "394                             Higher density rubber.  Current   \n",
       "395  Lightweight carbon reinforced  for an unrivale...  Current   \n",
       "396                               High-density rubber.  Current   \n",
       "\n",
       "         SubCategory     Category  StartDate    EndDate  \n",
       "0     Mountain Bikes        Bikes 2017-07-01 2018-06-30  \n",
       "1     Mountain Bikes        Bikes 2018-07-01        NaT  \n",
       "2     Mountain Bikes        Bikes 2017-07-01 2018-06-30  \n",
       "3     Mountain Bikes        Bikes 2017-07-01 2018-06-30  \n",
       "4     Mountain Bikes        Bikes 2018-07-01        NaT  \n",
       "..               ...          ...        ...        ...  \n",
       "392  Tires and Tubes  Accessories 2018-07-01        NaT  \n",
       "393  Tires and Tubes  Accessories 2018-07-01        NaT  \n",
       "394  Tires and Tubes  Accessories 2018-07-01        NaT  \n",
       "395  Tires and Tubes  Accessories 2018-07-01        NaT  \n",
       "396  Tires and Tubes  Accessories 2018-07-01        NaT  \n",
       "\n",
       "[397 rows x 21 columns]"
      ]
     },
     "execution_count": 86,
     "metadata": {},
     "output_type": "execute_result"
    }
   ],
   "source": [
    "product_table"
   ]
  },
  {
   "cell_type": "code",
   "execution_count": 88,
   "id": "300ba08e",
   "metadata": {},
   "outputs": [
    {
     "data": {
      "text/plain": [
       "<bound method IndexOpsMixin.value_counts of 0      M\n",
       "1      M\n",
       "2      M\n",
       "3      M\n",
       "4      M\n",
       "      ..\n",
       "392    M\n",
       "393    R\n",
       "394    R\n",
       "395    R\n",
       "396    T\n",
       "Name: ProductLine, Length: 397, dtype: object>"
      ]
     },
     "execution_count": 88,
     "metadata": {},
     "output_type": "execute_result"
    }
   ],
   "source": [
    "product_table['ProductLine'].value_counts"
   ]
  },
  {
   "cell_type": "code",
   "execution_count": 93,
   "id": "58a69f8f",
   "metadata": {},
   "outputs": [],
   "source": [
    "product_table['ProductLine'].replace({'R': 'Racket', 'M': 'Mountain Bike'}, inplace = True)"
   ]
  },
  {
   "cell_type": "code",
   "execution_count": 92,
   "id": "7c553da6",
   "metadata": {},
   "outputs": [
    {
     "data": {
      "text/plain": [
       "Series([], dtype: int64)"
      ]
     },
     "execution_count": 92,
     "metadata": {},
     "output_type": "execute_result"
    }
   ],
   "source": [
    "product_table.value_counts()"
   ]
  },
  {
   "cell_type": "markdown",
   "id": "4c3d54b3",
   "metadata": {},
   "source": [
    "# Dealig with missing data / values \n",
    "\n",
    "\n",
    "\n",
    "* Delete the values\n",
    "* Assign mean of the present values to the missing\n",
    "* Assign a specific value\n",
    "* Interpolutoin"
   ]
  },
  {
   "cell_type": "code",
   "execution_count": 101,
   "id": "e77549fc",
   "metadata": {},
   "outputs": [
    {
     "data": {
      "text/plain": [
       "ProductKey                 0\n",
       "ProductSubcategoryKey      0\n",
       "ProductName                0\n",
       "StandardCost               2\n",
       "Color                     56\n",
       "SafetyStockLevel           0\n",
       "ListPrice                  2\n",
       "Size                     143\n",
       "SizeRange                 98\n",
       "Weight                   122\n",
       "DaysToManufacture          0\n",
       "ProductLine               17\n",
       "DealerPrice                2\n",
       "Class                     85\n",
       "ModelName                  0\n",
       "Description                1\n",
       "Status                   200\n",
       "SubCategory                0\n",
       "Category                   0\n",
       "StartDate                  0\n",
       "EndDate                  197\n",
       "dtype: int64"
      ]
     },
     "execution_count": 101,
     "metadata": {},
     "output_type": "execute_result"
    }
   ],
   "source": [
    "product_table.isna().sum()"
   ]
  },
  {
   "cell_type": "code",
   "execution_count": 100,
   "id": "9d1d5a37",
   "metadata": {},
   "outputs": [
    {
     "data": {
      "text/plain": [
       "56"
      ]
     },
     "execution_count": 100,
     "metadata": {},
     "output_type": "execute_result"
    }
   ],
   "source": [
    "product_table['Color'].isna().sum()"
   ]
  },
  {
   "cell_type": "code",
   "execution_count": 102,
   "id": "377a49c2",
   "metadata": {},
   "outputs": [
    {
     "data": {
      "text/html": [
       "<div>\n",
       "<style scoped>\n",
       "    .dataframe tbody tr th:only-of-type {\n",
       "        vertical-align: middle;\n",
       "    }\n",
       "\n",
       "    .dataframe tbody tr th {\n",
       "        vertical-align: top;\n",
       "    }\n",
       "\n",
       "    .dataframe thead th {\n",
       "        text-align: right;\n",
       "    }\n",
       "</style>\n",
       "<table border=\"1\" class=\"dataframe\">\n",
       "  <thead>\n",
       "    <tr style=\"text-align: right;\">\n",
       "      <th></th>\n",
       "      <th>ProductKey</th>\n",
       "      <th>ProductSubcategoryKey</th>\n",
       "      <th>ProductName</th>\n",
       "      <th>StandardCost</th>\n",
       "      <th>Color</th>\n",
       "      <th>SafetyStockLevel</th>\n",
       "      <th>ListPrice</th>\n",
       "      <th>Size</th>\n",
       "      <th>SizeRange</th>\n",
       "      <th>Weight</th>\n",
       "      <th>...</th>\n",
       "      <th>ProductLine</th>\n",
       "      <th>DealerPrice</th>\n",
       "      <th>Class</th>\n",
       "      <th>ModelName</th>\n",
       "      <th>Description</th>\n",
       "      <th>Status</th>\n",
       "      <th>SubCategory</th>\n",
       "      <th>Category</th>\n",
       "      <th>StartDate</th>\n",
       "      <th>EndDate</th>\n",
       "    </tr>\n",
       "  </thead>\n",
       "  <tbody>\n",
       "  </tbody>\n",
       "</table>\n",
       "<p>0 rows × 21 columns</p>\n",
       "</div>"
      ],
      "text/plain": [
       "Empty DataFrame\n",
       "Columns: [ProductKey, ProductSubcategoryKey, ProductName, StandardCost, Color, SafetyStockLevel, ListPrice, Size, SizeRange, Weight, DaysToManufacture, ProductLine, DealerPrice, Class, ModelName, Description, Status, SubCategory, Category, StartDate, EndDate]\n",
       "Index: []\n",
       "\n",
       "[0 rows x 21 columns]"
      ]
     },
     "execution_count": 102,
     "metadata": {},
     "output_type": "execute_result"
    }
   ],
   "source": [
    "product_table.dropna()"
   ]
  },
  {
   "cell_type": "code",
   "execution_count": 103,
   "id": "081ff741",
   "metadata": {},
   "outputs": [
    {
     "data": {
      "text/plain": [
       "0          Black\n",
       "1          Black\n",
       "2      Dark Blue\n",
       "3          Black\n",
       "4         Silver\n",
       "         ...    \n",
       "375         Blue\n",
       "376         Blue\n",
       "377         Blue\n",
       "378       Silver\n",
       "383         Grey\n",
       "Name: Color, Length: 341, dtype: object"
      ]
     },
     "execution_count": 103,
     "metadata": {},
     "output_type": "execute_result"
    }
   ],
   "source": [
    "product_table['Color'].dropna()"
   ]
  },
  {
   "cell_type": "code",
   "execution_count": 104,
   "id": "3b8a556c",
   "metadata": {},
   "outputs": [],
   "source": [
    "product_table['Color'].fillna('Green', inplace = True)"
   ]
  },
  {
   "cell_type": "code",
   "execution_count": 106,
   "id": "a28fb8b1",
   "metadata": {},
   "outputs": [
    {
     "data": {
      "text/plain": [
       "Black           128\n",
       "Red              63\n",
       "Green            56\n",
       "Yellow           46\n",
       "Silver           45\n",
       "Blue             28\n",
       "Multi            18\n",
       "Silver/Black      7\n",
       "White             4\n",
       "Grey              1\n",
       "Dark Blue         1\n",
       "Name: Color, dtype: int64"
      ]
     },
     "execution_count": 106,
     "metadata": {},
     "output_type": "execute_result"
    }
   ],
   "source": [
    "product_table['Color'].value_counts()"
   ]
  },
  {
   "cell_type": "code",
   "execution_count": 107,
   "id": "4e06df13",
   "metadata": {
    "scrolled": false
   },
   "outputs": [
    {
     "data": {
      "text/html": [
       "<div>\n",
       "<style scoped>\n",
       "    .dataframe tbody tr th:only-of-type {\n",
       "        vertical-align: middle;\n",
       "    }\n",
       "\n",
       "    .dataframe tbody tr th {\n",
       "        vertical-align: top;\n",
       "    }\n",
       "\n",
       "    .dataframe thead th {\n",
       "        text-align: right;\n",
       "    }\n",
       "</style>\n",
       "<table border=\"1\" class=\"dataframe\">\n",
       "  <thead>\n",
       "    <tr style=\"text-align: right;\">\n",
       "      <th></th>\n",
       "      <th>ProductKey</th>\n",
       "      <th>ProductSubcategoryKey</th>\n",
       "      <th>ProductName</th>\n",
       "      <th>StandardCost</th>\n",
       "      <th>Color</th>\n",
       "      <th>SafetyStockLevel</th>\n",
       "      <th>ListPrice</th>\n",
       "      <th>Size</th>\n",
       "      <th>SizeRange</th>\n",
       "      <th>Weight</th>\n",
       "      <th>...</th>\n",
       "      <th>ProductLine</th>\n",
       "      <th>DealerPrice</th>\n",
       "      <th>Class</th>\n",
       "      <th>ModelName</th>\n",
       "      <th>Description</th>\n",
       "      <th>Status</th>\n",
       "      <th>SubCategory</th>\n",
       "      <th>Category</th>\n",
       "      <th>StartDate</th>\n",
       "      <th>EndDate</th>\n",
       "    </tr>\n",
       "  </thead>\n",
       "  <tbody>\n",
       "    <tr>\n",
       "      <th>0</th>\n",
       "      <td>362</td>\n",
       "      <td>1</td>\n",
       "      <td>Mountain-200 Black, 46</td>\n",
       "      <td>1105.8100</td>\n",
       "      <td>Black</td>\n",
       "      <td>100</td>\n",
       "      <td>2049.0982</td>\n",
       "      <td>46.0</td>\n",
       "      <td>42-46 CM</td>\n",
       "      <td>24.13</td>\n",
       "      <td>...</td>\n",
       "      <td>Mountain Bike</td>\n",
       "      <td>1229.4589</td>\n",
       "      <td>H</td>\n",
       "      <td>Mountain-200</td>\n",
       "      <td>Serious back-country riding. Perfect for all l...</td>\n",
       "      <td>NaN</td>\n",
       "      <td>Mountain Bikes</td>\n",
       "      <td>Bikes</td>\n",
       "      <td>2017-07-01</td>\n",
       "      <td>2018-06-30</td>\n",
       "    </tr>\n",
       "    <tr>\n",
       "      <th>1</th>\n",
       "      <td>363</td>\n",
       "      <td>1</td>\n",
       "      <td>Mountain-200 Black, 46</td>\n",
       "      <td>1251.9813</td>\n",
       "      <td>Black</td>\n",
       "      <td>100</td>\n",
       "      <td>2294.9900</td>\n",
       "      <td>46.0</td>\n",
       "      <td>42-46 CM</td>\n",
       "      <td>24.13</td>\n",
       "      <td>...</td>\n",
       "      <td>Mountain Bike</td>\n",
       "      <td>1376.9940</td>\n",
       "      <td>H</td>\n",
       "      <td>Mountain-200</td>\n",
       "      <td>Serious back-country riding. Perfect for all l...</td>\n",
       "      <td>Current</td>\n",
       "      <td>Mountain Bikes</td>\n",
       "      <td>Bikes</td>\n",
       "      <td>2018-07-01</td>\n",
       "      <td>NaT</td>\n",
       "    </tr>\n",
       "    <tr>\n",
       "      <th>2</th>\n",
       "      <td>364</td>\n",
       "      <td>1</td>\n",
       "      <td>Mountain-300 Black, 38</td>\n",
       "      <td>598.4354</td>\n",
       "      <td>Dark Blue</td>\n",
       "      <td>100</td>\n",
       "      <td>1079.9900</td>\n",
       "      <td>38.0</td>\n",
       "      <td>38-40 CM</td>\n",
       "      <td>25.35</td>\n",
       "      <td>...</td>\n",
       "      <td>Mountain Bike</td>\n",
       "      <td>647.9940</td>\n",
       "      <td>M</td>\n",
       "      <td>Mountain-300</td>\n",
       "      <td>For true trail addicts.  An extremely durable ...</td>\n",
       "      <td>NaN</td>\n",
       "      <td>Mountain Bikes</td>\n",
       "      <td>Bikes</td>\n",
       "      <td>2017-07-01</td>\n",
       "      <td>2018-06-30</td>\n",
       "    </tr>\n",
       "    <tr>\n",
       "      <th>3</th>\n",
       "      <td>365</td>\n",
       "      <td>1</td>\n",
       "      <td>Mountain-300 Black, 40</td>\n",
       "      <td>598.4354</td>\n",
       "      <td>Black</td>\n",
       "      <td>100</td>\n",
       "      <td>1079.9900</td>\n",
       "      <td>40.0</td>\n",
       "      <td>38-40 CM</td>\n",
       "      <td>25.77</td>\n",
       "      <td>...</td>\n",
       "      <td>Mountain Bike</td>\n",
       "      <td>647.9940</td>\n",
       "      <td>M</td>\n",
       "      <td>Mountain-300</td>\n",
       "      <td>For true trail addicts.  An extremely durable ...</td>\n",
       "      <td>NaN</td>\n",
       "      <td>Mountain Bikes</td>\n",
       "      <td>Bikes</td>\n",
       "      <td>2017-07-01</td>\n",
       "      <td>2018-06-30</td>\n",
       "    </tr>\n",
       "    <tr>\n",
       "      <th>4</th>\n",
       "      <td>587</td>\n",
       "      <td>1</td>\n",
       "      <td>Mountain-400-W Silver, 38</td>\n",
       "      <td>419.7784</td>\n",
       "      <td>Silver</td>\n",
       "      <td>100</td>\n",
       "      <td>769.4900</td>\n",
       "      <td>38.0</td>\n",
       "      <td>38-40 CM</td>\n",
       "      <td>26.35</td>\n",
       "      <td>...</td>\n",
       "      <td>Mountain Bike</td>\n",
       "      <td>461.6940</td>\n",
       "      <td>M</td>\n",
       "      <td>Mountain-400-W</td>\n",
       "      <td>This bike delivers a high-level of performance...</td>\n",
       "      <td>Current</td>\n",
       "      <td>Mountain Bikes</td>\n",
       "      <td>Bikes</td>\n",
       "      <td>2018-07-01</td>\n",
       "      <td>NaT</td>\n",
       "    </tr>\n",
       "    <tr>\n",
       "      <th>...</th>\n",
       "      <td>...</td>\n",
       "      <td>...</td>\n",
       "      <td>...</td>\n",
       "      <td>...</td>\n",
       "      <td>...</td>\n",
       "      <td>...</td>\n",
       "      <td>...</td>\n",
       "      <td>...</td>\n",
       "      <td>...</td>\n",
       "      <td>...</td>\n",
       "      <td>...</td>\n",
       "      <td>...</td>\n",
       "      <td>...</td>\n",
       "      <td>...</td>\n",
       "      <td>...</td>\n",
       "      <td>...</td>\n",
       "      <td>...</td>\n",
       "      <td>...</td>\n",
       "      <td>...</td>\n",
       "      <td>...</td>\n",
       "      <td>...</td>\n",
       "    </tr>\n",
       "    <tr>\n",
       "      <th>392</th>\n",
       "      <td>537</td>\n",
       "      <td>37</td>\n",
       "      <td>HL Mountain Tire</td>\n",
       "      <td>13.0900</td>\n",
       "      <td>Green</td>\n",
       "      <td>500</td>\n",
       "      <td>35.0000</td>\n",
       "      <td>NaN</td>\n",
       "      <td>NaN</td>\n",
       "      <td>NaN</td>\n",
       "      <td>...</td>\n",
       "      <td>Mountain Bike</td>\n",
       "      <td>21.0000</td>\n",
       "      <td>H</td>\n",
       "      <td>HL Mountain Tire</td>\n",
       "      <td>Incredible traction, lightweight carbon reinfo...</td>\n",
       "      <td>Current</td>\n",
       "      <td>Tires and Tubes</td>\n",
       "      <td>Accessories</td>\n",
       "      <td>2018-07-01</td>\n",
       "      <td>NaT</td>\n",
       "    </tr>\n",
       "    <tr>\n",
       "      <th>393</th>\n",
       "      <td>538</td>\n",
       "      <td>37</td>\n",
       "      <td>LL Road Tire</td>\n",
       "      <td>8.0373</td>\n",
       "      <td>Green</td>\n",
       "      <td>500</td>\n",
       "      <td>21.4900</td>\n",
       "      <td>NaN</td>\n",
       "      <td>NaN</td>\n",
       "      <td>NaN</td>\n",
       "      <td>...</td>\n",
       "      <td>Rachet</td>\n",
       "      <td>12.8940</td>\n",
       "      <td>L</td>\n",
       "      <td>LL Road Tire</td>\n",
       "      <td>Same great treads as more expensive tire with ...</td>\n",
       "      <td>Current</td>\n",
       "      <td>Tires and Tubes</td>\n",
       "      <td>Accessories</td>\n",
       "      <td>2018-07-01</td>\n",
       "      <td>NaT</td>\n",
       "    </tr>\n",
       "    <tr>\n",
       "      <th>394</th>\n",
       "      <td>539</td>\n",
       "      <td>37</td>\n",
       "      <td>ML Road Tire</td>\n",
       "      <td>9.3463</td>\n",
       "      <td>Green</td>\n",
       "      <td>500</td>\n",
       "      <td>24.9900</td>\n",
       "      <td>NaN</td>\n",
       "      <td>NaN</td>\n",
       "      <td>NaN</td>\n",
       "      <td>...</td>\n",
       "      <td>Rachet</td>\n",
       "      <td>14.9940</td>\n",
       "      <td>M</td>\n",
       "      <td>ML Road Tire</td>\n",
       "      <td>Higher density rubber.</td>\n",
       "      <td>Current</td>\n",
       "      <td>Tires and Tubes</td>\n",
       "      <td>Accessories</td>\n",
       "      <td>2018-07-01</td>\n",
       "      <td>NaT</td>\n",
       "    </tr>\n",
       "    <tr>\n",
       "      <th>395</th>\n",
       "      <td>540</td>\n",
       "      <td>37</td>\n",
       "      <td>HL Road Tire</td>\n",
       "      <td>12.1924</td>\n",
       "      <td>Green</td>\n",
       "      <td>500</td>\n",
       "      <td>32.6000</td>\n",
       "      <td>NaN</td>\n",
       "      <td>NaN</td>\n",
       "      <td>NaN</td>\n",
       "      <td>...</td>\n",
       "      <td>Rachet</td>\n",
       "      <td>19.5600</td>\n",
       "      <td>H</td>\n",
       "      <td>HL Road Tire</td>\n",
       "      <td>Lightweight carbon reinforced  for an unrivale...</td>\n",
       "      <td>Current</td>\n",
       "      <td>Tires and Tubes</td>\n",
       "      <td>Accessories</td>\n",
       "      <td>2018-07-01</td>\n",
       "      <td>NaT</td>\n",
       "    </tr>\n",
       "    <tr>\n",
       "      <th>396</th>\n",
       "      <td>541</td>\n",
       "      <td>37</td>\n",
       "      <td>Touring Tire</td>\n",
       "      <td>10.8423</td>\n",
       "      <td>Green</td>\n",
       "      <td>500</td>\n",
       "      <td>28.9900</td>\n",
       "      <td>NaN</td>\n",
       "      <td>NaN</td>\n",
       "      <td>NaN</td>\n",
       "      <td>...</td>\n",
       "      <td>T</td>\n",
       "      <td>17.3940</td>\n",
       "      <td>NaN</td>\n",
       "      <td>Touring Tire</td>\n",
       "      <td>High-density rubber.</td>\n",
       "      <td>Current</td>\n",
       "      <td>Tires and Tubes</td>\n",
       "      <td>Accessories</td>\n",
       "      <td>2018-07-01</td>\n",
       "      <td>NaT</td>\n",
       "    </tr>\n",
       "  </tbody>\n",
       "</table>\n",
       "<p>397 rows × 21 columns</p>\n",
       "</div>"
      ],
      "text/plain": [
       "     ProductKey  ProductSubcategoryKey                ProductName  \\\n",
       "0           362                      1     Mountain-200 Black, 46   \n",
       "1           363                      1     Mountain-200 Black, 46   \n",
       "2           364                      1     Mountain-300 Black, 38   \n",
       "3           365                      1     Mountain-300 Black, 40   \n",
       "4           587                      1  Mountain-400-W Silver, 38   \n",
       "..          ...                    ...                        ...   \n",
       "392         537                     37           HL Mountain Tire   \n",
       "393         538                     37               LL Road Tire   \n",
       "394         539                     37               ML Road Tire   \n",
       "395         540                     37               HL Road Tire   \n",
       "396         541                     37               Touring Tire   \n",
       "\n",
       "     StandardCost      Color  SafetyStockLevel  ListPrice  Size SizeRange  \\\n",
       "0       1105.8100      Black               100  2049.0982  46.0  42-46 CM   \n",
       "1       1251.9813      Black               100  2294.9900  46.0  42-46 CM   \n",
       "2        598.4354  Dark Blue               100  1079.9900  38.0  38-40 CM   \n",
       "3        598.4354      Black               100  1079.9900  40.0  38-40 CM   \n",
       "4        419.7784     Silver               100   769.4900  38.0  38-40 CM   \n",
       "..            ...        ...               ...        ...   ...       ...   \n",
       "392       13.0900      Green               500    35.0000   NaN       NaN   \n",
       "393        8.0373      Green               500    21.4900   NaN       NaN   \n",
       "394        9.3463      Green               500    24.9900   NaN       NaN   \n",
       "395       12.1924      Green               500    32.6000   NaN       NaN   \n",
       "396       10.8423      Green               500    28.9900   NaN       NaN   \n",
       "\n",
       "     Weight  ...    ProductLine DealerPrice  Class         ModelName  \\\n",
       "0     24.13  ...  Mountain Bike   1229.4589      H      Mountain-200   \n",
       "1     24.13  ...  Mountain Bike   1376.9940      H      Mountain-200   \n",
       "2     25.35  ...  Mountain Bike    647.9940      M      Mountain-300   \n",
       "3     25.77  ...  Mountain Bike    647.9940      M      Mountain-300   \n",
       "4     26.35  ...  Mountain Bike    461.6940      M    Mountain-400-W   \n",
       "..      ...  ...            ...         ...    ...               ...   \n",
       "392     NaN  ...  Mountain Bike     21.0000      H  HL Mountain Tire   \n",
       "393     NaN  ...         Rachet     12.8940      L      LL Road Tire   \n",
       "394     NaN  ...         Rachet     14.9940      M      ML Road Tire   \n",
       "395     NaN  ...         Rachet     19.5600      H      HL Road Tire   \n",
       "396     NaN  ...              T     17.3940    NaN      Touring Tire   \n",
       "\n",
       "                                           Description   Status  \\\n",
       "0    Serious back-country riding. Perfect for all l...      NaN   \n",
       "1    Serious back-country riding. Perfect for all l...  Current   \n",
       "2    For true trail addicts.  An extremely durable ...      NaN   \n",
       "3    For true trail addicts.  An extremely durable ...      NaN   \n",
       "4    This bike delivers a high-level of performance...  Current   \n",
       "..                                                 ...      ...   \n",
       "392  Incredible traction, lightweight carbon reinfo...  Current   \n",
       "393  Same great treads as more expensive tire with ...  Current   \n",
       "394                             Higher density rubber.  Current   \n",
       "395  Lightweight carbon reinforced  for an unrivale...  Current   \n",
       "396                               High-density rubber.  Current   \n",
       "\n",
       "         SubCategory     Category  StartDate    EndDate  \n",
       "0     Mountain Bikes        Bikes 2017-07-01 2018-06-30  \n",
       "1     Mountain Bikes        Bikes 2018-07-01        NaT  \n",
       "2     Mountain Bikes        Bikes 2017-07-01 2018-06-30  \n",
       "3     Mountain Bikes        Bikes 2017-07-01 2018-06-30  \n",
       "4     Mountain Bikes        Bikes 2018-07-01        NaT  \n",
       "..               ...          ...        ...        ...  \n",
       "392  Tires and Tubes  Accessories 2018-07-01        NaT  \n",
       "393  Tires and Tubes  Accessories 2018-07-01        NaT  \n",
       "394  Tires and Tubes  Accessories 2018-07-01        NaT  \n",
       "395  Tires and Tubes  Accessories 2018-07-01        NaT  \n",
       "396  Tires and Tubes  Accessories 2018-07-01        NaT  \n",
       "\n",
       "[397 rows x 21 columns]"
      ]
     },
     "execution_count": 107,
     "metadata": {},
     "output_type": "execute_result"
    }
   ],
   "source": [
    "product_table"
   ]
  },
  {
   "cell_type": "code",
   "execution_count": 109,
   "id": "673f5a28",
   "metadata": {},
   "outputs": [],
   "source": [
    "import numpy as np"
   ]
  },
  {
   "cell_type": "code",
   "execution_count": 110,
   "id": "0e473936",
   "metadata": {},
   "outputs": [],
   "source": [
    "product_table['Size'].fillna(np.mean(product_table['Size']), inplace = True)"
   ]
  },
  {
   "cell_type": "code",
   "execution_count": 111,
   "id": "a4fbdefb",
   "metadata": {},
   "outputs": [
    {
     "data": {
      "text/plain": [
       "49.055118    143\n",
       "44.000000     40\n",
       "48.000000     36\n",
       "52.000000     25\n",
       "42.000000     23\n",
       "58.000000     22\n",
       "38.000000     20\n",
       "62.000000     19\n",
       "46.000000     17\n",
       "60.000000     16\n",
       "40.000000     13\n",
       "50.000000      9\n",
       "54.000000      9\n",
       "56.000000      4\n",
       "70.000000      1\n",
       "Name: Size, dtype: int64"
      ]
     },
     "execution_count": 111,
     "metadata": {},
     "output_type": "execute_result"
    }
   ],
   "source": [
    "product_table['Size'].value_counts()"
   ]
  },
  {
   "cell_type": "code",
   "execution_count": 58,
   "id": "14d24cae",
   "metadata": {},
   "outputs": [],
   "source": [
    "import matplotlib.pyplot as plt"
   ]
  },
  {
   "cell_type": "markdown",
   "id": "6f366e46",
   "metadata": {},
   "source": [
    "# Data visualizatoin\n",
    "\n",
    "* dark color stands out among light colors\n",
    "* bigger size stand out among smaller sizes \n",
    "* proximal object (near one) stands out among distant abject\n",
    "* single object (isolated one) stand out from group of objects"
   ]
  },
  {
   "cell_type": "code",
   "execution_count": 5,
   "id": "20bc2605",
   "metadata": {},
   "outputs": [],
   "source": [
    "import pandas as pd\n"
   ]
  },
  {
   "cell_type": "code",
   "execution_count": 19,
   "id": "c9c1ac04",
   "metadata": {},
   "outputs": [],
   "source": [
    "sales_table =  pd.read_excel(r'C:\\Users\\fast\\Downloads\\Adventure Works 2020 (1).xlsx',sheet_name='Sales')"
   ]
  },
  {
   "cell_type": "code",
   "execution_count": 20,
   "id": "8b353a36",
   "metadata": {
    "scrolled": true
   },
   "outputs": [
    {
     "data": {
      "text/html": [
       "<div>\n",
       "<style scoped>\n",
       "    .dataframe tbody tr th:only-of-type {\n",
       "        vertical-align: middle;\n",
       "    }\n",
       "\n",
       "    .dataframe tbody tr th {\n",
       "        vertical-align: top;\n",
       "    }\n",
       "\n",
       "    .dataframe thead th {\n",
       "        text-align: right;\n",
       "    }\n",
       "</style>\n",
       "<table border=\"1\" class=\"dataframe\">\n",
       "  <thead>\n",
       "    <tr style=\"text-align: right;\">\n",
       "      <th></th>\n",
       "      <th>OrderDate</th>\n",
       "      <th>OrderDate Key</th>\n",
       "      <th>ProductKey</th>\n",
       "      <th>CustomerKey</th>\n",
       "      <th>SalesTerritoryKey</th>\n",
       "      <th>SalesOrderNumber</th>\n",
       "      <th>ShipDate</th>\n",
       "      <th>SalesOrderLineNumber</th>\n",
       "      <th>OrderQuantity</th>\n",
       "      <th>UnitPrice</th>\n",
       "      <th>ExtendedAmount</th>\n",
       "      <th>UnitPriceDiscountPct</th>\n",
       "      <th>DiscountAmount</th>\n",
       "      <th>ProductStandardCost</th>\n",
       "      <th>TotalProductCost</th>\n",
       "      <th>SalesAmount</th>\n",
       "      <th>TaxAmt</th>\n",
       "      <th>Freight</th>\n",
       "      <th>RegionMonthID</th>\n",
       "    </tr>\n",
       "  </thead>\n",
       "  <tbody>\n",
       "    <tr>\n",
       "      <th>0</th>\n",
       "      <td>2016-07-01</td>\n",
       "      <td>20160701</td>\n",
       "      <td>336</td>\n",
       "      <td>14501</td>\n",
       "      <td>4</td>\n",
       "      <td>SO43700</td>\n",
       "      <td>2016-07-08</td>\n",
       "      <td>1</td>\n",
       "      <td>1</td>\n",
       "      <td>699.0982</td>\n",
       "      <td>699.0982</td>\n",
       "      <td>0</td>\n",
       "      <td>0</td>\n",
       "      <td>413.1463</td>\n",
       "      <td>413.1463</td>\n",
       "      <td>699.0982</td>\n",
       "      <td>55.9279</td>\n",
       "      <td>17.4775</td>\n",
       "      <td>Southwest7</td>\n",
       "    </tr>\n",
       "    <tr>\n",
       "      <th>1</th>\n",
       "      <td>2016-07-01</td>\n",
       "      <td>20160701</td>\n",
       "      <td>346</td>\n",
       "      <td>25863</td>\n",
       "      <td>1</td>\n",
       "      <td>SO43699</td>\n",
       "      <td>2016-07-08</td>\n",
       "      <td>1</td>\n",
       "      <td>1</td>\n",
       "      <td>3399.9900</td>\n",
       "      <td>3399.9900</td>\n",
       "      <td>0</td>\n",
       "      <td>0</td>\n",
       "      <td>1912.1544</td>\n",
       "      <td>1912.1544</td>\n",
       "      <td>3399.9900</td>\n",
       "      <td>271.9992</td>\n",
       "      <td>84.9998</td>\n",
       "      <td>Northwest7</td>\n",
       "    </tr>\n",
       "    <tr>\n",
       "      <th>2</th>\n",
       "      <td>2016-07-01</td>\n",
       "      <td>20160701</td>\n",
       "      <td>346</td>\n",
       "      <td>28389</td>\n",
       "      <td>7</td>\n",
       "      <td>SO43698</td>\n",
       "      <td>2016-07-08</td>\n",
       "      <td>1</td>\n",
       "      <td>1</td>\n",
       "      <td>3399.9900</td>\n",
       "      <td>3399.9900</td>\n",
       "      <td>0</td>\n",
       "      <td>0</td>\n",
       "      <td>1912.1544</td>\n",
       "      <td>1912.1544</td>\n",
       "      <td>3399.9900</td>\n",
       "      <td>271.9992</td>\n",
       "      <td>84.9998</td>\n",
       "      <td>France7</td>\n",
       "    </tr>\n",
       "    <tr>\n",
       "      <th>3</th>\n",
       "      <td>2016-07-01</td>\n",
       "      <td>20160701</td>\n",
       "      <td>310</td>\n",
       "      <td>21768</td>\n",
       "      <td>6</td>\n",
       "      <td>SO43697</td>\n",
       "      <td>2016-07-08</td>\n",
       "      <td>1</td>\n",
       "      <td>1</td>\n",
       "      <td>3578.2700</td>\n",
       "      <td>3578.2700</td>\n",
       "      <td>0</td>\n",
       "      <td>0</td>\n",
       "      <td>2171.2942</td>\n",
       "      <td>2171.2942</td>\n",
       "      <td>3578.2700</td>\n",
       "      <td>286.2616</td>\n",
       "      <td>89.4568</td>\n",
       "      <td>Canada7</td>\n",
       "    </tr>\n",
       "    <tr>\n",
       "      <th>4</th>\n",
       "      <td>2016-07-01</td>\n",
       "      <td>20160701</td>\n",
       "      <td>346</td>\n",
       "      <td>11003</td>\n",
       "      <td>9</td>\n",
       "      <td>SO43701</td>\n",
       "      <td>2016-07-08</td>\n",
       "      <td>1</td>\n",
       "      <td>1</td>\n",
       "      <td>3399.9900</td>\n",
       "      <td>3399.9900</td>\n",
       "      <td>0</td>\n",
       "      <td>0</td>\n",
       "      <td>1912.1544</td>\n",
       "      <td>1912.1544</td>\n",
       "      <td>3399.9900</td>\n",
       "      <td>271.9992</td>\n",
       "      <td>84.9998</td>\n",
       "      <td>Australia7</td>\n",
       "    </tr>\n",
       "    <tr>\n",
       "      <th>...</th>\n",
       "      <td>...</td>\n",
       "      <td>...</td>\n",
       "      <td>...</td>\n",
       "      <td>...</td>\n",
       "      <td>...</td>\n",
       "      <td>...</td>\n",
       "      <td>...</td>\n",
       "      <td>...</td>\n",
       "      <td>...</td>\n",
       "      <td>...</td>\n",
       "      <td>...</td>\n",
       "      <td>...</td>\n",
       "      <td>...</td>\n",
       "      <td>...</td>\n",
       "      <td>...</td>\n",
       "      <td>...</td>\n",
       "      <td>...</td>\n",
       "      <td>...</td>\n",
       "      <td>...</td>\n",
       "    </tr>\n",
       "    <tr>\n",
       "      <th>60393</th>\n",
       "      <td>2019-07-31</td>\n",
       "      <td>20190731</td>\n",
       "      <td>530</td>\n",
       "      <td>16402</td>\n",
       "      <td>10</td>\n",
       "      <td>SO75116</td>\n",
       "      <td>2019-08-07</td>\n",
       "      <td>1</td>\n",
       "      <td>1</td>\n",
       "      <td>4.9900</td>\n",
       "      <td>4.9900</td>\n",
       "      <td>0</td>\n",
       "      <td>0</td>\n",
       "      <td>1.8663</td>\n",
       "      <td>1.8663</td>\n",
       "      <td>4.9900</td>\n",
       "      <td>0.3992</td>\n",
       "      <td>0.1248</td>\n",
       "      <td>United Kingdom7</td>\n",
       "    </tr>\n",
       "    <tr>\n",
       "      <th>60394</th>\n",
       "      <td>2019-07-31</td>\n",
       "      <td>20190731</td>\n",
       "      <td>530</td>\n",
       "      <td>18178</td>\n",
       "      <td>10</td>\n",
       "      <td>SO75117</td>\n",
       "      <td>2019-08-07</td>\n",
       "      <td>1</td>\n",
       "      <td>1</td>\n",
       "      <td>4.9900</td>\n",
       "      <td>4.9900</td>\n",
       "      <td>0</td>\n",
       "      <td>0</td>\n",
       "      <td>1.8663</td>\n",
       "      <td>1.8663</td>\n",
       "      <td>4.9900</td>\n",
       "      <td>0.3992</td>\n",
       "      <td>0.1248</td>\n",
       "      <td>United Kingdom7</td>\n",
       "    </tr>\n",
       "    <tr>\n",
       "      <th>60395</th>\n",
       "      <td>2019-07-31</td>\n",
       "      <td>20190731</td>\n",
       "      <td>467</td>\n",
       "      <td>18178</td>\n",
       "      <td>10</td>\n",
       "      <td>SO75117</td>\n",
       "      <td>2019-08-07</td>\n",
       "      <td>2</td>\n",
       "      <td>1</td>\n",
       "      <td>24.4900</td>\n",
       "      <td>24.4900</td>\n",
       "      <td>0</td>\n",
       "      <td>0</td>\n",
       "      <td>9.1593</td>\n",
       "      <td>9.1593</td>\n",
       "      <td>24.4900</td>\n",
       "      <td>1.9592</td>\n",
       "      <td>0.6123</td>\n",
       "      <td>United Kingdom7</td>\n",
       "    </tr>\n",
       "    <tr>\n",
       "      <th>60396</th>\n",
       "      <td>2019-07-31</td>\n",
       "      <td>20190731</td>\n",
       "      <td>477</td>\n",
       "      <td>18529</td>\n",
       "      <td>5</td>\n",
       "      <td>SO75103</td>\n",
       "      <td>2019-08-07</td>\n",
       "      <td>1</td>\n",
       "      <td>1</td>\n",
       "      <td>4.9900</td>\n",
       "      <td>4.9900</td>\n",
       "      <td>0</td>\n",
       "      <td>0</td>\n",
       "      <td>1.8663</td>\n",
       "      <td>1.8663</td>\n",
       "      <td>4.9900</td>\n",
       "      <td>0.3992</td>\n",
       "      <td>0.1248</td>\n",
       "      <td>Southeast7</td>\n",
       "    </tr>\n",
       "    <tr>\n",
       "      <th>60397</th>\n",
       "      <td>2019-07-31</td>\n",
       "      <td>20190731</td>\n",
       "      <td>217</td>\n",
       "      <td>18529</td>\n",
       "      <td>5</td>\n",
       "      <td>SO75103</td>\n",
       "      <td>2019-08-07</td>\n",
       "      <td>2</td>\n",
       "      <td>1</td>\n",
       "      <td>34.9900</td>\n",
       "      <td>34.9900</td>\n",
       "      <td>0</td>\n",
       "      <td>0</td>\n",
       "      <td>13.0863</td>\n",
       "      <td>13.0863</td>\n",
       "      <td>34.9900</td>\n",
       "      <td>2.7992</td>\n",
       "      <td>0.8748</td>\n",
       "      <td>Southeast7</td>\n",
       "    </tr>\n",
       "  </tbody>\n",
       "</table>\n",
       "<p>60398 rows × 19 columns</p>\n",
       "</div>"
      ],
      "text/plain": [
       "       OrderDate  OrderDate Key  ProductKey  CustomerKey  SalesTerritoryKey  \\\n",
       "0     2016-07-01       20160701         336        14501                  4   \n",
       "1     2016-07-01       20160701         346        25863                  1   \n",
       "2     2016-07-01       20160701         346        28389                  7   \n",
       "3     2016-07-01       20160701         310        21768                  6   \n",
       "4     2016-07-01       20160701         346        11003                  9   \n",
       "...          ...            ...         ...          ...                ...   \n",
       "60393 2019-07-31       20190731         530        16402                 10   \n",
       "60394 2019-07-31       20190731         530        18178                 10   \n",
       "60395 2019-07-31       20190731         467        18178                 10   \n",
       "60396 2019-07-31       20190731         477        18529                  5   \n",
       "60397 2019-07-31       20190731         217        18529                  5   \n",
       "\n",
       "      SalesOrderNumber   ShipDate  SalesOrderLineNumber  OrderQuantity  \\\n",
       "0              SO43700 2016-07-08                     1              1   \n",
       "1              SO43699 2016-07-08                     1              1   \n",
       "2              SO43698 2016-07-08                     1              1   \n",
       "3              SO43697 2016-07-08                     1              1   \n",
       "4              SO43701 2016-07-08                     1              1   \n",
       "...                ...        ...                   ...            ...   \n",
       "60393          SO75116 2019-08-07                     1              1   \n",
       "60394          SO75117 2019-08-07                     1              1   \n",
       "60395          SO75117 2019-08-07                     2              1   \n",
       "60396          SO75103 2019-08-07                     1              1   \n",
       "60397          SO75103 2019-08-07                     2              1   \n",
       "\n",
       "       UnitPrice  ExtendedAmount  UnitPriceDiscountPct  DiscountAmount  \\\n",
       "0       699.0982        699.0982                     0               0   \n",
       "1      3399.9900       3399.9900                     0               0   \n",
       "2      3399.9900       3399.9900                     0               0   \n",
       "3      3578.2700       3578.2700                     0               0   \n",
       "4      3399.9900       3399.9900                     0               0   \n",
       "...          ...             ...                   ...             ...   \n",
       "60393     4.9900          4.9900                     0               0   \n",
       "60394     4.9900          4.9900                     0               0   \n",
       "60395    24.4900         24.4900                     0               0   \n",
       "60396     4.9900          4.9900                     0               0   \n",
       "60397    34.9900         34.9900                     0               0   \n",
       "\n",
       "       ProductStandardCost  TotalProductCost  SalesAmount    TaxAmt  Freight  \\\n",
       "0                 413.1463          413.1463     699.0982   55.9279  17.4775   \n",
       "1                1912.1544         1912.1544    3399.9900  271.9992  84.9998   \n",
       "2                1912.1544         1912.1544    3399.9900  271.9992  84.9998   \n",
       "3                2171.2942         2171.2942    3578.2700  286.2616  89.4568   \n",
       "4                1912.1544         1912.1544    3399.9900  271.9992  84.9998   \n",
       "...                    ...               ...          ...       ...      ...   \n",
       "60393               1.8663            1.8663       4.9900    0.3992   0.1248   \n",
       "60394               1.8663            1.8663       4.9900    0.3992   0.1248   \n",
       "60395               9.1593            9.1593      24.4900    1.9592   0.6123   \n",
       "60396               1.8663            1.8663       4.9900    0.3992   0.1248   \n",
       "60397              13.0863           13.0863      34.9900    2.7992   0.8748   \n",
       "\n",
       "         RegionMonthID  \n",
       "0           Southwest7  \n",
       "1           Northwest7  \n",
       "2              France7  \n",
       "3              Canada7  \n",
       "4           Australia7  \n",
       "...                ...  \n",
       "60393  United Kingdom7  \n",
       "60394  United Kingdom7  \n",
       "60395  United Kingdom7  \n",
       "60396       Southeast7  \n",
       "60397       Southeast7  \n",
       "\n",
       "[60398 rows x 19 columns]"
      ]
     },
     "execution_count": 20,
     "metadata": {},
     "output_type": "execute_result"
    }
   ],
   "source": [
    "sales_table"
   ]
  },
  {
   "cell_type": "code",
   "execution_count": null,
   "id": "a6d28eeb",
   "metadata": {},
   "outputs": [],
   "source": [
    "plt.scatter(sales_table['SalesAmount'], sales_table['TotalProductCost'], color = 'blue' , marker = '*')"
   ]
  },
  {
   "cell_type": "code",
   "execution_count": null,
   "id": "992c7cea",
   "metadata": {},
   "outputs": [],
   "source": []
  },
  {
   "cell_type": "code",
   "execution_count": null,
   "id": "73d7a6c6",
   "metadata": {},
   "outputs": [],
   "source": []
  },
  {
   "cell_type": "code",
   "execution_count": null,
   "id": "5ff6cd3e",
   "metadata": {},
   "outputs": [],
   "source": []
  },
  {
   "cell_type": "code",
   "execution_count": null,
   "id": "0df866fe",
   "metadata": {},
   "outputs": [],
   "source": []
  },
  {
   "cell_type": "code",
   "execution_count": 24,
   "id": "cc8b1325",
   "metadata": {},
   "outputs": [],
   "source": [
    "import matplotlib.pyplot as plt"
   ]
  },
  {
   "cell_type": "code",
   "execution_count": 26,
   "id": "b53f3958",
   "metadata": {},
   "outputs": [],
   "source": [
    "a = [1,2,3,4,5,6,7,8,9,10]\n",
    "b = [2,3,6,9,20,12,15,5,7,9]\n",
    "c = [5,10,15,20,25,30,35,30,45,50]"
   ]
  },
  {
   "cell_type": "code",
   "execution_count": 27,
   "id": "7a65c9aa",
   "metadata": {},
   "outputs": [
    {
     "data": {
      "image/png": "[encoded data removed]",
      "text/plain": [
       "<Figure size 432x288 with 1 Axes>"
      ]
     },
     "metadata": {
      "needs_background": "light"
     },
     "output_type": "display_data"
    }
   ],
   "source": [
    "plt.plot(b, c, color = 'g' , linewidth = 2 , marker ='*' , markersize =15 , linestyle = '--')\n",
    "plt.plot(a ,c)\n",
    "plt.xlabel('No of Customers')\n",
    "plt.ylabel('Sales')\n",
    "plt.title('A graph of Customers')\n",
    "plt.savefig('A graph of Customers 2.png' , dpi = 1200)\n",
    "plt.show()"
   ]
  },
  {
   "cell_type": "code",
   "execution_count": 28,
   "id": "048d758e",
   "metadata": {},
   "outputs": [
    {
     "data": {
      "image/png": "[encoded data removed]",
      "text/plain": [
       "<Figure size 432x288 with 1 Axes>"
      ]
     },
     "metadata": {
      "needs_background": "light"
     },
     "output_type": "display_data"
    }
   ],
   "source": [
    "plt.scatter(a,c , label = 'a and c' , color = 'g' , marker = '*')\n",
    "plt.scatter(b,c)\n",
    "plt.legend()\n",
    "plt.show()"
   ]
  },
  {
   "cell_type": "code",
   "execution_count": 29,
   "id": "d664ee02",
   "metadata": {},
   "outputs": [
    {
     "data": {
      "image/png": "[encoded data removed]",
      "text/plain": [
       "<Figure size 432x288 with 1 Axes>"
      ]
     },
     "metadata": {
      "needs_background": "light"
     },
     "output_type": "display_data"
    }
   ],
   "source": [
    "plt.boxplot([a , b])\n",
    "plt.show()"
   ]
  },
  {
   "cell_type": "code",
   "execution_count": 30,
   "id": "aa18eabc",
   "metadata": {},
   "outputs": [
    {
     "data": {
      "text/plain": [
       "<function matplotlib.pyplot.show(close=None, block=None)>"
      ]
     },
     "execution_count": 30,
     "metadata": {},
     "output_type": "execute_result"
    },
    {
     "data": {
      "image/png": "[encoded data removed]",
      "text/plain": [
       "<Figure size 432x288 with 1 Axes>"
      ]
     },
     "metadata": {},
     "output_type": "display_data"
    }
   ],
   "source": [
    "plt.pie(a , labels = [1,2,3,4,5,6,7,8,9,10])\n",
    "plt.show"
   ]
  },
  {
   "cell_type": "code",
   "execution_count": 31,
   "id": "ba87d5f1",
   "metadata": {},
   "outputs": [
    {
     "data": {
      "image/png": "[encoded data removed]",
      "text/plain": [
       "<Figure size 432x288 with 1 Axes>"
      ]
     },
     "metadata": {
      "needs_background": "light"
     },
     "output_type": "display_data"
    }
   ],
   "source": [
    "plt.bar(a , b , color = 'black' , width = 0.5)\n",
    "plt.scatter(a , b , color = 'red')\n",
    "plt.show()"
   ]
  },
  {
   "cell_type": "code",
   "execution_count": 32,
   "id": "89db4fae",
   "metadata": {},
   "outputs": [
    {
     "data": {
      "image/png": "[encoded data removed]",
      "text/plain": [
       "<Figure size 432x288 with 1 Axes>"
      ]
     },
     "metadata": {
      "needs_background": "light"
     },
     "output_type": "display_data"
    }
   ],
   "source": [
    "plt.hist(b , bins=5)\n",
    "plt.show()"
   ]
  },
  {
   "cell_type": "code",
   "execution_count": 33,
   "id": "e404983c",
   "metadata": {},
   "outputs": [],
   "source": [
    "sales_table =  pd.read_excel(r'C:\\Users\\fast\\Downloads\\Adventure Works 2020 (1).xlsx',sheet_name='Sales')"
   ]
  },
  {
   "cell_type": "markdown",
   "id": "037c5b5d",
   "metadata": {},
   "source": [
    "# SUbplots"
   ]
  },
  {
   "cell_type": "code",
   "execution_count": 46,
   "id": "6916beec",
   "metadata": {},
   "outputs": [
    {
     "data": {
      "image/png": "[encoded data removed]",
      "text/plain": [
       "<Figure size 720x576 with 4 Axes>"
      ]
     },
     "metadata": {
      "needs_background": "light"
     },
     "output_type": "display_data"
    }
   ],
   "source": [
    "plt.figure(figsize= [10,8])\n",
    "\n",
    "\n",
    "plt.subplot(2,3,6)\n",
    "plt.plot(a,b)\n",
    "\n",
    "plt.subplot(2,3,5)\n",
    "plt.bar(a,b)\n",
    "\n",
    "plt.subplot(2,3,2)\n",
    "plt.pie(a)\n",
    "\n",
    "plt.subplot(2,3,4)\n",
    "plt.hist(b, bins = 15)\n",
    "plt.savefig('subplots 3.png' , dpi = 1200)\n",
    "plt.show()"
   ]
  },
  {
   "cell_type": "markdown",
   "id": "fb7fef56",
   "metadata": {},
   "source": [
    "# 3D plots"
   ]
  },
  {
   "cell_type": "code",
   "execution_count": 51,
   "id": "175fc366",
   "metadata": {},
   "outputs": [],
   "source": [
    "from mpl_toolkits import mplot3d"
   ]
  },
  {
   "cell_type": "code",
   "execution_count": 54,
   "id": "ec20c8f1",
   "metadata": {},
   "outputs": [],
   "source": [
    "x = [1,2,3,4,5]\n",
    "y = [2,4,6,8,9]\n",
    "z = [3,5,7,9,11]"
   ]
  },
  {
   "cell_type": "code",
   "execution_count": 57,
   "id": "225b6137",
   "metadata": {},
   "outputs": [
    {
     "data": {
      "text/plain": [
       "<mpl_toolkits.mplot3d.art3d.Path3DCollection at 0x22413f48760>"
      ]
     },
     "execution_count": 57,
     "metadata": {},
     "output_type": "execute_result"
    },
    {
     "data": {
      "image/png": "[encoded data removed]",
      "text/plain": [
       "<Figure size 576x432 with 1 Axes>"
      ]
     },
     "metadata": {
      "needs_background": "light"
     },
     "output_type": "display_data"
    }
   ],
   "source": [
    "plt.figure(figsize=[8,6])\n",
    "plt.axes(projection = '3d')\n",
    "plt.scatter(x,y,z, color ='red', marker ='x' )"
   ]
  },
  {
   "cell_type": "code",
   "execution_count": 63,
   "id": "66da8680",
   "metadata": {},
   "outputs": [
    {
     "data": {
      "text/plain": [
       "Text(0.5, 0, 'TaxAmt')"
      ]
     },
     "execution_count": 63,
     "metadata": {},
     "output_type": "execute_result"
    },
    {
     "data": {
      "image/png": "[encoded data removed]",
      "text/plain": [
       "<Figure size 576x432 with 1 Axes>"
      ]
     },
     "metadata": {
      "needs_background": "light"
     },
     "output_type": "display_data"
    }
   ],
   "source": [
    "plt.figure(figsize=[8,6])\n",
    "plt.axes(projection = '3d')\n",
    "plt.scatter(sales_table['SalesAmount'], sales_table['TaxAmt'],sales_table['Freight'], color = 'blue' , marker = '*')\n",
    "plt.xlabel('SalesAmount')\n",
    "plt.ylabel('TaxAmt')"
   ]
  },
  {
   "cell_type": "markdown",
   "id": "19bf1199",
   "metadata": {},
   "source": [
    "Statistics\n",
    "1. Descriptive Statistics ----> Describe the data (Mean, Median, Mode, standard deviation, Veriance, quartiles, Percentiles, Min, Max, Count)\n",
    "2. Infrential Statistics ---> Infer the data ----> Predictions ----> AI,ML\n",
    "\n",
    "Predictions ----> Classification---> (True, False, YEs, No)\n",
    "            ----> Regression-------> Dependent Veriable(Continuous)----> Price, WEight, Speed, Age\n",
    "\n",
    "\n",
    "## Regression"
   ]
  },
  {
   "cell_type": "code",
   "execution_count": 8,
   "id": "9c903c0f",
   "metadata": {},
   "outputs": [],
   "source": [
    "import statsmodels.api as sm"
   ]
  },
  {
   "cell_type": "code",
   "execution_count": 9,
   "id": "adab8fdd",
   "metadata": {},
   "outputs": [],
   "source": [
    "import pandas as pd\n",
    "sales_table =  pd.read_excel(r'C:\\Users\\fast\\Downloads\\Adventure Works 2020 (1).xlsx',sheet_name='Sales')"
   ]
  },
  {
   "cell_type": "code",
   "execution_count": 10,
   "id": "7b8cb389",
   "metadata": {},
   "outputs": [
    {
     "data": {
      "text/html": [
       "<div>\n",
       "<style scoped>\n",
       "    .dataframe tbody tr th:only-of-type {\n",
       "        vertical-align: middle;\n",
       "    }\n",
       "\n",
       "    .dataframe tbody tr th {\n",
       "        vertical-align: top;\n",
       "    }\n",
       "\n",
       "    .dataframe thead th {\n",
       "        text-align: right;\n",
       "    }\n",
       "</style>\n",
       "<table border=\"1\" class=\"dataframe\">\n",
       "  <thead>\n",
       "    <tr style=\"text-align: right;\">\n",
       "      <th></th>\n",
       "      <th>OrderDate</th>\n",
       "      <th>OrderDate Key</th>\n",
       "      <th>ProductKey</th>\n",
       "      <th>CustomerKey</th>\n",
       "      <th>SalesTerritoryKey</th>\n",
       "      <th>SalesOrderNumber</th>\n",
       "      <th>ShipDate</th>\n",
       "      <th>SalesOrderLineNumber</th>\n",
       "      <th>OrderQuantity</th>\n",
       "      <th>UnitPrice</th>\n",
       "      <th>ExtendedAmount</th>\n",
       "      <th>UnitPriceDiscountPct</th>\n",
       "      <th>DiscountAmount</th>\n",
       "      <th>ProductStandardCost</th>\n",
       "      <th>TotalProductCost</th>\n",
       "      <th>SalesAmount</th>\n",
       "      <th>TaxAmt</th>\n",
       "      <th>Freight</th>\n",
       "      <th>RegionMonthID</th>\n",
       "    </tr>\n",
       "  </thead>\n",
       "  <tbody>\n",
       "    <tr>\n",
       "      <th>0</th>\n",
       "      <td>2016-07-01</td>\n",
       "      <td>20160701</td>\n",
       "      <td>336</td>\n",
       "      <td>14501</td>\n",
       "      <td>4</td>\n",
       "      <td>SO43700</td>\n",
       "      <td>2016-07-08</td>\n",
       "      <td>1</td>\n",
       "      <td>1</td>\n",
       "      <td>699.0982</td>\n",
       "      <td>699.0982</td>\n",
       "      <td>0</td>\n",
       "      <td>0</td>\n",
       "      <td>413.1463</td>\n",
       "      <td>413.1463</td>\n",
       "      <td>699.0982</td>\n",
       "      <td>55.9279</td>\n",
       "      <td>17.4775</td>\n",
       "      <td>Southwest7</td>\n",
       "    </tr>\n",
       "    <tr>\n",
       "      <th>1</th>\n",
       "      <td>2016-07-01</td>\n",
       "      <td>20160701</td>\n",
       "      <td>346</td>\n",
       "      <td>25863</td>\n",
       "      <td>1</td>\n",
       "      <td>SO43699</td>\n",
       "      <td>2016-07-08</td>\n",
       "      <td>1</td>\n",
       "      <td>1</td>\n",
       "      <td>3399.9900</td>\n",
       "      <td>3399.9900</td>\n",
       "      <td>0</td>\n",
       "      <td>0</td>\n",
       "      <td>1912.1544</td>\n",
       "      <td>1912.1544</td>\n",
       "      <td>3399.9900</td>\n",
       "      <td>271.9992</td>\n",
       "      <td>84.9998</td>\n",
       "      <td>Northwest7</td>\n",
       "    </tr>\n",
       "    <tr>\n",
       "      <th>2</th>\n",
       "      <td>2016-07-01</td>\n",
       "      <td>20160701</td>\n",
       "      <td>346</td>\n",
       "      <td>28389</td>\n",
       "      <td>7</td>\n",
       "      <td>SO43698</td>\n",
       "      <td>2016-07-08</td>\n",
       "      <td>1</td>\n",
       "      <td>1</td>\n",
       "      <td>3399.9900</td>\n",
       "      <td>3399.9900</td>\n",
       "      <td>0</td>\n",
       "      <td>0</td>\n",
       "      <td>1912.1544</td>\n",
       "      <td>1912.1544</td>\n",
       "      <td>3399.9900</td>\n",
       "      <td>271.9992</td>\n",
       "      <td>84.9998</td>\n",
       "      <td>France7</td>\n",
       "    </tr>\n",
       "    <tr>\n",
       "      <th>3</th>\n",
       "      <td>2016-07-01</td>\n",
       "      <td>20160701</td>\n",
       "      <td>310</td>\n",
       "      <td>21768</td>\n",
       "      <td>6</td>\n",
       "      <td>SO43697</td>\n",
       "      <td>2016-07-08</td>\n",
       "      <td>1</td>\n",
       "      <td>1</td>\n",
       "      <td>3578.2700</td>\n",
       "      <td>3578.2700</td>\n",
       "      <td>0</td>\n",
       "      <td>0</td>\n",
       "      <td>2171.2942</td>\n",
       "      <td>2171.2942</td>\n",
       "      <td>3578.2700</td>\n",
       "      <td>286.2616</td>\n",
       "      <td>89.4568</td>\n",
       "      <td>Canada7</td>\n",
       "    </tr>\n",
       "    <tr>\n",
       "      <th>4</th>\n",
       "      <td>2016-07-01</td>\n",
       "      <td>20160701</td>\n",
       "      <td>346</td>\n",
       "      <td>11003</td>\n",
       "      <td>9</td>\n",
       "      <td>SO43701</td>\n",
       "      <td>2016-07-08</td>\n",
       "      <td>1</td>\n",
       "      <td>1</td>\n",
       "      <td>3399.9900</td>\n",
       "      <td>3399.9900</td>\n",
       "      <td>0</td>\n",
       "      <td>0</td>\n",
       "      <td>1912.1544</td>\n",
       "      <td>1912.1544</td>\n",
       "      <td>3399.9900</td>\n",
       "      <td>271.9992</td>\n",
       "      <td>84.9998</td>\n",
       "      <td>Australia7</td>\n",
       "    </tr>\n",
       "    <tr>\n",
       "      <th>...</th>\n",
       "      <td>...</td>\n",
       "      <td>...</td>\n",
       "      <td>...</td>\n",
       "      <td>...</td>\n",
       "      <td>...</td>\n",
       "      <td>...</td>\n",
       "      <td>...</td>\n",
       "      <td>...</td>\n",
       "      <td>...</td>\n",
       "      <td>...</td>\n",
       "      <td>...</td>\n",
       "      <td>...</td>\n",
       "      <td>...</td>\n",
       "      <td>...</td>\n",
       "      <td>...</td>\n",
       "      <td>...</td>\n",
       "      <td>...</td>\n",
       "      <td>...</td>\n",
       "      <td>...</td>\n",
       "    </tr>\n",
       "    <tr>\n",
       "      <th>60393</th>\n",
       "      <td>2019-07-31</td>\n",
       "      <td>20190731</td>\n",
       "      <td>530</td>\n",
       "      <td>16402</td>\n",
       "      <td>10</td>\n",
       "      <td>SO75116</td>\n",
       "      <td>2019-08-07</td>\n",
       "      <td>1</td>\n",
       "      <td>1</td>\n",
       "      <td>4.9900</td>\n",
       "      <td>4.9900</td>\n",
       "      <td>0</td>\n",
       "      <td>0</td>\n",
       "      <td>1.8663</td>\n",
       "      <td>1.8663</td>\n",
       "      <td>4.9900</td>\n",
       "      <td>0.3992</td>\n",
       "      <td>0.1248</td>\n",
       "      <td>United Kingdom7</td>\n",
       "    </tr>\n",
       "    <tr>\n",
       "      <th>60394</th>\n",
       "      <td>2019-07-31</td>\n",
       "      <td>20190731</td>\n",
       "      <td>530</td>\n",
       "      <td>18178</td>\n",
       "      <td>10</td>\n",
       "      <td>SO75117</td>\n",
       "      <td>2019-08-07</td>\n",
       "      <td>1</td>\n",
       "      <td>1</td>\n",
       "      <td>4.9900</td>\n",
       "      <td>4.9900</td>\n",
       "      <td>0</td>\n",
       "      <td>0</td>\n",
       "      <td>1.8663</td>\n",
       "      <td>1.8663</td>\n",
       "      <td>4.9900</td>\n",
       "      <td>0.3992</td>\n",
       "      <td>0.1248</td>\n",
       "      <td>United Kingdom7</td>\n",
       "    </tr>\n",
       "    <tr>\n",
       "      <th>60395</th>\n",
       "      <td>2019-07-31</td>\n",
       "      <td>20190731</td>\n",
       "      <td>467</td>\n",
       "      <td>18178</td>\n",
       "      <td>10</td>\n",
       "      <td>SO75117</td>\n",
       "      <td>2019-08-07</td>\n",
       "      <td>2</td>\n",
       "      <td>1</td>\n",
       "      <td>24.4900</td>\n",
       "      <td>24.4900</td>\n",
       "      <td>0</td>\n",
       "      <td>0</td>\n",
       "      <td>9.1593</td>\n",
       "      <td>9.1593</td>\n",
       "      <td>24.4900</td>\n",
       "      <td>1.9592</td>\n",
       "      <td>0.6123</td>\n",
       "      <td>United Kingdom7</td>\n",
       "    </tr>\n",
       "    <tr>\n",
       "      <th>60396</th>\n",
       "      <td>2019-07-31</td>\n",
       "      <td>20190731</td>\n",
       "      <td>477</td>\n",
       "      <td>18529</td>\n",
       "      <td>5</td>\n",
       "      <td>SO75103</td>\n",
       "      <td>2019-08-07</td>\n",
       "      <td>1</td>\n",
       "      <td>1</td>\n",
       "      <td>4.9900</td>\n",
       "      <td>4.9900</td>\n",
       "      <td>0</td>\n",
       "      <td>0</td>\n",
       "      <td>1.8663</td>\n",
       "      <td>1.8663</td>\n",
       "      <td>4.9900</td>\n",
       "      <td>0.3992</td>\n",
       "      <td>0.1248</td>\n",
       "      <td>Southeast7</td>\n",
       "    </tr>\n",
       "    <tr>\n",
       "      <th>60397</th>\n",
       "      <td>2019-07-31</td>\n",
       "      <td>20190731</td>\n",
       "      <td>217</td>\n",
       "      <td>18529</td>\n",
       "      <td>5</td>\n",
       "      <td>SO75103</td>\n",
       "      <td>2019-08-07</td>\n",
       "      <td>2</td>\n",
       "      <td>1</td>\n",
       "      <td>34.9900</td>\n",
       "      <td>34.9900</td>\n",
       "      <td>0</td>\n",
       "      <td>0</td>\n",
       "      <td>13.0863</td>\n",
       "      <td>13.0863</td>\n",
       "      <td>34.9900</td>\n",
       "      <td>2.7992</td>\n",
       "      <td>0.8748</td>\n",
       "      <td>Southeast7</td>\n",
       "    </tr>\n",
       "  </tbody>\n",
       "</table>\n",
       "<p>60398 rows × 19 columns</p>\n",
       "</div>"
      ],
      "text/plain": [
       "       OrderDate  OrderDate Key  ProductKey  CustomerKey  SalesTerritoryKey  \\\n",
       "0     2016-07-01       20160701         336        14501                  4   \n",
       "1     2016-07-01       20160701         346        25863                  1   \n",
       "2     2016-07-01       20160701         346        28389                  7   \n",
       "3     2016-07-01       20160701         310        21768                  6   \n",
       "4     2016-07-01       20160701         346        11003                  9   \n",
       "...          ...            ...         ...          ...                ...   \n",
       "60393 2019-07-31       20190731         530        16402                 10   \n",
       "60394 2019-07-31       20190731         530        18178                 10   \n",
       "60395 2019-07-31       20190731         467        18178                 10   \n",
       "60396 2019-07-31       20190731         477        18529                  5   \n",
       "60397 2019-07-31       20190731         217        18529                  5   \n",
       "\n",
       "      SalesOrderNumber   ShipDate  SalesOrderLineNumber  OrderQuantity  \\\n",
       "0              SO43700 2016-07-08                     1              1   \n",
       "1              SO43699 2016-07-08                     1              1   \n",
       "2              SO43698 2016-07-08                     1              1   \n",
       "3              SO43697 2016-07-08                     1              1   \n",
       "4              SO43701 2016-07-08                     1              1   \n",
       "...                ...        ...                   ...            ...   \n",
       "60393          SO75116 2019-08-07                     1              1   \n",
       "60394          SO75117 2019-08-07                     1              1   \n",
       "60395          SO75117 2019-08-07                     2              1   \n",
       "60396          SO75103 2019-08-07                     1              1   \n",
       "60397          SO75103 2019-08-07                     2              1   \n",
       "\n",
       "       UnitPrice  ExtendedAmount  UnitPriceDiscountPct  DiscountAmount  \\\n",
       "0       699.0982        699.0982                     0               0   \n",
       "1      3399.9900       3399.9900                     0               0   \n",
       "2      3399.9900       3399.9900                     0               0   \n",
       "3      3578.2700       3578.2700                     0               0   \n",
       "4      3399.9900       3399.9900                     0               0   \n",
       "...          ...             ...                   ...             ...   \n",
       "60393     4.9900          4.9900                     0               0   \n",
       "60394     4.9900          4.9900                     0               0   \n",
       "60395    24.4900         24.4900                     0               0   \n",
       "60396     4.9900          4.9900                     0               0   \n",
       "60397    34.9900         34.9900                     0               0   \n",
       "\n",
       "       ProductStandardCost  TotalProductCost  SalesAmount    TaxAmt  Freight  \\\n",
       "0                 413.1463          413.1463     699.0982   55.9279  17.4775   \n",
       "1                1912.1544         1912.1544    3399.9900  271.9992  84.9998   \n",
       "2                1912.1544         1912.1544    3399.9900  271.9992  84.9998   \n",
       "3                2171.2942         2171.2942    3578.2700  286.2616  89.4568   \n",
       "4                1912.1544         1912.1544    3399.9900  271.9992  84.9998   \n",
       "...                    ...               ...          ...       ...      ...   \n",
       "60393               1.8663            1.8663       4.9900    0.3992   0.1248   \n",
       "60394               1.8663            1.8663       4.9900    0.3992   0.1248   \n",
       "60395               9.1593            9.1593      24.4900    1.9592   0.6123   \n",
       "60396               1.8663            1.8663       4.9900    0.3992   0.1248   \n",
       "60397              13.0863           13.0863      34.9900    2.7992   0.8748   \n",
       "\n",
       "         RegionMonthID  \n",
       "0           Southwest7  \n",
       "1           Northwest7  \n",
       "2              France7  \n",
       "3              Canada7  \n",
       "4           Australia7  \n",
       "...                ...  \n",
       "60393  United Kingdom7  \n",
       "60394  United Kingdom7  \n",
       "60395  United Kingdom7  \n",
       "60396       Southeast7  \n",
       "60397       Southeast7  \n",
       "\n",
       "[60398 rows x 19 columns]"
      ]
     },
     "execution_count": 10,
     "metadata": {},
     "output_type": "execute_result"
    }
   ],
   "source": [
    "sales_table"
   ]
  },
  {
   "cell_type": "code",
   "execution_count": 13,
   "id": "fa28dc7f",
   "metadata": {},
   "outputs": [
    {
     "data": {
      "text/plain": [
       "Index(['OrderDate', 'OrderDate Key', 'ProductKey', 'CustomerKey',\n",
       "       'SalesTerritoryKey', 'SalesOrderNumber', 'ShipDate',\n",
       "       'SalesOrderLineNumber', 'OrderQuantity', 'UnitPrice', 'ExtendedAmount',\n",
       "       'UnitPriceDiscountPct', 'DiscountAmount', 'ProductStandardCost',\n",
       "       'TotalProductCost', 'SalesAmount', 'TaxAmt', 'Freight',\n",
       "       'RegionMonthID'],\n",
       "      dtype='object')"
      ]
     },
     "execution_count": 13,
     "metadata": {},
     "output_type": "execute_result"
    }
   ],
   "source": [
    "sales_table.columns"
   ]
  },
  {
   "cell_type": "code",
   "execution_count": null,
   "id": "fda67053",
   "metadata": {},
   "outputs": [],
   "source": [
    "### Dependent Veriable ---> Sales Amount\n",
    "### Independent Veriable ---> TotalProductCost, OrderQuantity, TaxAmt, SalesTerritoryKey, UnitPrice"
   ]
  },
  {
   "cell_type": "code",
   "execution_count": 14,
   "id": "0700f929",
   "metadata": {},
   "outputs": [],
   "source": [
    "dependent_veriable = sales_table['SalesAmount']\n",
    "indipendent_veriable = sales_table[['TotalProductCost', 'OrderQuantity', 'TaxAmt', 'SalesTerritoryKey', 'UnitPrice']]"
   ]
  },
  {
   "cell_type": "code",
   "execution_count": 15,
   "id": "d5fd54cf",
   "metadata": {},
   "outputs": [
    {
     "data": {
      "text/html": [
       "<div>\n",
       "<style scoped>\n",
       "    .dataframe tbody tr th:only-of-type {\n",
       "        vertical-align: middle;\n",
       "    }\n",
       "\n",
       "    .dataframe tbody tr th {\n",
       "        vertical-align: top;\n",
       "    }\n",
       "\n",
       "    .dataframe thead th {\n",
       "        text-align: right;\n",
       "    }\n",
       "</style>\n",
       "<table border=\"1\" class=\"dataframe\">\n",
       "  <thead>\n",
       "    <tr style=\"text-align: right;\">\n",
       "      <th></th>\n",
       "      <th>TotalProductCost</th>\n",
       "      <th>OrderQuantity</th>\n",
       "      <th>TaxAmt</th>\n",
       "      <th>SalesTerritoryKey</th>\n",
       "      <th>UnitPrice</th>\n",
       "    </tr>\n",
       "  </thead>\n",
       "  <tbody>\n",
       "    <tr>\n",
       "      <th>0</th>\n",
       "      <td>413.1463</td>\n",
       "      <td>1</td>\n",
       "      <td>55.9279</td>\n",
       "      <td>4</td>\n",
       "      <td>699.0982</td>\n",
       "    </tr>\n",
       "    <tr>\n",
       "      <th>1</th>\n",
       "      <td>1912.1544</td>\n",
       "      <td>1</td>\n",
       "      <td>271.9992</td>\n",
       "      <td>1</td>\n",
       "      <td>3399.9900</td>\n",
       "    </tr>\n",
       "    <tr>\n",
       "      <th>2</th>\n",
       "      <td>1912.1544</td>\n",
       "      <td>1</td>\n",
       "      <td>271.9992</td>\n",
       "      <td>7</td>\n",
       "      <td>3399.9900</td>\n",
       "    </tr>\n",
       "    <tr>\n",
       "      <th>3</th>\n",
       "      <td>2171.2942</td>\n",
       "      <td>1</td>\n",
       "      <td>286.2616</td>\n",
       "      <td>6</td>\n",
       "      <td>3578.2700</td>\n",
       "    </tr>\n",
       "    <tr>\n",
       "      <th>4</th>\n",
       "      <td>1912.1544</td>\n",
       "      <td>1</td>\n",
       "      <td>271.9992</td>\n",
       "      <td>9</td>\n",
       "      <td>3399.9900</td>\n",
       "    </tr>\n",
       "    <tr>\n",
       "      <th>...</th>\n",
       "      <td>...</td>\n",
       "      <td>...</td>\n",
       "      <td>...</td>\n",
       "      <td>...</td>\n",
       "      <td>...</td>\n",
       "    </tr>\n",
       "    <tr>\n",
       "      <th>60393</th>\n",
       "      <td>1.8663</td>\n",
       "      <td>1</td>\n",
       "      <td>0.3992</td>\n",
       "      <td>10</td>\n",
       "      <td>4.9900</td>\n",
       "    </tr>\n",
       "    <tr>\n",
       "      <th>60394</th>\n",
       "      <td>1.8663</td>\n",
       "      <td>1</td>\n",
       "      <td>0.3992</td>\n",
       "      <td>10</td>\n",
       "      <td>4.9900</td>\n",
       "    </tr>\n",
       "    <tr>\n",
       "      <th>60395</th>\n",
       "      <td>9.1593</td>\n",
       "      <td>1</td>\n",
       "      <td>1.9592</td>\n",
       "      <td>10</td>\n",
       "      <td>24.4900</td>\n",
       "    </tr>\n",
       "    <tr>\n",
       "      <th>60396</th>\n",
       "      <td>1.8663</td>\n",
       "      <td>1</td>\n",
       "      <td>0.3992</td>\n",
       "      <td>5</td>\n",
       "      <td>4.9900</td>\n",
       "    </tr>\n",
       "    <tr>\n",
       "      <th>60397</th>\n",
       "      <td>13.0863</td>\n",
       "      <td>1</td>\n",
       "      <td>2.7992</td>\n",
       "      <td>5</td>\n",
       "      <td>34.9900</td>\n",
       "    </tr>\n",
       "  </tbody>\n",
       "</table>\n",
       "<p>60398 rows × 5 columns</p>\n",
       "</div>"
      ],
      "text/plain": [
       "       TotalProductCost  OrderQuantity    TaxAmt  SalesTerritoryKey  UnitPrice\n",
       "0              413.1463              1   55.9279                  4   699.0982\n",
       "1             1912.1544              1  271.9992                  1  3399.9900\n",
       "2             1912.1544              1  271.9992                  7  3399.9900\n",
       "3             2171.2942              1  286.2616                  6  3578.2700\n",
       "4             1912.1544              1  271.9992                  9  3399.9900\n",
       "...                 ...            ...       ...                ...        ...\n",
       "60393            1.8663              1    0.3992                 10     4.9900\n",
       "60394            1.8663              1    0.3992                 10     4.9900\n",
       "60395            9.1593              1    1.9592                 10    24.4900\n",
       "60396            1.8663              1    0.3992                  5     4.9900\n",
       "60397           13.0863              1    2.7992                  5    34.9900\n",
       "\n",
       "[60398 rows x 5 columns]"
      ]
     },
     "execution_count": 15,
     "metadata": {},
     "output_type": "execute_result"
    }
   ],
   "source": [
    "indipendent_veriable"
   ]
  },
  {
   "cell_type": "code",
   "execution_count": 21,
   "id": "f13a181e",
   "metadata": {},
   "outputs": [
    {
     "data": {
      "text/html": [
       "<table class=\"simpletable\">\n",
       "<caption>OLS Regression Results</caption>\n",
       "<tr>\n",
       "  <th>Dep. Variable:</th>       <td>SalesAmount</td>   <th>  R-squared:         </th>  <td>   1.000</td> \n",
       "</tr>\n",
       "<tr>\n",
       "  <th>Model:</th>                   <td>OLS</td>       <th>  Adj. R-squared:    </th>  <td>   1.000</td> \n",
       "</tr>\n",
       "<tr>\n",
       "  <th>Method:</th>             <td>Least Squares</td>  <th>  F-statistic:       </th>  <td>5.714e+20</td>\n",
       "</tr>\n",
       "<tr>\n",
       "  <th>Date:</th>             <td>Sun, 05 Jun 2022</td> <th>  Prob (F-statistic):</th>   <td>  0.00</td>  \n",
       "</tr>\n",
       "<tr>\n",
       "  <th>Time:</th>                 <td>17:50:13</td>     <th>  Log-Likelihood:    </th> <td>6.5433e+05</td>\n",
       "</tr>\n",
       "<tr>\n",
       "  <th>No. Observations:</th>      <td> 60398</td>      <th>  AIC:               </th> <td>-1.309e+06</td>\n",
       "</tr>\n",
       "<tr>\n",
       "  <th>Df Residuals:</th>          <td> 60393</td>      <th>  BIC:               </th> <td>-1.309e+06</td>\n",
       "</tr>\n",
       "<tr>\n",
       "  <th>Df Model:</th>              <td>     4</td>      <th>                     </th>      <td> </td>    \n",
       "</tr>\n",
       "<tr>\n",
       "  <th>Covariance Type:</th>      <td>nonrobust</td>    <th>                     </th>      <td> </td>    \n",
       "</tr>\n",
       "</table>\n",
       "<table class=\"simpletable\">\n",
       "<tr>\n",
       "          <td></td>             <th>coef</th>     <th>std err</th>      <th>t</th>      <th>P>|t|</th>  <th>[0.025</th>    <th>0.975]</th>  \n",
       "</tr>\n",
       "<tr>\n",
       "  <th>TotalProductCost</th>  <td> 4.441e-16</td> <td> 5.74e-10</td> <td> 7.74e-07</td> <td> 1.000</td> <td>-1.12e-09</td> <td> 1.12e-09</td>\n",
       "</tr>\n",
       "<tr>\n",
       "  <th>OrderQuantity</th>     <td> 3.553e-13</td> <td>  4.6e-08</td> <td> 7.73e-06</td> <td> 1.000</td> <td>-9.01e-08</td> <td> 9.01e-08</td>\n",
       "</tr>\n",
       "<tr>\n",
       "  <th>TaxAmt</th>            <td>-5.402e-08</td> <td>    0.004</td> <td>-1.49e-05</td> <td> 1.000</td> <td>   -0.007</td> <td>    0.007</td>\n",
       "</tr>\n",
       "<tr>\n",
       "  <th>SalesTerritoryKey</th> <td> 1.377e-14</td> <td> 6.58e-09</td> <td> 2.09e-06</td> <td> 1.000</td> <td>-1.29e-08</td> <td> 1.29e-08</td>\n",
       "</tr>\n",
       "<tr>\n",
       "  <th>UnitPrice</th>         <td>    1.0000</td> <td>    0.000</td> <td> 3438.728</td> <td> 0.000</td> <td>    0.999</td> <td>    1.001</td>\n",
       "</tr>\n",
       "</table>\n",
       "<table class=\"simpletable\">\n",
       "<tr>\n",
       "  <th>Omnibus:</th>       <td>20631.738</td> <th>  Durbin-Watson:     </th> <td>   0.463</td> \n",
       "</tr>\n",
       "<tr>\n",
       "  <th>Prob(Omnibus):</th>  <td> 0.000</td>   <th>  Jarque-Bera (JB):  </th> <td>53294.689</td>\n",
       "</tr>\n",
       "<tr>\n",
       "  <th>Skew:</th>           <td> 1.927</td>   <th>  Prob(JB):          </th> <td>    0.00</td> \n",
       "</tr>\n",
       "<tr>\n",
       "  <th>Kurtosis:</th>       <td> 5.513</td>   <th>  Cond. No.          </th> <td>2.29e+08</td> \n",
       "</tr>\n",
       "</table><br/><br/>Notes:<br/>[1] Standard Errors assume that the covariance matrix of the errors is correctly specified.<br/>[2] The condition number is large, 2.29e+08. This might indicate that there are<br/>strong multicollinearity or other numerical problems."
      ],
      "text/plain": [
       "<class 'statsmodels.iolib.summary.Summary'>\n",
       "\"\"\"\n",
       "                            OLS Regression Results                            \n",
       "==============================================================================\n",
       "Dep. Variable:            SalesAmount   R-squared:                       1.000\n",
       "Model:                            OLS   Adj. R-squared:                  1.000\n",
       "Method:                 Least Squares   F-statistic:                 5.714e+20\n",
       "Date:                Sun, 05 Jun 2022   Prob (F-statistic):               0.00\n",
       "Time:                        17:50:13   Log-Likelihood:             6.5433e+05\n",
       "No. Observations:               60398   AIC:                        -1.309e+06\n",
       "Df Residuals:                   60393   BIC:                        -1.309e+06\n",
       "Df Model:                           4                                         \n",
       "Covariance Type:            nonrobust                                         \n",
       "=====================================================================================\n",
       "                        coef    std err          t      P>|t|      [0.025      0.975]\n",
       "-------------------------------------------------------------------------------------\n",
       "TotalProductCost   4.441e-16   5.74e-10   7.74e-07      1.000   -1.12e-09    1.12e-09\n",
       "OrderQuantity      3.553e-13    4.6e-08   7.73e-06      1.000   -9.01e-08    9.01e-08\n",
       "TaxAmt            -5.402e-08      0.004  -1.49e-05      1.000      -0.007       0.007\n",
       "SalesTerritoryKey  1.377e-14   6.58e-09   2.09e-06      1.000   -1.29e-08    1.29e-08\n",
       "UnitPrice             1.0000      0.000   3438.728      0.000       0.999       1.001\n",
       "==============================================================================\n",
       "Omnibus:                    20631.738   Durbin-Watson:                   0.463\n",
       "Prob(Omnibus):                  0.000   Jarque-Bera (JB):            53294.689\n",
       "Skew:                           1.927   Prob(JB):                         0.00\n",
       "Kurtosis:                       5.513   Cond. No.                     2.29e+08\n",
       "==============================================================================\n",
       "\n",
       "Notes:\n",
       "[1] Standard Errors assume that the covariance matrix of the errors is correctly specified.\n",
       "[2] The condition number is large, 2.29e+08. This might indicate that there are\n",
       "strong multicollinearity or other numerical problems.\n",
       "\"\"\""
      ]
     },
     "execution_count": 21,
     "metadata": {},
     "output_type": "execute_result"
    }
   ],
   "source": [
    "regression_model = sm.OLS(dependent_veriable, indipendent_veriable)\n",
    "results = regression_model.fit()\n",
    "results.summary()"
   ]
  },
  {
   "cell_type": "code",
   "execution_count": null,
   "id": "5d8a589b",
   "metadata": {},
   "outputs": [],
   "source": []
  },
  {
   "cell_type": "code",
   "execution_count": null,
   "id": "fc9b7586",
   "metadata": {},
   "outputs": [],
   "source": []
  },
  {
   "cell_type": "code",
   "execution_count": null,
   "id": "13e1e8ad",
   "metadata": {},
   "outputs": [],
   "source": []
  },
  {
   "cell_type": "code",
   "execution_count": null,
   "id": "ea4195ba",
   "metadata": {},
   "outputs": [],
   "source": []
  },
  {
   "cell_type": "code",
   "execution_count": null,
   "id": "ce66cbd8",
   "metadata": {},
   "outputs": [],
   "source": []
  },
  {
   "cell_type": "code",
   "execution_count": null,
   "id": "14ce447f",
   "metadata": {},
   "outputs": [],
   "source": []
  },
  {
   "cell_type": "code",
   "execution_count": null,
   "id": "62a17320",
   "metadata": {},
   "outputs": [],
   "source": []
  },
  {
   "cell_type": "code",
   "execution_count": null,
   "id": "655a4091",
   "metadata": {},
   "outputs": [],
   "source": []
  }
 ],
 "metadata": {
  "kernelspec": {
   "display_name": "Python 3",
   "language": "python",
   "name": "python3"
  },
  "language_info": {
   "codemirror_mode": {
    "name": "ipython",
    "version": 3
   },
   "file_extension": ".py",
   "mimetype": "text/x-python",
   "name": "python",
   "nbconvert_exporter": "python",
   "pygments_lexer": "ipython3",
   "version": "3.8.8"
  }
 },
 "nbformat": 4,
 "nbformat_minor": 5
}
